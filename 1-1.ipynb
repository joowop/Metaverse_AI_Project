{
 "cells": [
  {
   "cell_type": "markdown",
   "id": "ba5a21dd",
   "metadata": {},
   "source": [
    "# numpy"
   ]
  },
  {
   "cell_type": "markdown",
   "id": "7f0ced17",
   "metadata": {},
   "source": [
    "#### 가상환경 접속 (base -> py)\n",
    "anaconda prompt -> conda create -n py -> conda activate py\n",
    "\n",
    "py 폴더 생성 : conda create -n py\n",
    "module 설치 : conda install"
   ]
  },
  {
   "cell_type": "code",
   "execution_count": 1,
   "id": "b223170b",
   "metadata": {
    "scrolled": true
   },
   "outputs": [
    {
     "name": "stdout",
     "output_type": "stream",
     "text": [
      "Name: numpy\n",
      "Version: 1.24.3\n",
      "Summary: Fundamental package for array computing in Python\n",
      "Home-page: https://www.numpy.org\n",
      "Author: Travis E. Oliphant et al.\n",
      "Author-email: \n",
      "License: BSD-3-Clause\n",
      "Location: C:\\Users\\user\\miniconda3\\envs\\py\\Lib\\site-packages\n",
      "Requires: \n",
      "Required-by: mkl-fft, mkl-random\n"
     ]
    }
   ],
   "source": [
    "!pip show numpy"
   ]
  },
  {
   "cell_type": "markdown",
   "id": "11cdbc3e",
   "metadata": {},
   "source": [
    "#### dtype"
   ]
  },
  {
   "cell_type": "code",
   "execution_count": 4,
   "id": "77da8951",
   "metadata": {},
   "outputs": [
    {
     "name": "stdout",
     "output_type": "stream",
     "text": [
      "[0. 0. 0. 0. 0.] <class 'numpy.ndarray'> float64\n"
     ]
    },
    {
     "data": {
      "text/plain": [
       "array([256., 256., 256., 256., 256.])"
      ]
     },
     "execution_count": 4,
     "metadata": {},
     "output_type": "execute_result"
    }
   ],
   "source": [
    "# import와 from의 차이점\n",
    "\n",
    "# from PIL import Image ### PIL 폴더안의 Image.py를 실행함\n",
    "\n",
    "import numpy as np ### numpy 폴더의 init.py 를 실행함\n",
    "\n",
    "tmp = np.zeros(5)\n",
    "print(tmp, type(tmp), tmp.dtype)\n",
    "tmp[...] = 256\n",
    "tmp"
   ]
  },
  {
   "cell_type": "markdown",
   "id": "f8c90ff9",
   "metadata": {},
   "source": [
    "#### 타입변경 명령 : astype "
   ]
  },
  {
   "cell_type": "code",
   "execution_count": 5,
   "id": "8f26d5bd",
   "metadata": {},
   "outputs": [
    {
     "data": {
      "text/plain": [
       "array([0, 0, 0, 0, 0], dtype=uint8)"
      ]
     },
     "execution_count": 5,
     "metadata": {},
     "output_type": "execute_result"
    }
   ],
   "source": [
    "# 타입변경 명령어 => astype으로 float에서 uint로 변경 할 때 사용\n",
    "# 이미지처리에서 위 타입변경이 중요하다. ( 이미지의 색깔 때문.)\n",
    "# RGB => 0 ~ 255까지의 크기를 갖고 타입은 uint8이다.\n",
    "\n",
    "tmp.astype('uint8') # uint8 => 255. 까지이고 256은 0, 257은 1이다."
   ]
  },
  {
   "cell_type": "markdown",
   "id": "596e022f",
   "metadata": {},
   "source": [
    "####  list, array 차이점"
   ]
  },
  {
   "cell_type": "code",
   "execution_count": 6,
   "id": "b3504dff",
   "metadata": {},
   "outputs": [
    {
     "name": "stdout",
     "output_type": "stream",
     "text": [
      "<class 'list'> <class 'numpy.ndarray'>\n"
     ]
    },
    {
     "data": {
      "text/plain": [
       "([1, 2, 1, 1, 3, 4, 3], [1, 2, 1, 1, 3, 4, 1, 2, 1, 1, 3, 4, 1, 2, 1, 1, 3, 4])"
      ]
     },
     "execution_count": 6,
     "metadata": {},
     "output_type": "execute_result"
    }
   ],
   "source": [
    "# list 장점 : 막쓴다. 막넣는다. 단점 : 느리다. 속도가 느리다. (실제 연산이 아니라 추가 개념이다)\n",
    "# 연산을 할거면 => array\n",
    "a = [1,2,1,1,3,4]\n",
    "b = np.array(a)\n",
    "print(type(a), type(b))\n",
    "a + [3], a * 3"
   ]
  },
  {
   "cell_type": "markdown",
   "id": "774f9696",
   "metadata": {},
   "source": [
    "#### 스칼라 -> 벡터 -> 리스트 -> array -> 텐서\n",
    "#### a = 3  --> 스칼라\n",
    "#### a = [3] --> 벡터\n",
    "#### a = [[2,1,3], [2,3,4]]  b = [[2,1,3], [2,3,4]] --> 행열\n",
    "#### tensor = [[a,b]], tensor = [ [[2,3,1], [2,1,2]]] --> tensor"
   ]
  },
  {
   "cell_type": "markdown",
   "id": "b38c2b99",
   "metadata": {},
   "source": [
    "### reshape : 형변환"
   ]
  },
  {
   "cell_type": "code",
   "execution_count": 10,
   "id": "67926b03",
   "metadata": {},
   "outputs": [
    {
     "data": {
      "text/plain": [
       "(0,\n",
       " array([0]),\n",
       " array([[ 0],\n",
       "        [ 1],\n",
       "        [ 2],\n",
       "        [ 3],\n",
       "        [ 4],\n",
       "        [ 5],\n",
       "        [ 6],\n",
       "        [ 7],\n",
       "        [ 8],\n",
       "        [ 9],\n",
       "        [10],\n",
       "        [11],\n",
       "        [12],\n",
       "        [13],\n",
       "        [14],\n",
       "        [15],\n",
       "        [16],\n",
       "        [17],\n",
       "        [18],\n",
       "        [19],\n",
       "        [20],\n",
       "        [21],\n",
       "        [22],\n",
       "        [23]]))"
      ]
     },
     "execution_count": 10,
     "metadata": {},
     "output_type": "execute_result"
    }
   ],
   "source": [
    "x = np.arange(24) ### 각 행에 1개의 스칼라값이 있음\n",
    "x, np.shape(x), len(x)\n",
    "\n",
    "y = x.reshape(24,1) ### 각 행에 1개의 벡터값이 있음\n",
    "z = x.reshape(1, 24, 1) ### 3차원 array\n",
    "\n",
    "# 데이터를 수정할 때 행 열 구분 법 => x[0] + 1, y[0][0] + 1 이런식으로 변경해야된다. \n",
    "\n",
    "# indexing 주의!!\n",
    "# x[0], y[0][0]\n",
    "x[0], y[0], z[0]"
   ]
  },
  {
   "cell_type": "code",
   "execution_count": 9,
   "id": "fbb0d238",
   "metadata": {},
   "outputs": [
    {
     "data": {
      "text/plain": [
       "array([[[ 0,  1],\n",
       "        [ 2,  3],\n",
       "        [ 4,  5],\n",
       "        [ 6,  7],\n",
       "        [ 8,  9],\n",
       "        [10, 11],\n",
       "        [12, 13],\n",
       "        [14, 15],\n",
       "        [16, 17],\n",
       "        [18, 19],\n",
       "        [20, 21],\n",
       "        [22, 23]]])"
      ]
     },
     "execution_count": 9,
     "metadata": {},
     "output_type": "execute_result"
    }
   ],
   "source": [
    "x.reshape(24, -1) ### -1은 알아서 해라.\n",
    "x.reshape(1, 12, -1) ### 3차원 arary"
   ]
  },
  {
   "cell_type": "markdown",
   "id": "2af3334f",
   "metadata": {},
   "source": [
    "#### image   자료"
   ]
  },
  {
   "cell_type": "code",
   "execution_count": 29,
   "id": "f23aacd6",
   "metadata": {},
   "outputs": [
    {
     "data": {
      "text/plain": [
       "(dtype('uint8'),\n",
       " array([[[150,  55,  50, 150,  55],\n",
       "         [ 50,  49,  50,  50,  55]],\n",
       " \n",
       "        [[150, 100,  50, 150,  53],\n",
       "         [ 50,  49,  51,  50,  53]]], dtype=uint8),\n",
       " (2, 5),\n",
       " (2, 2, 5))"
      ]
     },
     "execution_count": 29,
     "metadata": {},
     "output_type": "execute_result"
    }
   ],
   "source": [
    "x1 = np.array([[100, 5, 0, 100, 5],[0,255,0,0, 5]])   # array\n",
    "x2 = np.array([[100, 50, 0, 100, 3],[0,255,257,0, 3]])# array\n",
    "\n",
    "type(x1), type(x2) \n",
    "\n",
    "img = np.array([x1, x2])                  # tensor\n",
    "imgs = img.astype('uint8')\n",
    "\n",
    "imgs = imgs+50\n",
    "imgs.dtype, imgs, np.shape(x1), np.shape(imgs)"
   ]
  },
  {
   "cell_type": "code",
   "execution_count": 23,
   "id": "c12a18b5",
   "metadata": {},
   "outputs": [
    {
     "name": "stdout",
     "output_type": "stream",
     "text": [
      "Requirement already satisfied: PILLOW in c:\\users\\user\\miniconda3\\envs\\py\\lib\\site-packages (9.5.0)\n"
     ]
    }
   ],
   "source": [
    "# !pip install matplotlib\n",
    "!pip install PILLOW # 이미지 처리"
   ]
  },
  {
   "cell_type": "code",
   "execution_count": 24,
   "id": "89e5c46d",
   "metadata": {},
   "outputs": [
    {
     "name": "stdout",
     "output_type": "stream",
     "text": [
      "Name: matplotlib\n",
      "Version: 3.7.1\n",
      "Summary: Python plotting package\n",
      "Home-page: https://matplotlib.org\n",
      "Author: John D. Hunter, Michael Droettboom\n",
      "Author-email: matplotlib-users@python.org\n",
      "License: PSF\n",
      "Location: C:\\Users\\user\\miniconda3\\envs\\py\\Lib\\site-packages\n",
      "Requires: contourpy, cycler, fonttools, kiwisolver, numpy, packaging, pillow, pyparsing, python-dateutil\n",
      "Required-by: \n",
      "Note: you may need to restart the kernel to use updated packages.\n"
     ]
    }
   ],
   "source": [
    "pip show matplotlib"
   ]
  },
  {
   "cell_type": "code",
   "execution_count": 32,
   "id": "b6161129",
   "metadata": {},
   "outputs": [
    {
     "data": {
      "text/plain": [
       "<matplotlib.image.AxesImage at 0x2264fc52190>"
      ]
     },
     "execution_count": 32,
     "metadata": {},
     "output_type": "execute_result"
    },
    {
     "data": {
      "image/png": "[encoded data removed]",
      "text/plain": [
       "<Figure size 640x480 with 1 Axes>"
      ]
     },
     "metadata": {},
     "output_type": "display_data"
    }
   ],
   "source": [
    "import matplotlib.pyplot as plt\n",
    "plt.imshow(x1, cmap = 'gray')\n",
    "plt.imshow(imgs[0], cmap = 'gray') # plt는 한번에 하나의 자료만 보여주는데 imgs는 자료가 두개이기 때문에 imgs[0], imgs[1] 이런식으로 봐야한다.\n"
   ]
  },
  {
   "cell_type": "code",
   "execution_count": 47,
   "id": "55f4ccc7",
   "metadata": {},
   "outputs": [
    {
     "name": "stdout",
     "output_type": "stream",
     "text": [
      "(2, 10)\n",
      "(2, 2, 5)\n"
     ]
    }
   ],
   "source": [
    "x1 = [1,2,3,4,5,5,6,4,1,2]\n",
    "x2 = [1,7,2,1,6,2,1,34,1,2]\n",
    "imgs = np.array([x1, x2])\n",
    "print(imgs.shape)\n",
    "imgs = imgs.reshape(2,2,-1)\n",
    "print(imgs.shape)"
   ]
  },
  {
   "cell_type": "code",
   "execution_count": 41,
   "id": "c7bb0119",
   "metadata": {},
   "outputs": [
    {
     "data": {
      "text/plain": [
       "((3,), (3,))"
      ]
     },
     "execution_count": 41,
     "metadata": {},
     "output_type": "execute_result"
    }
   ],
   "source": [
    "# 리스트 구조와  array구조의 차이점 shape, reshape\n",
    "a = [1,2,3]\n",
    "b = np.array([1,2,3])\n",
    "np.shape(a), b.shape\n",
    "np.reshape(a, (3,1)), b.reshape(3,1)"
   ]
  },
  {
   "cell_type": "code",
   "execution_count": 37,
   "id": "e47fb9cb",
   "metadata": {},
   "outputs": [
    {
     "data": {
      "image/png": "[encoded data removed]",
      "text/plain": [
       "<Figure size 640x480 with 2 Axes>"
      ]
     },
     "metadata": {},
     "output_type": "display_data"
    }
   ],
   "source": [
    "sample_cnt = 5\n",
    "for cnt, x in enumerate(imgs[:sample_cnt]):\n",
    "    cnt += 1\n",
    "    plt.subplot(1, sample_cnt, cnt) # len(imgs) ==> np.shape(imgs)[0]\n",
    "    plt.imshow(x, cmap = 'gray')"
   ]
  },
  {
   "cell_type": "markdown",
   "id": "c3ca1e94",
   "metadata": {},
   "source": [
    "### 랜덤 "
   ]
  },
  {
   "cell_type": "code",
   "execution_count": 121,
   "id": "f393d9b4",
   "metadata": {},
   "outputs": [
    {
     "data": {
      "text/plain": [
       "<matplotlib.image.AxesImage at 0x22656f7dfd0>"
      ]
     },
     "execution_count": 121,
     "metadata": {},
     "output_type": "execute_result"
    },
    {
     "data": {
      "image/png": "[encoded data removed]",
      "text/plain": [
       "<Figure size 640x480 with 1 Axes>"
      ]
     },
     "metadata": {},
     "output_type": "display_data"
    }
   ],
   "source": [
    "# 실행할때마다 값이 다름\n",
    "# img 노이즈 데이터 만들기\n",
    "\n",
    "y = np.random.normal(size = 2500)\n",
    "y[y<0]=100\n",
    "np.min(y), np.max(y)\n",
    "# # x = np.arange(len(y))\n",
    "# # plt.bar(x, y)\n",
    "# # plt.hist(y)\n",
    "img = y.reshape(50, 50)\n",
    "# img[img>100]=0\n",
    "plt.imshow(img, cmap = 'gray')"
   ]
  },
  {
   "cell_type": "code",
   "execution_count": 53,
   "id": "b0458855",
   "metadata": {},
   "outputs": [
    {
     "data": {
      "text/plain": [
       "array([ 0.2438351 , -0.74731818, -1.56117699, -0.46425312, -0.35206234,\n",
       "       -1.28149188])"
      ]
     },
     "execution_count": 53,
     "metadata": {},
     "output_type": "execute_result"
    }
   ],
   "source": [
    "# random 이긴 하지만 random.seed 넘버를 지정하면 같은 값이 출력됨 \n",
    "np.random.seed(34)\n",
    "x = np.random.normal(size = 6)\n",
    "x"
   ]
  },
  {
   "cell_type": "code",
   "execution_count": 127,
   "id": "bc2bf629",
   "metadata": {},
   "outputs": [
    {
     "data": {
      "text/plain": [
       "array([[50, 50, 50, 50, 50],\n",
       "       [ 5,  6,  7,  8,  9],\n",
       "       [10, 11, 12, 13, 14]])"
      ]
     },
     "execution_count": 127,
     "metadata": {},
     "output_type": "execute_result"
    }
   ],
   "source": [
    "a = np.arange(15).reshape(3,5)\n",
    "for row, rowData in enumerate(a):\n",
    "#     print(row)\n",
    "    for col,colData in enumerate(rowData):\n",
    "        if colData<5:\n",
    "            a[row][col]=50\n",
    "a"
   ]
  },
  {
   "cell_type": "code",
   "execution_count": 129,
   "id": "9be78497",
   "metadata": {},
   "outputs": [
    {
     "data": {
      "text/plain": [
       "array([[50, 50, 50, 50, 50],\n",
       "       [ 5,  6,  7,  8,  9],\n",
       "       [10, 11, 12, 13, 14]])"
      ]
     },
     "execution_count": 129,
     "metadata": {},
     "output_type": "execute_result"
    }
   ],
   "source": [
    "a = np.arange(15).reshape(3,5)\n",
    "a[a<5] = 50\n",
    "a"
   ]
  },
  {
   "cell_type": "markdown",
   "id": "0ca82c3b",
   "metadata": {},
   "source": [
    "#### 브로드캐스트"
   ]
  },
  {
   "cell_type": "code",
   "execution_count": 130,
   "id": "a61992aa",
   "metadata": {},
   "outputs": [
    {
     "data": {
      "text/plain": [
       "array([[150, 150, 150, 150, 150],\n",
       "       [105, 106, 107, 108, 109],\n",
       "       [110, 111, 112, 113, 114]])"
      ]
     },
     "execution_count": 130,
     "metadata": {},
     "output_type": "execute_result"
    }
   ],
   "source": [
    "a + 100"
   ]
  },
  {
   "cell_type": "code",
   "execution_count": 133,
   "id": "c99b81f2",
   "metadata": {},
   "outputs": [
    {
     "data": {
      "text/plain": [
       "array([[150,  50,  50,  50,  50],\n",
       "       [105,   6,   7,   8,   9],\n",
       "       [110,  11,  12,  13,  14]])"
      ]
     },
     "execution_count": 133,
     "metadata": {},
     "output_type": "execute_result"
    }
   ],
   "source": [
    "a[:,0] = a[:,0] +50\n",
    "a"
   ]
  },
  {
   "cell_type": "code",
   "execution_count": 135,
   "id": "9994f0f9",
   "metadata": {},
   "outputs": [
    {
     "data": {
      "text/plain": [
       "array([[500, 500, 500, 500, 500],\n",
       "       [500, 500, 500, 500, 500],\n",
       "       [500, 500, 500, 500, 500]])"
      ]
     },
     "execution_count": 135,
     "metadata": {},
     "output_type": "execute_result"
    }
   ],
   "source": [
    "a[:,:]=500\n",
    "a"
   ]
  },
  {
   "cell_type": "markdown",
   "id": "349eb2c5",
   "metadata": {},
   "source": [
    "### Vstack\n"
   ]
  },
  {
   "cell_type": "code",
   "execution_count": 142,
   "id": "ccb1d7d8",
   "metadata": {},
   "outputs": [
    {
     "data": {
      "text/plain": [
       "array([[5., 9., 3., 4.],\n",
       "       [1., 9., 8., 4.]])"
      ]
     },
     "execution_count": 142,
     "metadata": {},
     "output_type": "execute_result"
    }
   ],
   "source": [
    "rg = np.random.default_rng(1)\n",
    "a = np.floor(10 * rg.random((2, 2)))\n",
    "a\n",
    "b = np.floor(10 * rg.random((2, 2)))\n",
    "b\n",
    "np.vstack((a, b)) ## a 밑에다가 b 붙이기\n",
    "np.hstack((a, b)) ## a 오른쪽으로 b붙이기"
   ]
  },
  {
   "cell_type": "markdown",
   "id": "e02887cc",
   "metadata": {},
   "source": [
    "# 1-2 이미지 다루기\n"
   ]
  },
  {
   "cell_type": "code",
   "execution_count": 143,
   "id": "af5a6409",
   "metadata": {},
   "outputs": [
    {
     "name": "stdout",
     "output_type": "stream",
     "text": [
      "(16, 16, 3)\n"
     ]
    },
    {
     "data": {
      "text/plain": [
       "<matplotlib.image.AxesImage at 0x22655a421d0>"
      ]
     },
     "execution_count": 143,
     "metadata": {},
     "output_type": "execute_result"
    },
    {
     "data": {
      "image/png": "[encoded data removed]",
      "text/plain": [
       "<Figure size 640x480 with 1 Axes>"
      ]
     },
     "metadata": {},
     "output_type": "display_data"
    }
   ],
   "source": [
    "import numpy as np\n",
    "import matplotlib.pyplot as plt\n",
    "duckRGB = np.array([\n",
    "[[255,255,255],[255,255,255],[255,255,255],[255,255,255],[255,255,255],[255,255,255],[255,255,255],[255,255,255],[255,255,255],[255,255,255],[255,255,255],[255,255,255],[255,255,255],[255,255,255],[255,255,255],[255,255,255]],\n",
    "[[255,255,255],[255,255,255],[255,255,255],[255,255,255],[255,255,255],[255,255,255],[255,255,255],[255,255,255],[255,255,255],[255,255,255],[255,255,255],[255,255,255],[255,255,255],[255,255,255],[255,255,255],[255,255,255]],\n",
    "[[255,255,255],[255,255,255],[255,255,255],[255,255,255],[255,229,153],[255,229,153],[255,229,153],[255,229,153],[255,229,153],[255,255,255],[255,255,255],[255,255,255],[255,255,255],[255,255,255],[255,255,255],[255,255,255]],\n",
    "[[255,255,255],[255,255,255],[255,255,255],[255,229,153],[255,229,153],[255,229,153],[255,229,153],[255,229,153],[255,229,153],[255,229,153],[255,255,255],[255,255,255],[255,255,255],[255,255,255],[255,255,255],[255,255,255]],\n",
    "[[255,255,255],[255,255,255],[255,255,255],[255,153, 0],[255,229,153],[ 0, 0, 0],[255,229,153],[255,229,153],[255,229,153],[255,229,153],[255,255,255],[255,255,255],[255,255,255],[255,255,255],[255,255,255],[255,255,255]],\n",
    "[[255,255,255],[255,153, 0],[255,153, 0],[255,153, 0],[255,229,153],[255,229,153],[255,229,153],[255,229,153],[255,229,153],[255,229,153],[255,255,255],[255,255,255],[255,255,255],[255,255,255],[255,255,255],[255,255,255]],\n",
    "[[255,255,255],[255,255,255],[255,153, 0],[255,153, 0],[255,153, 0],[255,229,153],[255,229,153],[255,229,153],[255,229,153],[255,255,255],[255,255,255],[255,255,255],[255,255,255],[255,255,255],[255,255,255],[255,255,255]],\n",
    "[[255,255,255],[255,255,255],[255,255,255],[255,255,255],[255,229,153],[255,229,153],[255,229,153],[255,229,153],[255,255,255],[255,229,153],[255,229,153],[255,229,153],[255,255,255],[255,229,153],[255,255,255],[255,255,255]],\n",
    "[[255,255,255],[255,255,255],[255,255,255],[255,229,153],[255,229,153],[255,229,153],[255,229,153],[255,229,153],[255,229,153],[255,229,153],[255,229,153],[255,229,153],[ 0, 0, 0],[255,229,153],[255,255,255],[255,255,255]],\n",
    "[[255,255,255],[255,255,255],[255,229,153],[255,229,153],[255,229,153],[255,229,153],[255,229,153],[ 0, 0, 0],[255,229,153],[255,229,153],[255,229,153],[ 0, 0, 0],[255,229,153],[255,229,153],[255,255,255],[255,255,255]],\n",
    "[[255,255,255],[255,255,255],[255,229,153],[255,229,153],[255,229,153],[255,229,153],[255,229,153],[255,229,153],[ 0, 0, 0],[ 0, 0, 0],[ 0, 0, 0],[255,229,153],[255,229,153],[255,229,153],[255,255,255],[255,255,255]],\n",
    "[[ 74,134,232],[ 74,134,232],[255,229,153],[255,229,153],[255,229,153],[255,229,153],[255,229,153],[255,229,153],[255,229,153],[255,229,153],[255,229,153],[255,229,153],[255,229,153],[255,229,153],[ 74,134,232],[ 74,134,232]],\n",
    "[[ 74,134,232],[ 74,134,232],[ 74,134,232],[255,229,153],[255,229,153],[255,229,153],[255,229,153],[255,229,153],[255,229,153],[255,229,153],[255,229,153],[255,229,153],[255,229,153],[ 74,134,232],[ 74,134,232],[ 74,134,232]],\n",
    "[[ 74,134,232],[ 74,134,232],[ 74,134,232],[ 74,134,232],[255,229,153],[255,229,153],[255,229,153],[255,229,153],[255,229,153],[255,229,153],[255,229,153],[255,229,153],[ 74,134,232],[ 74,134,232],[ 74,134,232],[ 74,134,232]],\n",
    "[[ 74,134,232],[ 74,134,232],[ 74,134,232],[ 74,134,232],[ 74,134,232],[ 74,134,232],[ 74,134,232],[ 74,134,232],[ 74,134,232],[ 74,134,232],[ 74,134,232],[ 74,134,232],[ 74,134,232],[ 74,134,232],[ 74,134,232],[ 74,134,232]],\n",
    "[[ 74,134,232],[ 74,134,232],[ 74,134,232],[ 74,134,232],[ 74,134,232],[ 74,134,232],[ 74,134,232],[ 74,134,232],[ 74,134,232],[ 74,134,232],[ 74,134,232],[ 74,134,232],[ 74,134,232],[ 74,134,232],[ 74,134,232],[ 74,134,232]],\n",
    "], dtype=np.uint8)\n",
    "print(duckRGB.shape)\n",
    "plt.imshow(duckRGB)"
   ]
  },
  {
   "cell_type": "code",
   "execution_count": 146,
   "id": "c898a37e",
   "metadata": {},
   "outputs": [
    {
     "data": {
      "text/plain": [
       "array([[[ True,  True,  True],\n",
       "        [ True,  True,  True],\n",
       "        [ True,  True,  True],\n",
       "        [ True,  True,  True],\n",
       "        [ True,  True,  True],\n",
       "        [ True,  True,  True],\n",
       "        [ True,  True,  True],\n",
       "        [ True,  True,  True],\n",
       "        [ True,  True,  True],\n",
       "        [ True,  True,  True],\n",
       "        [ True,  True,  True],\n",
       "        [ True,  True,  True],\n",
       "        [ True,  True,  True],\n",
       "        [ True,  True,  True],\n",
       "        [ True,  True,  True],\n",
       "        [ True,  True,  True]],\n",
       "\n",
       "       [[ True,  True,  True],\n",
       "        [ True,  True,  True],\n",
       "        [ True,  True,  True],\n",
       "        [ True,  True,  True],\n",
       "        [ True,  True,  True],\n",
       "        [ True,  True,  True],\n",
       "        [ True,  True,  True],\n",
       "        [ True,  True,  True],\n",
       "        [ True,  True,  True],\n",
       "        [ True,  True,  True],\n",
       "        [ True,  True,  True],\n",
       "        [ True,  True,  True],\n",
       "        [ True,  True,  True],\n",
       "        [ True,  True,  True],\n",
       "        [ True,  True,  True],\n",
       "        [ True,  True,  True]],\n",
       "\n",
       "       [[ True,  True,  True],\n",
       "        [ True,  True,  True],\n",
       "        [ True,  True,  True],\n",
       "        [ True,  True,  True],\n",
       "        [ True, False, False],\n",
       "        [ True, False, False],\n",
       "        [ True, False, False],\n",
       "        [ True, False, False],\n",
       "        [ True, False, False],\n",
       "        [ True,  True,  True],\n",
       "        [ True,  True,  True],\n",
       "        [ True,  True,  True],\n",
       "        [ True,  True,  True],\n",
       "        [ True,  True,  True],\n",
       "        [ True,  True,  True],\n",
       "        [ True,  True,  True]],\n",
       "\n",
       "       [[ True,  True,  True],\n",
       "        [ True,  True,  True],\n",
       "        [ True,  True,  True],\n",
       "        [ True, False, False],\n",
       "        [ True, False, False],\n",
       "        [ True, False, False],\n",
       "        [ True, False, False],\n",
       "        [ True, False, False],\n",
       "        [ True, False, False],\n",
       "        [ True, False, False],\n",
       "        [ True,  True,  True],\n",
       "        [ True,  True,  True],\n",
       "        [ True,  True,  True],\n",
       "        [ True,  True,  True],\n",
       "        [ True,  True,  True],\n",
       "        [ True,  True,  True]],\n",
       "\n",
       "       [[ True,  True,  True],\n",
       "        [ True,  True,  True],\n",
       "        [ True,  True,  True],\n",
       "        [ True, False, False],\n",
       "        [ True, False, False],\n",
       "        [False, False, False],\n",
       "        [ True, False, False],\n",
       "        [ True, False, False],\n",
       "        [ True, False, False],\n",
       "        [ True, False, False],\n",
       "        [ True,  True,  True],\n",
       "        [ True,  True,  True],\n",
       "        [ True,  True,  True],\n",
       "        [ True,  True,  True],\n",
       "        [ True,  True,  True],\n",
       "        [ True,  True,  True]],\n",
       "\n",
       "       [[ True,  True,  True],\n",
       "        [ True, False, False],\n",
       "        [ True, False, False],\n",
       "        [ True, False, False],\n",
       "        [ True, False, False],\n",
       "        [ True, False, False],\n",
       "        [ True, False, False],\n",
       "        [ True, False, False],\n",
       "        [ True, False, False],\n",
       "        [ True, False, False],\n",
       "        [ True,  True,  True],\n",
       "        [ True,  True,  True],\n",
       "        [ True,  True,  True],\n",
       "        [ True,  True,  True],\n",
       "        [ True,  True,  True],\n",
       "        [ True,  True,  True]],\n",
       "\n",
       "       [[ True,  True,  True],\n",
       "        [ True,  True,  True],\n",
       "        [ True, False, False],\n",
       "        [ True, False, False],\n",
       "        [ True, False, False],\n",
       "        [ True, False, False],\n",
       "        [ True, False, False],\n",
       "        [ True, False, False],\n",
       "        [ True, False, False],\n",
       "        [ True,  True,  True],\n",
       "        [ True,  True,  True],\n",
       "        [ True,  True,  True],\n",
       "        [ True,  True,  True],\n",
       "        [ True,  True,  True],\n",
       "        [ True,  True,  True],\n",
       "        [ True,  True,  True]],\n",
       "\n",
       "       [[ True,  True,  True],\n",
       "        [ True,  True,  True],\n",
       "        [ True,  True,  True],\n",
       "        [ True,  True,  True],\n",
       "        [ True, False, False],\n",
       "        [ True, False, False],\n",
       "        [ True, False, False],\n",
       "        [ True, False, False],\n",
       "        [ True,  True,  True],\n",
       "        [ True, False, False],\n",
       "        [ True, False, False],\n",
       "        [ True, False, False],\n",
       "        [ True,  True,  True],\n",
       "        [ True, False, False],\n",
       "        [ True,  True,  True],\n",
       "        [ True,  True,  True]],\n",
       "\n",
       "       [[ True,  True,  True],\n",
       "        [ True,  True,  True],\n",
       "        [ True,  True,  True],\n",
       "        [ True, False, False],\n",
       "        [ True, False, False],\n",
       "        [ True, False, False],\n",
       "        [ True, False, False],\n",
       "        [ True, False, False],\n",
       "        [ True, False, False],\n",
       "        [ True, False, False],\n",
       "        [ True, False, False],\n",
       "        [ True, False, False],\n",
       "        [False, False, False],\n",
       "        [ True, False, False],\n",
       "        [ True,  True,  True],\n",
       "        [ True,  True,  True]],\n",
       "\n",
       "       [[ True,  True,  True],\n",
       "        [ True,  True,  True],\n",
       "        [ True, False, False],\n",
       "        [ True, False, False],\n",
       "        [ True, False, False],\n",
       "        [ True, False, False],\n",
       "        [ True, False, False],\n",
       "        [False, False, False],\n",
       "        [ True, False, False],\n",
       "        [ True, False, False],\n",
       "        [ True, False, False],\n",
       "        [False, False, False],\n",
       "        [ True, False, False],\n",
       "        [ True, False, False],\n",
       "        [ True,  True,  True],\n",
       "        [ True,  True,  True]],\n",
       "\n",
       "       [[ True,  True,  True],\n",
       "        [ True,  True,  True],\n",
       "        [ True, False, False],\n",
       "        [ True, False, False],\n",
       "        [ True, False, False],\n",
       "        [ True, False, False],\n",
       "        [ True, False, False],\n",
       "        [ True, False, False],\n",
       "        [False, False, False],\n",
       "        [False, False, False],\n",
       "        [False, False, False],\n",
       "        [ True, False, False],\n",
       "        [ True, False, False],\n",
       "        [ True, False, False],\n",
       "        [ True,  True,  True],\n",
       "        [ True,  True,  True]],\n",
       "\n",
       "       [[False, False, False],\n",
       "        [False, False, False],\n",
       "        [ True, False, False],\n",
       "        [ True, False, False],\n",
       "        [ True, False, False],\n",
       "        [ True, False, False],\n",
       "        [ True, False, False],\n",
       "        [ True, False, False],\n",
       "        [ True, False, False],\n",
       "        [ True, False, False],\n",
       "        [ True, False, False],\n",
       "        [ True, False, False],\n",
       "        [ True, False, False],\n",
       "        [ True, False, False],\n",
       "        [False, False, False],\n",
       "        [False, False, False]],\n",
       "\n",
       "       [[False, False, False],\n",
       "        [False, False, False],\n",
       "        [False, False, False],\n",
       "        [ True, False, False],\n",
       "        [ True, False, False],\n",
       "        [ True, False, False],\n",
       "        [ True, False, False],\n",
       "        [ True, False, False],\n",
       "        [ True, False, False],\n",
       "        [ True, False, False],\n",
       "        [ True, False, False],\n",
       "        [ True, False, False],\n",
       "        [ True, False, False],\n",
       "        [False, False, False],\n",
       "        [False, False, False],\n",
       "        [False, False, False]],\n",
       "\n",
       "       [[False, False, False],\n",
       "        [False, False, False],\n",
       "        [False, False, False],\n",
       "        [False, False, False],\n",
       "        [ True, False, False],\n",
       "        [ True, False, False],\n",
       "        [ True, False, False],\n",
       "        [ True, False, False],\n",
       "        [ True, False, False],\n",
       "        [ True, False, False],\n",
       "        [ True, False, False],\n",
       "        [ True, False, False],\n",
       "        [False, False, False],\n",
       "        [False, False, False],\n",
       "        [False, False, False],\n",
       "        [False, False, False]],\n",
       "\n",
       "       [[False, False, False],\n",
       "        [False, False, False],\n",
       "        [False, False, False],\n",
       "        [False, False, False],\n",
       "        [False, False, False],\n",
       "        [False, False, False],\n",
       "        [False, False, False],\n",
       "        [False, False, False],\n",
       "        [False, False, False],\n",
       "        [False, False, False],\n",
       "        [False, False, False],\n",
       "        [False, False, False],\n",
       "        [False, False, False],\n",
       "        [False, False, False],\n",
       "        [False, False, False],\n",
       "        [False, False, False]],\n",
       "\n",
       "       [[False, False, False],\n",
       "        [False, False, False],\n",
       "        [False, False, False],\n",
       "        [False, False, False],\n",
       "        [False, False, False],\n",
       "        [False, False, False],\n",
       "        [False, False, False],\n",
       "        [False, False, False],\n",
       "        [False, False, False],\n",
       "        [False, False, False],\n",
       "        [False, False, False],\n",
       "        [False, False, False],\n",
       "        [False, False, False],\n",
       "        [False, False, False],\n",
       "        [False, False, False],\n",
       "        [False, False, False]]])"
      ]
     },
     "execution_count": 146,
     "metadata": {},
     "output_type": "execute_result"
    }
   ],
   "source": [
    "duckRGB[:,:,:] == [255,255,255]"
   ]
  },
  {
   "cell_type": "code",
   "execution_count": 164,
   "id": "1ead1849",
   "metadata": {},
   "outputs": [
    {
     "name": "stdout",
     "output_type": "stream",
     "text": [
      "(16, 16)\n"
     ]
    },
    {
     "data": {
      "image/png": "[encoded data removed]",
      "text/plain": [
       "<Figure size 640x480 with 1 Axes>"
      ]
     },
     "metadata": {},
     "output_type": "display_data"
    }
   ],
   "source": [
    "import numpy as np\n",
    "import matplotlib.pyplot as plt\n",
    "# 16x16 픽셀\n",
    "duckGray = np.array([\n",
    "[255,255,255,255,255,255,255,255,255,255,255,255,255,255,255,255],\n",
    "[255,255,255,255,255,255,255,255,255,255,255,255,255,255,255,255],\n",
    "[255,255,255,255,201,201,201,201,201,255,255,255,255,255,255,255],\n",
    "[255,255,255,201,201,201,201,201,201,201,255,255,255,255,255,255],\n",
    "[255,255,255,150,201, 0,201,201,201,201,255,255,255,255,255,255],\n",
    "[255,150,150,150,201,201,201,201,201,201,255,255,255,255,255,255],\n",
    "[255,255,150,150,150,201,201,201,201,255,255,255,255,255,255,255],\n",
    "[255,255,255,255,201,201,201,201,255,201,201,201,255,201,255,255],\n",
    "[255,255,255,201,201,201,201,201,201,201,201,201, 0,201,255,255],\n",
    "[255,255,201,201,201,201,201, 0,201,201,201, 0,201,201,255,255],\n",
    "[255,255,201,201,201,201,201,201, 0, 0, 0,201,201,201,255,255],\n",
    "[ 50, 50,201,201,201,201,201,201,201,201,201,201,201,201, 50, 50],\n",
    "[ 50, 50, 50,201,201,201,201,201,201,201,201,201,201, 50, 50, 50],\n",
    "[ 50, 50, 50, 50,201,201,201,201,201,201,201,201, 50, 50, 50, 50],\n",
    "[ 50, 50, 50, 50, 50, 50, 50, 50, 50, 50, 50, 50, 50, 50, 50, 50],\n",
    "[ 50, 50, 50, 50, 50, 50, 50, 50, 50, 50, 50, 50, 50, 50, 50, 50],\n",
    "], dtype=np.uint8)\n",
    "print(duckGray.shape)\n",
    "plt.imshow(duckGray, cmap='gray')\n",
    "plt.show()"
   ]
  },
  {
   "cell_type": "code",
   "execution_count": 165,
   "id": "00b2a918",
   "metadata": {},
   "outputs": [
    {
     "data": {
      "text/plain": [
       "(16, 16)"
      ]
     },
     "execution_count": 165,
     "metadata": {},
     "output_type": "execute_result"
    }
   ],
   "source": [
    "duckGray.shape"
   ]
  },
  {
   "cell_type": "code",
   "execution_count": 166,
   "id": "77760825",
   "metadata": {},
   "outputs": [
    {
     "data": {
      "text/plain": [
       "array([[255, 255, 255, 255, 255, 255, 255, 255, 255, 255, 255, 255, 255,\n",
       "        255, 255, 255],\n",
       "       [255, 255, 255, 255, 255, 255, 255, 255, 255, 255, 255, 255, 255,\n",
       "        255, 255, 255],\n",
       "       [255, 255, 255, 255, 201, 201, 201, 201, 201, 255, 255, 255, 255,\n",
       "        255, 255, 255],\n",
       "       [255, 255, 255, 201, 201, 201, 201, 201, 201, 201, 255, 255, 255,\n",
       "        255, 255, 255],\n",
       "       [255, 255, 255, 150, 201,   0, 201, 201, 201, 201, 255, 255, 255,\n",
       "        255, 255, 255],\n",
       "       [255, 150, 150, 150, 201, 201, 201, 201, 201, 201, 255, 255, 255,\n",
       "        255, 255, 255],\n",
       "       [255, 255, 150, 150, 150, 201, 201, 201, 201, 255, 255, 255, 255,\n",
       "        255, 255, 255],\n",
       "       [255, 255, 255, 255, 201, 201, 201, 201, 255, 201, 201, 201, 255,\n",
       "        201, 255, 255],\n",
       "       [255, 255, 255, 201, 201, 201, 201, 201, 201, 201, 201, 201,   0,\n",
       "        201, 255, 255],\n",
       "       [255, 255, 201, 201, 201, 201, 201,   0, 201, 201, 201,   0, 201,\n",
       "        201, 255, 255],\n",
       "       [255, 255, 201, 201, 201, 201, 201, 201,   0,   0,   0, 201, 201,\n",
       "        201, 255, 255],\n",
       "       [ 50,  50, 201, 201, 201, 201, 201, 201, 201, 201, 201, 201, 201,\n",
       "        201,  50,  50],\n",
       "       [ 50,  50,  50, 201, 201, 201, 201, 201, 201, 201, 201, 201, 201,\n",
       "         50,  50,  50],\n",
       "       [ 50,  50,  50,  50, 201, 201, 201, 201, 201, 201, 201, 201,  50,\n",
       "         50,  50,  50],\n",
       "       [ 50,  50,  50,  50,  50,  50,  50,  50,  50,  50,  50,  50,  50,\n",
       "         50,  50,  50],\n",
       "       [ 50,  50,  50,  50,  50,  50,  50,  50,  50,  50,  50,  50,  50,\n",
       "         50,  50,  50]], dtype=uint8)"
      ]
     },
     "execution_count": 166,
     "metadata": {},
     "output_type": "execute_result"
    }
   ],
   "source": [
    "duckGray"
   ]
  },
  {
   "cell_type": "code",
   "execution_count": 170,
   "id": "5f8f2608",
   "metadata": {},
   "outputs": [
    {
     "data": {
      "text/plain": [
       "array([[ 50,  50,  50,  50, 201, 201, 201, 201, 201, 201, 201, 201,  50,\n",
       "         50,  50,  50],\n",
       "       [ 50,  50,  50,  50,  50,  50,  50,  50,  50,  50,  50,  50,  50,\n",
       "         50,  50,  50],\n",
       "       [ 50,  50,  50,  50,  50,  50,  50,  50,  50,  50,  50,  50,  50,\n",
       "         50,  50,  50]], dtype=uint8)"
      ]
     },
     "execution_count": 170,
     "metadata": {},
     "output_type": "execute_result"
    }
   ],
   "source": [
    "duckGray[-3:,:]"
   ]
  },
  {
   "cell_type": "code",
   "execution_count": 163,
   "id": "512d05c2",
   "metadata": {},
   "outputs": [
    {
     "data": {
      "text/plain": [
       "<matplotlib.image.AxesImage at 0x22658538390>"
      ]
     },
     "execution_count": 163,
     "metadata": {},
     "output_type": "execute_result"
    },
    {
     "data": {
      "image/png": "[encoded data removed]",
      "text/plain": [
       "<Figure size 640x480 with 1 Axes>"
      ]
     },
     "metadata": {},
     "output_type": "display_data"
    }
   ],
   "source": [
    "duckGray[:3,:] = 0  # duckGray 0,1,2 행 자료 봅시다.\n",
    "duckGray[-3:,:] = 255\n",
    "duckGray[:,:3] = 255\n",
    "plt.imshow(duckGray, cmap = 'gray')"
   ]
  },
  {
   "cell_type": "code",
   "execution_count": null,
   "id": "64d0c340",
   "metadata": {},
   "outputs": [],
   "source": []
  },
  {
   "cell_type": "code",
   "execution_count": null,
   "id": "714f0a96",
   "metadata": {},
   "outputs": [],
   "source": []
  },
  {
   "cell_type": "code",
   "execution_count": null,
   "id": "f319c3c4",
   "metadata": {},
   "outputs": [],
   "source": []
  },
  {
   "cell_type": "code",
   "execution_count": null,
   "id": "cb8e5d5e",
   "metadata": {},
   "outputs": [],
   "source": []
  }
 ],
 "metadata": {
  "kernelspec": {
   "display_name": "Python 3 (ipykernel)",
   "language": "python",
   "name": "python3"
  },
  "language_info": {
   "codemirror_mode": {
    "name": "ipython",
    "version": 3
   },
   "file_extension": ".py",
   "mimetype": "text/x-python",
   "name": "python",
   "nbconvert_exporter": "python",
   "pygments_lexer": "ipython3",
   "version": "3.11.3"
  }
 },
 "nbformat": 4,
 "nbformat_minor": 5
}
