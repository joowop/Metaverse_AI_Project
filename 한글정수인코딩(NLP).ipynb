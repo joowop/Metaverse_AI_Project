{
  "nbformat": 4,
  "nbformat_minor": 0,
  "metadata": {
    "colab": {
      "provenance": [],
      "authorship_tag": "ABX9TyNMW0TcnARaD9n7wrW9a0Rv",
      "include_colab_link": true
    },
    "kernelspec": {
      "name": "python3",
      "display_name": "Python 3"
    },
    "language_info": {
      "name": "python"
    }
  },
  "cells": [
    {
      "cell_type": "markdown",
      "metadata": {
        "id": "view-in-github",
        "colab_type": "text"
      },
      "source": [
        "<a href=\"https://colab.research.google.com/github/joowop/Metaverse_AI_Project/blob/main/%ED%95%9C%EA%B8%80%EC%A0%95%EC%88%98%EC%9D%B8%EC%BD%94%EB%94%A9(NLP).ipynb\" target=\"_parent\"><img src=\"https://colab.research.google.com/assets/colab-badge.svg\" alt=\"Open In Colab\"/></a>"
      ]
    },
    {
      "cell_type": "markdown",
      "source": [
        "# https://drive.google.com/drive/folders/1HnWdvukSQdIeEClJs5LMNTr2QJjON1HL"
      ],
      "metadata": {
        "id": "8OK_GEltYXPB"
      }
    },
    {
      "cell_type": "code",
      "execution_count": 4,
      "metadata": {
        "id": "GAKtZGB4P5LJ"
      },
      "outputs": [],
      "source": [
        "from konlpy.tag import Okt\n",
        "from nltk.tokenize import word_tokenize\n",
        "from collections import Counter"
      ]
    },
    {
      "cell_type": "code",
      "source": [
        "okt = Okt()"
      ],
      "metadata": {
        "id": "dz-vUokXQVXy"
      },
      "execution_count": 5,
      "outputs": []
    },
    {
      "cell_type": "code",
      "source": [
        "text_data = '''\n",
        "김일두 카카오브레인 각자 대표는 “인체 비율 및 구도, 공간감과 입체감을 표현하는 투시도 등 다양한 이미지 데이터 학습 및 기술 고도화 과정을 거쳐 칼로 2.0을 선보이게 됐다”며 “많은 데이터와 사용자 피드백을 학습시켜 실사 수준의 이미지를 생성하는 동시에 보다 다양한 사용자의 니즈를 반영할 수 있는 이미지 생성 모델로 발전시켜 나갈 것”이라고 말했다\n",
        "'''"
      ],
      "metadata": {
        "id": "UiKDxUsoRNR2"
      },
      "execution_count": 6,
      "outputs": []
    },
    {
      "cell_type": "code",
      "source": [
        "text = okt.nouns(text_data)\n",
        "text"
      ],
      "metadata": {
        "colab": {
          "base_uri": "https://localhost:8080/"
        },
        "id": "3W9KjzrBRNPg",
        "outputId": "bdc73fdf-507b-4689-f0f9-2fff30237ccb"
      },
      "execution_count": 7,
      "outputs": [
        {
          "output_type": "execute_result",
          "data": {
            "text/plain": [
              "['김일',\n",
              " '카카오',\n",
              " '브레인',\n",
              " '각자',\n",
              " '대표',\n",
              " '인체',\n",
              " '비율',\n",
              " '및',\n",
              " '구도',\n",
              " '공간',\n",
              " '감',\n",
              " '입',\n",
              " '체감',\n",
              " '표현',\n",
              " '투시도',\n",
              " '등',\n",
              " '이미지',\n",
              " '데이터',\n",
              " '학습',\n",
              " '및',\n",
              " '기술',\n",
              " '고도화',\n",
              " '과정',\n",
              " '칼',\n",
              " '며',\n",
              " '데이터',\n",
              " '사용자',\n",
              " '피드백',\n",
              " '학습',\n",
              " '실사',\n",
              " '수준',\n",
              " '이미지',\n",
              " '생',\n",
              " '동시',\n",
              " '사용자',\n",
              " '를',\n",
              " '반영',\n",
              " '수',\n",
              " '이미지',\n",
              " '생',\n",
              " '모델',\n",
              " '발전',\n",
              " '것',\n",
              " '말']"
            ]
          },
          "metadata": {},
          "execution_count": 7
        }
      ]
    },
    {
      "cell_type": "code",
      "source": [
        "words_freq = Counter(text)"
      ],
      "metadata": {
        "id": "P6gHnJMWQVVF"
      },
      "execution_count": 8,
      "outputs": []
    },
    {
      "cell_type": "code",
      "source": [
        "words_cleaned = [ (w, c) for w, c in words_freq.items() if c>= 1]\n",
        "words_cleaned.sort(key = lambda x: x[1], reverse = True)\n"
      ],
      "metadata": {
        "id": "4synn250QVS6"
      },
      "execution_count": 9,
      "outputs": []
    },
    {
      "cell_type": "code",
      "source": [
        "words_cleaned"
      ],
      "metadata": {
        "colab": {
          "base_uri": "https://localhost:8080/"
        },
        "id": "VKsNar05QVQh",
        "outputId": "9b269762-2a99-4869-86c5-6134b8cca708"
      },
      "execution_count": 10,
      "outputs": [
        {
          "output_type": "execute_result",
          "data": {
            "text/plain": [
              "[('이미지', 3),\n",
              " ('및', 2),\n",
              " ('데이터', 2),\n",
              " ('학습', 2),\n",
              " ('사용자', 2),\n",
              " ('생', 2),\n",
              " ('김일', 1),\n",
              " ('카카오', 1),\n",
              " ('브레인', 1),\n",
              " ('각자', 1),\n",
              " ('대표', 1),\n",
              " ('인체', 1),\n",
              " ('비율', 1),\n",
              " ('구도', 1),\n",
              " ('공간', 1),\n",
              " ('감', 1),\n",
              " ('입', 1),\n",
              " ('체감', 1),\n",
              " ('표현', 1),\n",
              " ('투시도', 1),\n",
              " ('등', 1),\n",
              " ('기술', 1),\n",
              " ('고도화', 1),\n",
              " ('과정', 1),\n",
              " ('칼', 1),\n",
              " ('며', 1),\n",
              " ('피드백', 1),\n",
              " ('실사', 1),\n",
              " ('수준', 1),\n",
              " ('동시', 1),\n",
              " ('를', 1),\n",
              " ('반영', 1),\n",
              " ('수', 1),\n",
              " ('모델', 1),\n",
              " ('발전', 1),\n",
              " ('것', 1),\n",
              " ('말', 1)]"
            ]
          },
          "metadata": {},
          "execution_count": 10
        }
      ]
    },
    {
      "cell_type": "code",
      "source": [
        "word_to_index = { word[0] : index+1 for index,word in enumerate(words_cleaned)}\n",
        "word_to_index"
      ],
      "metadata": {
        "colab": {
          "base_uri": "https://localhost:8080/"
        },
        "id": "7FWFgwU3QVLe",
        "outputId": "39e3b7ce-bf1c-4ddc-d16c-519c5f8c4d87"
      },
      "execution_count": 11,
      "outputs": [
        {
          "output_type": "execute_result",
          "data": {
            "text/plain": [
              "{'이미지': 1,\n",
              " '및': 2,\n",
              " '데이터': 3,\n",
              " '학습': 4,\n",
              " '사용자': 5,\n",
              " '생': 6,\n",
              " '김일': 7,\n",
              " '카카오': 8,\n",
              " '브레인': 9,\n",
              " '각자': 10,\n",
              " '대표': 11,\n",
              " '인체': 12,\n",
              " '비율': 13,\n",
              " '구도': 14,\n",
              " '공간': 15,\n",
              " '감': 16,\n",
              " '입': 17,\n",
              " '체감': 18,\n",
              " '표현': 19,\n",
              " '투시도': 20,\n",
              " '등': 21,\n",
              " '기술': 22,\n",
              " '고도화': 23,\n",
              " '과정': 24,\n",
              " '칼': 25,\n",
              " '며': 26,\n",
              " '피드백': 27,\n",
              " '실사': 28,\n",
              " '수준': 29,\n",
              " '동시': 30,\n",
              " '를': 31,\n",
              " '반영': 32,\n",
              " '수': 33,\n",
              " '모델': 34,\n",
              " '발전': 35,\n",
              " '것': 36,\n",
              " '말': 37}"
            ]
          },
          "metadata": {},
          "execution_count": 11
        }
      ]
    },
    {
      "cell_type": "code",
      "source": [
        "sentence = '카카오브레인은 고도화된기술모델을 가지고 있다.'\n",
        "\n",
        "# nouns : 명사만 추출 한 다음에\n",
        "sentence_to_index = [word_to_index[word] for word in okt.nouns(sentence) if word in word_to_index]\n",
        "sentence_to_index\n",
        "# 8번이 카카오, 9: 브레인 으로 정수가 인코딩 된것을 확인해 볼수 있다."
      ],
      "metadata": {
        "colab": {
          "base_uri": "https://localhost:8080/"
        },
        "id": "AStVtptlQVCu",
        "outputId": "e7245feb-bef2-4486-be6e-b8dcdada37fa"
      },
      "execution_count": 12,
      "outputs": [
        {
          "output_type": "execute_result",
          "data": {
            "text/plain": [
              "[8, 9, 23, 22, 34]"
            ]
          },
          "metadata": {},
          "execution_count": 12
        }
      ]
    },
    {
      "cell_type": "markdown",
      "source": [
        "## keras를 사용한 정수인코딩"
      ],
      "metadata": {
        "id": "jUblFx8iX3rU"
      }
    },
    {
      "cell_type": "code",
      "source": [
        "# keras를 사용한 정수인코딩\n",
        "\n",
        "from keras.preprocessing.text import Tokenizer"
      ],
      "metadata": {
        "id": "Fi2rExA_RgmF"
      },
      "execution_count": 13,
      "outputs": []
    },
    {
      "cell_type": "markdown",
      "source": [
        "### 명사 추출\n"
      ],
      "metadata": {
        "id": "-6pHh5ESXICt"
      }
    },
    {
      "cell_type": "code",
      "source": [
        "text = okt.nouns(text_data)\n",
        "text"
      ],
      "metadata": {
        "colab": {
          "base_uri": "https://localhost:8080/"
        },
        "id": "F9n7NtEZW-wF",
        "outputId": "706ef439-65ee-41a1-f32d-c676c05c703d"
      },
      "execution_count": 18,
      "outputs": [
        {
          "output_type": "execute_result",
          "data": {
            "text/plain": [
              "['김일',\n",
              " '카카오',\n",
              " '브레인',\n",
              " '각자',\n",
              " '대표',\n",
              " '인체',\n",
              " '비율',\n",
              " '및',\n",
              " '구도',\n",
              " '공간',\n",
              " '감',\n",
              " '입',\n",
              " '체감',\n",
              " '표현',\n",
              " '투시도',\n",
              " '등',\n",
              " '이미지',\n",
              " '데이터',\n",
              " '학습',\n",
              " '및',\n",
              " '기술',\n",
              " '고도화',\n",
              " '과정',\n",
              " '칼',\n",
              " '며',\n",
              " '데이터',\n",
              " '사용자',\n",
              " '피드백',\n",
              " '학습',\n",
              " '실사',\n",
              " '수준',\n",
              " '이미지',\n",
              " '생',\n",
              " '동시',\n",
              " '사용자',\n",
              " '를',\n",
              " '반영',\n",
              " '수',\n",
              " '이미지',\n",
              " '생',\n",
              " '모델',\n",
              " '발전',\n",
              " '것',\n",
              " '말']"
            ]
          },
          "metadata": {},
          "execution_count": 18
        }
      ]
    },
    {
      "cell_type": "markdown",
      "source": [
        "### 명사만 집어넣어서 만들어야한다."
      ],
      "metadata": {
        "id": "-rjnOEuRXKl2"
      }
    },
    {
      "cell_type": "code",
      "source": [
        "tokenizer = Tokenizer()\n",
        "tokenizer.fit_on_texts(text)"
      ],
      "metadata": {
        "id": "9_jR9Y1pRghF"
      },
      "execution_count": 21,
      "outputs": []
    },
    {
      "cell_type": "code",
      "source": [
        "print(tokenizer.word_index)"
      ],
      "metadata": {
        "colab": {
          "base_uri": "https://localhost:8080/"
        },
        "id": "S4nxX9X-Rgei",
        "outputId": "1d72f49b-7f6d-469f-b373-7052fcfbd674"
      },
      "execution_count": 22,
      "outputs": [
        {
          "output_type": "stream",
          "name": "stdout",
          "text": [
            "{'이미지': 1, '및': 2, '데이터': 3, '학습': 4, '사용자': 5, '생': 6, '김일': 7, '카카오': 8, '브레인': 9, '각자': 10, '대표': 11, '인체': 12, '비율': 13, '구도': 14, '공간': 15, '감': 16, '입': 17, '체감': 18, '표현': 19, '투시도': 20, '등': 21, '기술': 22, '고도화': 23, '과정': 24, '칼': 25, '며': 26, '피드백': 27, '실사': 28, '수준': 29, '동시': 30, '를': 31, '반영': 32, '수': 33, '모델': 34, '발전': 35, '것': 36, '말': 37}\n"
          ]
        }
      ]
    },
    {
      "cell_type": "code",
      "source": [
        "sentence = '카카오브레인은 고도화된기술모델을 가지고 있다.'\n",
        "st = okt.nouns(sentence)\n",
        "print(st)\n",
        "print(tokenizer.texts_to_sequences([st]))"
      ],
      "metadata": {
        "colab": {
          "base_uri": "https://localhost:8080/"
        },
        "id": "zGm8XBFpRgan",
        "outputId": "d1074cd8-2fea-467e-c524-a5802de02277"
      },
      "execution_count": 23,
      "outputs": [
        {
          "output_type": "stream",
          "name": "stdout",
          "text": [
            "['카카오', '브레인', '고도화', '기술', '모델', '가지']\n",
            "[[8, 9, 23, 22, 34]]\n"
          ]
        }
      ]
    },
    {
      "cell_type": "markdown",
      "source": [
        "# 패딩"
      ],
      "metadata": {
        "id": "MaBuaX-1ZShJ"
      }
    },
    {
      "cell_type": "code",
      "source": [
        "import numpy as np\n",
        "from keras.preprocessing.text import Tokenizer"
      ],
      "metadata": {
        "id": "6Y6tZuuYWIIi"
      },
      "execution_count": 24,
      "outputs": []
    },
    {
      "cell_type": "code",
      "source": [
        "#정수인코딩 과정을 거침\n",
        "text_data = '''\n",
        "과학기술정보통신부는 충청권 4개 지자체와 디지털 기술을 활용한 재난안전관리 시스템을 구축하는 '인공지능(AI)·메타버스 기반 재난안전관리체계 강화' 사업을 추진한다고 9일 밝혔다.\n",
        "\n",
        "시스템은 메타버스 환경을 통해 사고 징후를 실시간 모니터링 하고, AI 기술로 사고 예방 및 사후 대응을 위한 최적의 의사결정을 지원해 피해규모를 최소화한다.\n",
        "\n",
        "과기정통부는 디지털 기반의 사고 예방·대응 시스템 개발과 실증을 2025년까지 3년간 지원한다. 올해는 국비 80억원, 지방비 40억원 등 총 120억원을 투입한다.\n",
        "\n",
        "충청북도에서는 산업단지를 중심으로 화재·폭발 등 대규모 사고 위험이 높은 산업 현장의 안전 강화를 추진한다. 기업별 제조 환경에 따른 맞춤형 고위험 사고 예방·관리 AI 솔루션과 생산 공정 전주기 안전관리 시스템 등을 개발 지원한다.\n",
        "\n",
        "충청남도에서는 교통사고 다발구역을 대상으로 사고 유발요소를 탐지하는 도로안전 관리 AI 솔루션을 개발한다. 또 인파사고 등을 예방·관리하는 생활안전 관리 AI 솔루션, 공공데이터와 연계한 도로·생활안전 통합관제시스템을 마련한다.\n",
        "'''\n",
        "text = okt.nouns(text_data)\n",
        "tokenizer = Tokenizer()\n",
        "tokenizer.fit_on_texts(text)"
      ],
      "metadata": {
        "id": "gKB9W-qFWIGb"
      },
      "execution_count": 25,
      "outputs": []
    },
    {
      "cell_type": "code",
      "source": [
        "# 문장이 띄어졌을때 \\n일때의 처리\n",
        "text_data = text_data.replace('\\n','')\n",
        "text_result = text_data.split('.')\n",
        "text_result"
      ],
      "metadata": {
        "colab": {
          "base_uri": "https://localhost:8080/"
        },
        "id": "MfmXfrRmWIEd",
        "outputId": "2b5754a7-946f-4141-b545-d64ea9488733"
      },
      "execution_count": 26,
      "outputs": [
        {
          "output_type": "execute_result",
          "data": {
            "text/plain": [
              "[\"과학기술정보통신부는 충청권 4개 지자체와 디지털 기술을 활용한 재난안전관리 시스템을 구축하는 '인공지능(AI)·메타버스 기반 재난안전관리체계 강화' 사업을 추진한다고 9일 밝혔다\",\n",
              " '시스템은 메타버스 환경을 통해 사고 징후를 실시간 모니터링 하고, AI 기술로 사고 예방 및 사후 대응을 위한 최적의 의사결정을 지원해 피해규모를 최소화한다',\n",
              " '과기정통부는 디지털 기반의 사고 예방·대응 시스템 개발과 실증을 2025년까지 3년간 지원한다',\n",
              " ' 올해는 국비 80억원, 지방비 40억원 등 총 120억원을 투입한다',\n",
              " '충청북도에서는 산업단지를 중심으로 화재·폭발 등 대규모 사고 위험이 높은 산업 현장의 안전 강화를 추진한다',\n",
              " ' 기업별 제조 환경에 따른 맞춤형 고위험 사고 예방·관리 AI 솔루션과 생산 공정 전주기 안전관리 시스템 등을 개발 지원한다',\n",
              " '충청남도에서는 교통사고 다발구역을 대상으로 사고 유발요소를 탐지하는 도로안전 관리 AI 솔루션을 개발한다',\n",
              " ' 또 인파사고 등을 예방·관리하는 생활안전 관리 AI 솔루션, 공공데이터와 연계한 도로·생활안전 통합관제시스템을 마련한다',\n",
              " '']"
            ]
          },
          "metadata": {},
          "execution_count": 26
        }
      ]
    },
    {
      "cell_type": "code",
      "source": [
        "encoding_data = []\n",
        "for temp in text_result:\n",
        "    temp = temp.strip() # 공백 처리\n",
        "    # 명사 추출\n",
        "    st = okt.nouns(temp)\n",
        "    # 정수인코딩\n",
        "    encoding_data.append(tokenizer.texts_to_sequences([st])[0])\n",
        "\n",
        "print(encoding_data)"
      ],
      "metadata": {
        "colab": {
          "base_uri": "https://localhost:8080/"
        },
        "id": "1TYTZx51WICF",
        "outputId": "8be6708d-6bcf-4806-c7bd-c929d4ed80eb"
      },
      "execution_count": 28,
      "outputs": [
        {
          "output_type": "stream",
          "name": "stdout",
          "text": [
            "[[24, 25, 26, 27, 28, 10, 11, 29, 12, 1, 2, 4, 30, 31, 32, 13, 14, 15, 12, 1, 2, 33, 16, 34, 17, 35], [4, 13, 14, 18, 36, 3, 37, 38, 39, 11, 3, 5, 40, 41, 19, 42, 43, 44, 7, 45, 46, 47], [48, 49, 10, 15, 3, 5, 19, 4, 8, 50, 7], [51, 52, 53, 6, 54, 55], [56, 20, 57, 58, 59, 60, 6, 61, 3, 21, 20, 62, 1, 16, 17], [63, 64, 65, 18, 66, 21, 3, 5, 2, 9, 67, 68, 69, 1, 2, 4, 6, 8, 7], [70, 71, 72, 73, 74, 3, 75, 76, 77, 22, 1, 2, 9, 8], [78, 79, 3, 6, 5, 2, 23, 1, 2, 9, 80, 81, 22, 23, 1, 82, 83, 4, 84], []]\n"
          ]
        }
      ]
    },
    {
      "cell_type": "code",
      "source": [
        "# 패딩을 하기 위해선 가장 긴 문장을 찾아준다.\n",
        "\n",
        "max_len = max(len(item) for item in encoding_data)\n",
        "print(max_len) # 26개를 기준으로 패딩을 채워넣는다."
      ],
      "metadata": {
        "colab": {
          "base_uri": "https://localhost:8080/"
        },
        "id": "eEPjjUbbWH-V",
        "outputId": "d26d5018-bd57-43ae-adc0-56b47c4e6ef6"
      },
      "execution_count": 29,
      "outputs": [
        {
          "output_type": "stream",
          "name": "stdout",
          "text": [
            "26\n"
          ]
        }
      ]
    },
    {
      "cell_type": "code",
      "source": [
        "for sentence in encoding_data:\n",
        "    # 최대 길이에 맞지 않는 작은 것들은 0으로 채워넣어줘야 한다.\n",
        "    while len(sentence) < max_len:\n",
        "        sentence.append(0)"
      ],
      "metadata": {
        "id": "Fuvbwg1oWH8H"
      },
      "execution_count": 37,
      "outputs": []
    },
    {
      "cell_type": "code",
      "source": [
        "for sentence in encoding_data:\n",
        "    print(sentence)"
      ],
      "metadata": {
        "colab": {
          "base_uri": "https://localhost:8080/"
        },
        "id": "WmYduVHQWH6Q",
        "outputId": "92791bec-eed6-4fcc-adaa-e7b9812b7a75"
      },
      "execution_count": 38,
      "outputs": [
        {
          "output_type": "stream",
          "name": "stdout",
          "text": [
            "[24, 25, 26, 27, 28, 10, 11, 29, 12, 1, 2, 4, 30, 31, 32, 13, 14, 15, 12, 1, 2, 33, 16, 34, 17, 35]\n",
            "[4, 13, 14, 18, 36, 3, 37, 38, 39, 11, 3, 5, 40, 41, 19, 42, 43, 44, 7, 45, 46, 47, 0, 0, 0, 0]\n",
            "[48, 49, 10, 15, 3, 5, 19, 4, 8, 50, 7, 0, 0, 0, 0, 0, 0, 0, 0, 0, 0, 0, 0, 0, 0, 0]\n",
            "[51, 52, 53, 6, 54, 55, 0, 0, 0, 0, 0, 0, 0, 0, 0, 0, 0, 0, 0, 0, 0, 0, 0, 0, 0, 0]\n",
            "[56, 20, 57, 58, 59, 60, 6, 61, 3, 21, 20, 62, 1, 16, 17, 0, 0, 0, 0, 0, 0, 0, 0, 0, 0, 0]\n",
            "[63, 64, 65, 18, 66, 21, 3, 5, 2, 9, 67, 68, 69, 1, 2, 4, 6, 8, 7, 0, 0, 0, 0, 0, 0, 0]\n",
            "[70, 71, 72, 73, 74, 3, 75, 76, 77, 22, 1, 2, 9, 8, 0, 0, 0, 0, 0, 0, 0, 0, 0, 0, 0, 0]\n",
            "[78, 79, 3, 6, 5, 2, 23, 1, 2, 9, 80, 81, 22, 23, 1, 82, 83, 4, 84, 0, 0, 0, 0, 0, 0, 0]\n",
            "[0, 0, 0, 0, 0, 0, 0, 0, 0, 0, 0, 0, 0, 0, 0, 0, 0, 0, 0, 0, 0, 0, 0, 0, 0, 0]\n"
          ]
        }
      ]
    },
    {
      "cell_type": "code",
      "source": [
        "# keras - 패딩\n",
        "from tensorflow.keras.preprocessing.sequence import pad_sequences\n",
        "\n",
        "#정수인코딩 과정을 거침\n",
        "text_data = '''\n",
        "과학기술정보통신부는 충청권 4개 지자체와 디지털 기술을 활용한 재난안전관리 시스템을 구축하는 '인공지능(AI)·메타버스 기반 재난안전관리체계 강화' 사업을 추진한다고 9일 밝혔다.\n",
        "\n",
        "시스템은 메타버스 환경을 통해 사고 징후를 실시간 모니터링 하고, AI 기술로 사고 예방 및 사후 대응을 위한 최적의 의사결정을 지원해 피해규모를 최소화한다.\n",
        "\n",
        "과기정통부는 디지털 기반의 사고 예방·대응 시스템 개발과 실증을 2025년까지 3년간 지원한다. 올해는 국비 80억원, 지방비 40억원 등 총 120억원을 투입한다.\n",
        "\n",
        "충청북도에서는 산업단지를 중심으로 화재·폭발 등 대규모 사고 위험이 높은 산업 현장의 안전 강화를 추진한다. 기업별 제조 환경에 따른 맞춤형 고위험 사고 예방·관리 AI 솔루션과 생산 공정 전주기 안전관리 시스템 등을 개발 지원한다.\n",
        "\n",
        "충청남도에서는 교통사고 다발구역을 대상으로 사고 유발요소를 탐지하는 도로안전 관리 AI 솔루션을 개발한다. 또 인파사고 등을 예방·관리하는 생활안전 관리 AI 솔루션, 공공데이터와 연계한 도로·생활안전 통합관제시스템을 마련한다.\n",
        "'''"
      ],
      "metadata": {
        "id": "d5xYVBkSWH36"
      },
      "execution_count": 39,
      "outputs": []
    },
    {
      "cell_type": "code",
      "source": [
        "text = okt.nouns(text_data)"
      ],
      "metadata": {
        "id": "IlNG71Cwcpb4"
      },
      "execution_count": 40,
      "outputs": []
    },
    {
      "cell_type": "code",
      "source": [
        "tokenizer = Tokenizer()\n",
        "tokenizer.fit_on_texts(text)"
      ],
      "metadata": {
        "id": "tXBXNeZFcs9C"
      },
      "execution_count": 41,
      "outputs": []
    },
    {
      "cell_type": "code",
      "source": [
        "encoding_data = []\n",
        "for temp in text_result:\n",
        "    temp = temp.strip() # 공백 처리\n",
        "    # 명사 추출\n",
        "    st = okt.nouns(temp)\n",
        "    # 정수인코딩\n",
        "    encoding_data.append(tokenizer.texts_to_sequences([st])[0])"
      ],
      "metadata": {
        "id": "shy00I2vczO3"
      },
      "execution_count": 42,
      "outputs": []
    },
    {
      "cell_type": "code",
      "source": [
        "\n",
        "# 0을 앞으로 채우고 싶을 때\n",
        "padding = pad_sequences(encoding_data)\n",
        "\n",
        "# 0을 뒤로 채우고 싶을 때\n",
        "# maxlen : 맥스 len을 10으로 모두 맞춰준다. => 앞의 데이터가 날아갔다.\n",
        "# truncating: 앞부분의 데이터를 살려두고 뒷부분 데이터를 날려버린다.\n",
        "padding = pad_sequences(encoding_data, padding = 'post', maxlen = 10, truncating = 'post')\n",
        "padding"
      ],
      "metadata": {
        "colab": {
          "base_uri": "https://localhost:8080/"
        },
        "id": "eRkJb0Drc5Go",
        "outputId": "b1ce6f62-6bf3-40b7-da1e-f0de5a749654"
      },
      "execution_count": 46,
      "outputs": [
        {
          "output_type": "execute_result",
          "data": {
            "text/plain": [
              "array([[24, 25, 26, 27, 28, 10, 11, 29, 12,  1],\n",
              "       [ 4, 13, 14, 18, 36,  3, 37, 38, 39, 11],\n",
              "       [48, 49, 10, 15,  3,  5, 19,  4,  8, 50],\n",
              "       [51, 52, 53,  6, 54, 55,  0,  0,  0,  0],\n",
              "       [56, 20, 57, 58, 59, 60,  6, 61,  3, 21],\n",
              "       [63, 64, 65, 18, 66, 21,  3,  5,  2,  9],\n",
              "       [70, 71, 72, 73, 74,  3, 75, 76, 77, 22],\n",
              "       [78, 79,  3,  6,  5,  2, 23,  1,  2,  9],\n",
              "       [ 0,  0,  0,  0,  0,  0,  0,  0,  0,  0]], dtype=int32)"
            ]
          },
          "metadata": {},
          "execution_count": 46
        }
      ]
    },
    {
      "cell_type": "code",
      "source": [
        "# 패딩을 마지막 번호의 데이터로 넣어줄수도 있다.\n",
        "last_value = len(tokenizer.word_index) + 1\n",
        "last_value"
      ],
      "metadata": {
        "colab": {
          "base_uri": "https://localhost:8080/"
        },
        "id": "4HVu5i2SehEb",
        "outputId": "516f36fb-d683-43cf-a27f-895b36409e3d"
      },
      "execution_count": 47,
      "outputs": [
        {
          "output_type": "execute_result",
          "data": {
            "text/plain": [
              "85"
            ]
          },
          "metadata": {},
          "execution_count": 47
        }
      ]
    },
    {
      "cell_type": "code",
      "source": [
        "padding = pad_sequences(encoding_data, truncating = 'post', padding = 'post', maxlen = 10, value = last_value)\n",
        "padding # 마지막 단어의 다음번호로 채워지는것을 확인할 수 있다."
      ],
      "metadata": {
        "colab": {
          "base_uri": "https://localhost:8080/"
        },
        "id": "EBK-5d9Jeq-V",
        "outputId": "3e0b33f5-46c0-4f44-a040-a2737bafcdf4"
      },
      "execution_count": 48,
      "outputs": [
        {
          "output_type": "execute_result",
          "data": {
            "text/plain": [
              "array([[24, 25, 26, 27, 28, 10, 11, 29, 12,  1],\n",
              "       [ 4, 13, 14, 18, 36,  3, 37, 38, 39, 11],\n",
              "       [48, 49, 10, 15,  3,  5, 19,  4,  8, 50],\n",
              "       [51, 52, 53,  6, 54, 55, 85, 85, 85, 85],\n",
              "       [56, 20, 57, 58, 59, 60,  6, 61,  3, 21],\n",
              "       [63, 64, 65, 18, 66, 21,  3,  5,  2,  9],\n",
              "       [70, 71, 72, 73, 74,  3, 75, 76, 77, 22],\n",
              "       [78, 79,  3,  6,  5,  2, 23,  1,  2,  9],\n",
              "       [85, 85, 85, 85, 85, 85, 85, 85, 85, 85]], dtype=int32)"
            ]
          },
          "metadata": {},
          "execution_count": 48
        }
      ]
    },
    {
      "cell_type": "markdown",
      "source": [
        "# 원핫 인코딩"
      ],
      "metadata": {
        "id": "XpFZQUedfSWO"
      }
    },
    {
      "cell_type": "code",
      "source": [
        "# 정수로 되어져 있는 것을 벡터로 바꿔줘서 집어넣어주면서 사용하는 것이다.\n",
        "# 단어 5 : 0,1,2,3,4\n",
        "# [ 0번을 썻다.[1,0,0,0,0],[0,0,0,0,1] 4번을 썻다. ]"
      ],
      "metadata": {
        "id": "_PCbV3eoe3t1"
      },
      "execution_count": null,
      "outputs": []
    },
    {
      "cell_type": "code",
      "source": [
        "from konlpy.tag import Okt\n",
        "okt = Okt()\n",
        "# 형태소 단위로 쪼갠다.\n",
        "text_data = okt.morphs('나는 오늘 파이썬을 공부하고 있습니다')\n",
        "text_data"
      ],
      "metadata": {
        "colab": {
          "base_uri": "https://localhost:8080/"
        },
        "id": "RekCAQJIe3rw",
        "outputId": "e2f7cb60-4432-4f0c-c8cc-32502cb20982"
      },
      "execution_count": 50,
      "outputs": [
        {
          "output_type": "execute_result",
          "data": {
            "text/plain": [
              "['나', '는', '오늘', '파이썬', '을', '공부', '하고', '있습니다']"
            ]
          },
          "metadata": {},
          "execution_count": 50
        }
      ]
    },
    {
      "cell_type": "code",
      "source": [
        "word_encoding = {word : index for index, word in enumerate(text_data)}\n",
        "print(word_encoding)"
      ],
      "metadata": {
        "colab": {
          "base_uri": "https://localhost:8080/"
        },
        "id": "u1t6me0de3oN",
        "outputId": "f004789f-06b5-4e9b-b8fc-66d9db127c16"
      },
      "execution_count": 52,
      "outputs": [
        {
          "output_type": "stream",
          "name": "stdout",
          "text": [
            "{'나': 0, '는': 1, '오늘': 2, '파이썬': 3, '을': 4, '공부': 5, '하고': 6, '있습니다': 7}\n"
          ]
        }
      ]
    },
    {
      "cell_type": "code",
      "source": [
        "one_hot_vector = [0] * (len(word_encoding))\n",
        "one_hot_vector"
      ],
      "metadata": {
        "colab": {
          "base_uri": "https://localhost:8080/"
        },
        "id": "DaDwbzSQe3kY",
        "outputId": "30851c94-6619-4952-ccd9-a798505b0819"
      },
      "execution_count": 53,
      "outputs": [
        {
          "output_type": "execute_result",
          "data": {
            "text/plain": [
              "[0, 0, 0, 0, 0, 0, 0, 0]"
            ]
          },
          "metadata": {},
          "execution_count": 53
        }
      ]
    },
    {
      "cell_type": "code",
      "source": [
        "index = word_encoding['파이썬']\n",
        "index"
      ],
      "metadata": {
        "colab": {
          "base_uri": "https://localhost:8080/"
        },
        "id": "ONRt51oLe3gP",
        "outputId": "e5502c05-057b-48e1-ec75-1e986972f715"
      },
      "execution_count": 55,
      "outputs": [
        {
          "output_type": "execute_result",
          "data": {
            "text/plain": [
              "3"
            ]
          },
          "metadata": {},
          "execution_count": 55
        }
      ]
    },
    {
      "cell_type": "code",
      "source": [
        "one_hot_vector[index] = 1\n",
        "one_hot_vector"
      ],
      "metadata": {
        "colab": {
          "base_uri": "https://localhost:8080/"
        },
        "id": "_jC407KKe3eR",
        "outputId": "25190810-b3ab-416f-ad40-3a032a4ea7c9"
      },
      "execution_count": 56,
      "outputs": [
        {
          "output_type": "execute_result",
          "data": {
            "text/plain": [
              "[0, 0, 0, 1, 0, 0, 0, 0]"
            ]
          },
          "metadata": {},
          "execution_count": 56
        }
      ]
    },
    {
      "cell_type": "markdown",
      "source": [
        "## keras 사용 원핫인코딩"
      ],
      "metadata": {
        "id": "KQvDgS5ojsdx"
      }
    },
    {
      "cell_type": "code",
      "source": [
        "from tensorflow.keras.preprocessing.text import Tokenizer\n",
        "from tensorflow.keras.utils import to_categorical\n",
        "\n",
        "text = '나는 오늘 파이썬을 공부하고 있습니다'\n",
        "\n",
        "tokenizer = Tokenizer()\n",
        "tokenizer.fit_on_texts([text])\n",
        "tokenizer.word_index"
      ],
      "metadata": {
        "colab": {
          "base_uri": "https://localhost:8080/"
        },
        "id": "5RU1HE2kjsHQ",
        "outputId": "e2b632fb-7117-47c4-9394-c15825f70b67"
      },
      "execution_count": 63,
      "outputs": [
        {
          "output_type": "execute_result",
          "data": {
            "text/plain": [
              "{'나는': 1, '오늘': 2, '파이썬을': 3, '공부하고': 4, '있습니다': 5}"
            ]
          },
          "metadata": {},
          "execution_count": 63
        }
      ]
    },
    {
      "cell_type": "code",
      "source": [
        "sentence = '오늘 나는 파이썬 코딩을 하고있습니다'\n",
        "encoded = tokenizer.texts_to_sequences([sentence])[0]\n",
        "encoded"
      ],
      "metadata": {
        "colab": {
          "base_uri": "https://localhost:8080/"
        },
        "id": "TliuL0rSjsFe",
        "outputId": "7dabbed5-733f-4123-f5b7-b120496a9720"
      },
      "execution_count": 66,
      "outputs": [
        {
          "output_type": "execute_result",
          "data": {
            "text/plain": [
              "[2, 1]"
            ]
          },
          "metadata": {},
          "execution_count": 66
        }
      ]
    },
    {
      "cell_type": "code",
      "source": [
        "one_hot = to_categorical(encoded)\n",
        "print(one_hot)"
      ],
      "metadata": {
        "colab": {
          "base_uri": "https://localhost:8080/"
        },
        "id": "97QTNiWpjsCk",
        "outputId": "5982bdf0-9b30-4521-edfe-b89f40af5b45"
      },
      "execution_count": 67,
      "outputs": [
        {
          "output_type": "stream",
          "name": "stdout",
          "text": [
            "[[0. 0. 1.]\n",
            " [0. 1. 0.]]\n"
          ]
        }
      ]
    },
    {
      "cell_type": "markdown",
      "source": [
        "# 문장개수 세는 backword\n"
      ],
      "metadata": {
        "id": "jb2qRdvV-1Ja"
      }
    },
    {
      "cell_type": "code",
      "source": [],
      "metadata": {
        "id": "0i9qU4arjsAH"
      },
      "execution_count": null,
      "outputs": []
    },
    {
      "cell_type": "code",
      "source": [],
      "metadata": {
        "id": "Zrb8vrZv91Oi"
      },
      "execution_count": null,
      "outputs": []
    },
    {
      "cell_type": "code",
      "source": [],
      "metadata": {
        "id": "P5Echcp591L1"
      },
      "execution_count": null,
      "outputs": []
    },
    {
      "cell_type": "code",
      "source": [],
      "metadata": {
        "id": "QQLNMFr791Jm"
      },
      "execution_count": null,
      "outputs": []
    },
    {
      "cell_type": "code",
      "source": [],
      "metadata": {
        "id": "EqNkLwWt91He"
      },
      "execution_count": null,
      "outputs": []
    },
    {
      "cell_type": "code",
      "source": [],
      "metadata": {
        "id": "tt-_xOoH91E5"
      },
      "execution_count": null,
      "outputs": []
    },
    {
      "cell_type": "code",
      "source": [],
      "metadata": {
        "id": "OuaWue4S91Ck"
      },
      "execution_count": null,
      "outputs": []
    },
    {
      "cell_type": "code",
      "source": [],
      "metadata": {
        "id": "n-0PR6829056"
      },
      "execution_count": null,
      "outputs": []
    },
    {
      "cell_type": "code",
      "source": [],
      "metadata": {
        "id": "chLKy8Qd903j"
      },
      "execution_count": null,
      "outputs": []
    },
    {
      "cell_type": "code",
      "source": [],
      "metadata": {
        "id": "uaCfLhIs901O"
      },
      "execution_count": null,
      "outputs": []
    }
  ]
}