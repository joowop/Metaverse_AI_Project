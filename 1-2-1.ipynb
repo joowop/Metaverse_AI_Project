{
 "cells": [
  {
   "cell_type": "markdown",
   "id": "a4dac1f8",
   "metadata": {},
   "source": [
    "## numpy 복습 "
   ]
  },
  {
   "cell_type": "code",
   "execution_count": 20,
   "id": "0ec08bb3",
   "metadata": {},
   "outputs": [
    {
     "name": "stdout",
     "output_type": "stream",
     "text": [
      "[1, 2, 3, 4]\n",
      "----------------------------------------------------------------------------------------------------\n",
      "[1, 2, 4, 3]\n",
      "----------------------------------------------------------------------------------------------------\n",
      "[2, 3, 4, 1]\n",
      "----------------------------------------------------------------------------------------------------\n",
      "[5, 4, 3, 1]\n",
      "----------------------------------------------------------------------------------------------------\n"
     ]
    }
   ],
   "source": [
    "import numpy as np\n",
    "\n",
    "data = [[1,2,3,4],[1,2,4,3],[2,3,4,1],[5,4,3,1]]\n",
    "\n",
    "# for row in data:\n",
    "#     print(row)\n",
    "for row in range(len(data)):\n",
    "    print(data[row])\n",
    "    print(\"-\"*100)"
   ]
  },
  {
   "cell_type": "code",
   "execution_count": 37,
   "id": "ffbbc1e0",
   "metadata": {},
   "outputs": [
    {
     "name": "stdout",
     "output_type": "stream",
     "text": [
      "1 --------------------------------------------------\n",
      "[1, 2, 3, 4]\n",
      "2 --------------------------------------------------\n",
      "[1, 2, 4, 3]\n",
      "3 --------------------------------------------------\n",
      "[2, 3, 4, 1]\n"
     ]
    }
   ],
   "source": [
    "cnt = 0\n",
    "for row in data[:3]:\n",
    "    cnt+=1\n",
    "    print(cnt, \"-\"*50)\n",
    "    print(row)"
   ]
  },
  {
   "cell_type": "code",
   "execution_count": 50,
   "id": "7c3053c9",
   "metadata": {},
   "outputs": [
    {
     "name": "stdout",
     "output_type": "stream",
     "text": [
      "\n",
      "▶row: 0 --------------------------------------------------\n",
      "[1, 2, 3, 4]\n",
      "col total-->  10\n",
      "\n",
      "▶row: 1 --------------------------------------------------\n",
      "[1, 2, 4, 3]\n",
      "col total-->  10\n",
      "\n",
      "▶row: 2 --------------------------------------------------\n",
      "[2, 3, 4, 1]\n",
      "col total-->  10\n"
     ]
    }
   ],
   "source": [
    "for cnt, row in enumerate(data[:3]):\n",
    "    print('\\n▶row:',cnt, \"-\"*50)\n",
    "    print(row)\n",
    "    \n",
    "    sum = 0\n",
    "    for col in row:\n",
    "        sum += col\n",
    "    print('col total--> ', sum)"
   ]
  },
  {
   "cell_type": "markdown",
   "id": "5d96b656",
   "metadata": {},
   "source": [
    "#### 열단위 (세로단위)로 합\n",
    "- 열번호는 0,0,0,0 으로 하고 행번호만 0,1,2,3으로 변경\n",
    "- data[0][0],data[1][0],data[2][0],data[3][0]\n",
    "- data[0][1],data[1][1],data[2][1],data[3][1]\n",
    "- data[0][2],data[1][2],data[2][2],data[3][2]\n",
    "- data[0][3],data[1][3],data[2][3],data[3][3]"
   ]
  },
  {
   "cell_type": "code",
   "execution_count": 68,
   "id": "3b1477f5",
   "metadata": {},
   "outputs": [
    {
     "name": "stdout",
     "output_type": "stream",
     "text": [
      "[[1, 2, 3, 4], [1, 2, 4, 3], [2, 3, 4, 1], [5, 4, 3, 1]]\n",
      "--------------------------------------------------\n",
      "열 단위 sum ==>  9\n",
      "--------------------------------------------------\n",
      "열 단위 sum ==>  11\n",
      "--------------------------------------------------\n",
      "열 단위 sum ==>  14\n",
      "--------------------------------------------------\n",
      "열 단위 sum ==>  9\n"
     ]
    }
   ],
   "source": [
    "print(data)\n",
    "\n",
    "for col in range(4):   #  열번호\n",
    "    print('-'*50)\n",
    "    colSum = 0\n",
    "    for row in range(4):   # 행번호\n",
    "        colSum = colSum+data[row][col]\n",
    "    print('열 단위 sum ==> ', colSum)"
   ]
  },
  {
   "cell_type": "markdown",
   "id": "8d1780b3",
   "metadata": {},
   "source": [
    "### 작업한 수식을 함수로 제작\n"
   ]
  },
  {
   "cell_type": "code",
   "execution_count": 93,
   "id": "5f9a63b5",
   "metadata": {},
   "outputs": [],
   "source": [
    "class mySum:\n",
    "    def sumRow(x):\n",
    "        for cnt, row in enumerate(x):\n",
    "            print('\\n▶row:',cnt, \"-\"*50)\n",
    "            print(row)\n",
    "\n",
    "            sum = 0\n",
    "            for col in row:\n",
    "                sum += col\n",
    "            print('col total--> ', sum)\n",
    "    ### 열 단위 sum\n",
    "    def sumCol(x):\n",
    "        rowCnt, colCnt = len(x), len(x[0])\n",
    "        for col in range(colCnt):   #  열번호\n",
    "            print('-'*50)\n",
    "            colSum = 0\n",
    "            for row in range(rowCnt):   # 행번호\n",
    "                colSum = colSum+data[row][col]\n",
    "            print('열 단위 sum ==> ', colSum)"
   ]
  },
  {
   "cell_type": "code",
   "execution_count": 94,
   "id": "d7799f41",
   "metadata": {},
   "outputs": [
    {
     "name": "stdout",
     "output_type": "stream",
     "text": [
      "--------------------------------------------------\n",
      "열 단위 sum ==>  4\n",
      "--------------------------------------------------\n",
      "열 단위 sum ==>  4\n",
      "--------------------------------------------------\n",
      "열 단위 sum ==>  6\n"
     ]
    }
   ],
   "source": [
    "data = [[1,2,5], [3,2,1]]\n",
    "# print(len(data)) # 행의 개수\n",
    "# print(len(data[0])) # 열의 개수\n",
    "# mySum.sumRow(data)\n",
    "mySum.sumCol(data)"
   ]
  },
  {
   "cell_type": "code",
   "execution_count": 82,
   "id": "f917ab4d",
   "metadata": {},
   "outputs": [
    {
     "name": "stdout",
     "output_type": "stream",
     "text": [
      "\n",
      "▶row: 0 --------------------------------------------------\n",
      "[1, 2, 3, 4]\n",
      "col total-->  10\n",
      "\n",
      "▶row: 1 --------------------------------------------------\n",
      "[1, 2, 4, 3]\n",
      "col total-->  10\n",
      "\n",
      "▶row: 2 --------------------------------------------------\n",
      "[2, 3, 4, 1]\n",
      "col total-->  10\n",
      "\n",
      "▶row: 3 --------------------------------------------------\n",
      "[5, 4, 3, 1]\n",
      "col total-->  13\n"
     ]
    }
   ],
   "source": [
    "a = mySum\n",
    "a.sumRow(data)"
   ]
  },
  {
   "cell_type": "code",
   "execution_count": 128,
   "id": "a85aadc1",
   "metadata": {},
   "outputs": [
    {
     "data": {
      "text/plain": [
       "array([[3.30353851, 3.73787775, 1.13067337, 2.31723228],\n",
       "       [1.05337419, 4.51675942, 0.61854042, 6.03978768],\n",
       "       [2.90243241, 0.4575305 , 0.11700121, 4.8474737 ]])"
      ]
     },
     "execution_count": 128,
     "metadata": {},
     "output_type": "execute_result"
    }
   ],
   "source": [
    "import numpy as np\n",
    "data = np.random.rand(3,4)*7 ### *7을 하면 7값 안에서만 난수 발생\n",
    "data"
   ]
  },
  {
   "cell_type": "code",
   "execution_count": null,
   "id": "9e26fdb0",
   "metadata": {},
   "outputs": [],
   "source": [
    "# 위의 소수로 나온 데이터를 정수로 변경\n",
    "data.astype('int8')"
   ]
  },
  {
   "cell_type": "code",
   "execution_count": 135,
   "id": "e94653e6",
   "metadata": {},
   "outputs": [
    {
     "data": {
      "text/plain": [
       "array([14., 13.,  5.,  5.])"
      ]
     },
     "execution_count": 135,
     "metadata": {},
     "output_type": "execute_result"
    }
   ],
   "source": [
    "# https://numpy.org/doc/stable/reference/generated/numpy.sum.html\n",
    "np.sum(data)\n",
    "np.sum(data, axis = 1) # 행 단위 합\n",
    "np.sum(data, axis = 0) # 열 단위 합\n"
   ]
  },
  {
   "cell_type": "code",
   "execution_count": 132,
   "id": "4df5b723",
   "metadata": {},
   "outputs": [
    {
     "data": {
      "text/plain": [
       "array([[2., 6., 1., 0.],\n",
       "       [6., 1., 1., 1.],\n",
       "       [6., 6., 3., 4.]])"
      ]
     },
     "execution_count": 132,
     "metadata": {},
     "output_type": "execute_result"
    }
   ],
   "source": [
    "data = np.random.rand(3,4)*7\n",
    "for i in range(len(data)):\n",
    "    for j in range(len(data[0])):\n",
    "        data[i][j] = int(data[i][j])\n",
    "data"
   ]
  },
  {
   "cell_type": "markdown",
   "id": "d9d84e3a",
   "metadata": {},
   "source": [
    "### numpy 조건문"
   ]
  },
  {
   "cell_type": "code",
   "execution_count": 138,
   "id": "00ce13c4",
   "metadata": {},
   "outputs": [
    {
     "data": {
      "text/plain": [
       "array([[-100.        , -100.        ,    6.34863696, -100.        ],\n",
       "       [-100.        ,    5.6073774 ,    6.20965944, -100.        ],\n",
       "       [-100.        , -100.        , -100.        ,    5.56184267]])"
      ]
     },
     "execution_count": 138,
     "metadata": {},
     "output_type": "execute_result"
    }
   ],
   "source": [
    "data = np.random.rand(3,4)*7 ### *7을 하면 7값 안에서만 난수 발생\n",
    "data.astype('int8')\n",
    "\n",
    "data[data<5] = -100\n",
    "data"
   ]
  },
  {
   "cell_type": "markdown",
   "id": "7019866c",
   "metadata": {},
   "source": [
    "### numpy 다중 조건문"
   ]
  },
  {
   "cell_type": "code",
   "execution_count": 149,
   "id": "e5a24227",
   "metadata": {},
   "outputs": [
    {
     "data": {
      "text/plain": [
       "array([[100.        , 100.        , 100.        ,   5.13836538],\n",
       "       [  6.8605891 ,   5.33454921,   5.02160479, 100.        ],\n",
       "       [  6.18705937, 100.        , 100.        , 100.        ]])"
      ]
     },
     "execution_count": 149,
     "metadata": {},
     "output_type": "execute_result"
    }
   ],
   "source": [
    "data[(data<5) & (data>1)] = 333\n"
   ]
  },
  {
   "cell_type": "code",
   "execution_count": 147,
   "id": "5208fc6c",
   "metadata": {},
   "outputs": [
    {
     "data": {
      "text/plain": [
       "array([[100.        , 100.        , 100.        ,   5.13836538],\n",
       "       [  6.8605891 ,   5.33454921,   5.02160479, 100.        ],\n",
       "       [  6.18705937, 100.        , 100.        , 100.        ]])"
      ]
     },
     "execution_count": 147,
     "metadata": {},
     "output_type": "execute_result"
    }
   ],
   "source": [
    "data = np.random.rand(3,4)*7\n",
    "data[np.logical_and(data<5, data>1)] = 100\n",
    "data"
   ]
  },
  {
   "cell_type": "code",
   "execution_count": 119,
   "id": "dd01ceb3",
   "metadata": {},
   "outputs": [
    {
     "data": {
      "text/plain": [
       "(array([  8.,  36.,  73., 186., 222., 216., 137.,  86.,  29.,   7.]),\n",
       " array([-2.9096991 , -2.31475054, -1.71980198, -1.12485342, -0.52990486,\n",
       "         0.0650437 ,  0.65999225,  1.25494081,  1.84988937,  2.44483793,\n",
       "         3.03978649]),\n",
       " <BarContainer object of 10 artists>)"
      ]
     },
     "execution_count": 119,
     "metadata": {},
     "output_type": "execute_result"
    },
    {
     "data": {
      "image/png": "[encoded data removed]",
      "text/plain": [
       "<Figure size 1000x300 with 2 Axes>"
      ]
     },
     "metadata": {},
     "output_type": "display_data"
    }
   ],
   "source": [
    "### 참고\n",
    "y1 = np.random.rand(1000) # 무작위 난수 \n",
    "y2 = np.random.randn(1000) # 정규분포\n",
    "\n",
    "import matplotlib.pyplot as plt\n",
    "plt.figure(figsize = (10,3))\n",
    "plt.subplot(1,2,1)\n",
    "plt.hist(y1)\n",
    "plt.subplot(1,2,2)\n",
    "plt.hist(y2)"
   ]
  },
  {
   "cell_type": "code",
   "execution_count": null,
   "id": "cc2053a6",
   "metadata": {},
   "outputs": [],
   "source": []
  },
  {
   "cell_type": "code",
   "execution_count": null,
   "id": "3dae6103",
   "metadata": {},
   "outputs": [],
   "source": []
  },
  {
   "cell_type": "code",
   "execution_count": null,
   "id": "79052bcf",
   "metadata": {},
   "outputs": [],
   "source": []
  },
  {
   "cell_type": "code",
   "execution_count": null,
   "id": "8b903654",
   "metadata": {},
   "outputs": [],
   "source": []
  },
  {
   "cell_type": "code",
   "execution_count": null,
   "id": "9902232a",
   "metadata": {},
   "outputs": [],
   "source": []
  }
 ],
 "metadata": {
  "kernelspec": {
   "display_name": "Python 3 (ipykernel)",
   "language": "python",
   "name": "python3"
  },
  "language_info": {
   "codemirror_mode": {
    "name": "ipython",
    "version": 3
   },
   "file_extension": ".py",
   "mimetype": "text/x-python",
   "name": "python",
   "nbconvert_exporter": "python",
   "pygments_lexer": "ipython3",
   "version": "3.11.3"
  }
 },
 "nbformat": 4,
 "nbformat_minor": 5
}
