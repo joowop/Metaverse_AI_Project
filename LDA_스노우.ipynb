{
  "nbformat": 4,
  "nbformat_minor": 0,
  "metadata": {
    "colab": {
      "provenance": [],
      "authorship_tag": "ABX9TyORjDFeY3jJkC92nUrhZSGN",
      "include_colab_link": true
    },
    "kernelspec": {
      "name": "python3",
      "display_name": "Python 3"
    },
    "language_info": {
      "name": "python"
    }
  },
  "cells": [
    {
      "cell_type": "markdown",
      "metadata": {
        "id": "view-in-github",
        "colab_type": "text"
      },
      "source": [
        "<a href=\"https://colab.research.google.com/github/joowop/Metaverse_AI_Project/blob/main/LDA_%EC%8A%A4%EB%85%B8%EC%9A%B0.ipynb\" target=\"_parent\"><img src=\"https://colab.research.google.com/assets/colab-badge.svg\" alt=\"Open In Colab\"/></a>"
      ]
    },
    {
      "cell_type": "code",
      "execution_count": 1,
      "metadata": {
        "colab": {
          "base_uri": "https://localhost:8080/"
        },
        "id": "L7jiNtRrnKyO",
        "outputId": "124e418f-a40e-4bcd-c6df-9bb42b652a46"
      },
      "outputs": [
        {
          "output_type": "stream",
          "name": "stdout",
          "text": [
            "Collecting konlpy\n",
            "  Downloading konlpy-0.6.0-py2.py3-none-any.whl (19.4 MB)\n",
            "\u001b[2K     \u001b[90m━━━━━━━━━━━━━━━━━━━━━━━━━━━━━━━━━━━━━━━━\u001b[0m \u001b[32m19.4/19.4 MB\u001b[0m \u001b[31m55.9 MB/s\u001b[0m eta \u001b[36m0:00:00\u001b[0m\n",
            "\u001b[?25hCollecting JPype1>=0.7.0 (from konlpy)\n",
            "  Downloading JPype1-1.4.1-cp310-cp310-manylinux_2_12_x86_64.manylinux2010_x86_64.whl (465 kB)\n",
            "\u001b[2K     \u001b[90m━━━━━━━━━━━━━━━━━━━━━━━━━━━━━━━━━━━━━━\u001b[0m \u001b[32m465.3/465.3 kB\u001b[0m \u001b[31m31.9 MB/s\u001b[0m eta \u001b[36m0:00:00\u001b[0m\n",
            "\u001b[?25hRequirement already satisfied: lxml>=4.1.0 in /usr/local/lib/python3.10/dist-packages (from konlpy) (4.9.2)\n",
            "Requirement already satisfied: numpy>=1.6 in /usr/local/lib/python3.10/dist-packages (from konlpy) (1.22.4)\n",
            "Requirement already satisfied: packaging in /usr/local/lib/python3.10/dist-packages (from JPype1>=0.7.0->konlpy) (23.1)\n",
            "Installing collected packages: JPype1, konlpy\n",
            "Successfully installed JPype1-1.4.1 konlpy-0.6.0\n"
          ]
        }
      ],
      "source": [
        "!pip install konlpy"
      ]
    },
    {
      "cell_type": "code",
      "source": [
        "!pip install -U pyLDAvis"
      ],
      "metadata": {
        "colab": {
          "base_uri": "https://localhost:8080/"
        },
        "id": "6YX21LPjnfXj",
        "outputId": "4bbab153-8e37-4dff-9740-c82b6911fb90"
      },
      "execution_count": 1,
      "outputs": [
        {
          "output_type": "stream",
          "name": "stdout",
          "text": [
            "Requirement already satisfied: pyLDAvis in /usr/local/lib/python3.10/dist-packages (3.4.1)\n",
            "Requirement already satisfied: numpy>=1.24.2 in /usr/local/lib/python3.10/dist-packages (from pyLDAvis) (1.25.1)\n",
            "Requirement already satisfied: scipy in /usr/local/lib/python3.10/dist-packages (from pyLDAvis) (1.10.1)\n",
            "Requirement already satisfied: pandas>=2.0.0 in /usr/local/lib/python3.10/dist-packages (from pyLDAvis) (2.0.3)\n",
            "Requirement already satisfied: joblib>=1.2.0 in /usr/local/lib/python3.10/dist-packages (from pyLDAvis) (1.2.0)\n",
            "Requirement already satisfied: jinja2 in /usr/local/lib/python3.10/dist-packages (from pyLDAvis) (3.1.2)\n",
            "Requirement already satisfied: numexpr in /usr/local/lib/python3.10/dist-packages (from pyLDAvis) (2.8.4)\n",
            "Requirement already satisfied: funcy in /usr/local/lib/python3.10/dist-packages (from pyLDAvis) (2.0)\n",
            "Requirement already satisfied: scikit-learn>=1.0.0 in /usr/local/lib/python3.10/dist-packages (from pyLDAvis) (1.2.2)\n",
            "Requirement already satisfied: gensim in /usr/local/lib/python3.10/dist-packages (from pyLDAvis) (4.3.1)\n",
            "Requirement already satisfied: setuptools in /usr/local/lib/python3.10/dist-packages (from pyLDAvis) (67.7.2)\n",
            "Requirement already satisfied: python-dateutil>=2.8.2 in /usr/local/lib/python3.10/dist-packages (from pandas>=2.0.0->pyLDAvis) (2.8.2)\n",
            "Requirement already satisfied: pytz>=2020.1 in /usr/local/lib/python3.10/dist-packages (from pandas>=2.0.0->pyLDAvis) (2022.7.1)\n",
            "Requirement already satisfied: tzdata>=2022.1 in /usr/local/lib/python3.10/dist-packages (from pandas>=2.0.0->pyLDAvis) (2023.3)\n",
            "Requirement already satisfied: threadpoolctl>=2.0.0 in /usr/local/lib/python3.10/dist-packages (from scikit-learn>=1.0.0->pyLDAvis) (3.1.0)\n",
            "Requirement already satisfied: smart-open>=1.8.1 in /usr/local/lib/python3.10/dist-packages (from gensim->pyLDAvis) (6.3.0)\n",
            "Requirement already satisfied: MarkupSafe>=2.0 in /usr/local/lib/python3.10/dist-packages (from jinja2->pyLDAvis) (2.1.3)\n",
            "Requirement already satisfied: six>=1.5 in /usr/local/lib/python3.10/dist-packages (from python-dateutil>=2.8.2->pandas>=2.0.0->pyLDAvis) (1.16.0)\n"
          ]
        }
      ]
    },
    {
      "cell_type": "code",
      "source": [
        "import pandas as pd\n",
        "\n",
        "df = pd.read_csv('app.csv')\n",
        "df = df.iloc[3:]\n",
        "df = df.reset_index()\n",
        "df = df.drop(columns=['index','Unnamed: 0'])\n",
        "df.head()"
      ],
      "metadata": {
        "colab": {
          "base_uri": "https://localhost:8080/",
          "height": 206
        },
        "id": "XvbeihE6nwa6",
        "outputId": "8e8bb150-b101-44a3-d4a9-1b6be651ed4a"
      },
      "execution_count": 2,
      "outputs": [
        {
          "output_type": "execute_result",
          "data": {
            "text/plain": [
              "                                                text  score\n",
              "0  그동안은 잘썼으니 별두개 드립니다. 어느날인가부터 사진을 찍으면 볼 부분만 너무나도...      2\n",
              "1  안녕하세요, 잘쓰고 있긴한데 한 몇주전부터 셀카모드(고화질)로 촬영하면 렉 잠깐 걸...      5\n",
              "2  무료 체험 후 구독 취소에 애먹으시고 계신 분들은 gmail로 온 결제내역 알림에 ...      3\n",
              "3  별을 단 1개도 주기 아까운 어플이네요. 스노우 꽤 여러번 결제를 했구요. 처음 빼...      1\n",
              "4  쓰면 쓸수록 광고가 많아지는 신기한 앱입니다. 물론 기본이 무료앱이니까 광고 보는거...      2"
            ],
            "text/html": [
              "\n",
              "\n",
              "  <div id=\"df-1944c520-4153-49bc-a0d8-1cc5d5d7ca80\">\n",
              "    <div class=\"colab-df-container\">\n",
              "      <div>\n",
              "<style scoped>\n",
              "    .dataframe tbody tr th:only-of-type {\n",
              "        vertical-align: middle;\n",
              "    }\n",
              "\n",
              "    .dataframe tbody tr th {\n",
              "        vertical-align: top;\n",
              "    }\n",
              "\n",
              "    .dataframe thead th {\n",
              "        text-align: right;\n",
              "    }\n",
              "</style>\n",
              "<table border=\"1\" class=\"dataframe\">\n",
              "  <thead>\n",
              "    <tr style=\"text-align: right;\">\n",
              "      <th></th>\n",
              "      <th>text</th>\n",
              "      <th>score</th>\n",
              "    </tr>\n",
              "  </thead>\n",
              "  <tbody>\n",
              "    <tr>\n",
              "      <th>0</th>\n",
              "      <td>그동안은 잘썼으니 별두개 드립니다. 어느날인가부터 사진을 찍으면 볼 부분만 너무나도...</td>\n",
              "      <td>2</td>\n",
              "    </tr>\n",
              "    <tr>\n",
              "      <th>1</th>\n",
              "      <td>안녕하세요, 잘쓰고 있긴한데 한 몇주전부터 셀카모드(고화질)로 촬영하면 렉 잠깐 걸...</td>\n",
              "      <td>5</td>\n",
              "    </tr>\n",
              "    <tr>\n",
              "      <th>2</th>\n",
              "      <td>무료 체험 후 구독 취소에 애먹으시고 계신 분들은 gmail로 온 결제내역 알림에 ...</td>\n",
              "      <td>3</td>\n",
              "    </tr>\n",
              "    <tr>\n",
              "      <th>3</th>\n",
              "      <td>별을 단 1개도 주기 아까운 어플이네요. 스노우 꽤 여러번 결제를 했구요. 처음 빼...</td>\n",
              "      <td>1</td>\n",
              "    </tr>\n",
              "    <tr>\n",
              "      <th>4</th>\n",
              "      <td>쓰면 쓸수록 광고가 많아지는 신기한 앱입니다. 물론 기본이 무료앱이니까 광고 보는거...</td>\n",
              "      <td>2</td>\n",
              "    </tr>\n",
              "  </tbody>\n",
              "</table>\n",
              "</div>\n",
              "      <button class=\"colab-df-convert\" onclick=\"convertToInteractive('df-1944c520-4153-49bc-a0d8-1cc5d5d7ca80')\"\n",
              "              title=\"Convert this dataframe to an interactive table.\"\n",
              "              style=\"display:none;\">\n",
              "\n",
              "  <svg xmlns=\"http://www.w3.org/2000/svg\" height=\"24px\"viewBox=\"0 0 24 24\"\n",
              "       width=\"24px\">\n",
              "    <path d=\"M0 0h24v24H0V0z\" fill=\"none\"/>\n",
              "    <path d=\"M18.56 5.44l.94 2.06.94-2.06 2.06-.94-2.06-.94-.94-2.06-.94 2.06-2.06.94zm-11 1L8.5 8.5l.94-2.06 2.06-.94-2.06-.94L8.5 2.5l-.94 2.06-2.06.94zm10 10l.94 2.06.94-2.06 2.06-.94-2.06-.94-.94-2.06-.94 2.06-2.06.94z\"/><path d=\"M17.41 7.96l-1.37-1.37c-.4-.4-.92-.59-1.43-.59-.52 0-1.04.2-1.43.59L10.3 9.45l-7.72 7.72c-.78.78-.78 2.05 0 2.83L4 21.41c.39.39.9.59 1.41.59.51 0 1.02-.2 1.41-.59l7.78-7.78 2.81-2.81c.8-.78.8-2.07 0-2.86zM5.41 20L4 18.59l7.72-7.72 1.47 1.35L5.41 20z\"/>\n",
              "  </svg>\n",
              "      </button>\n",
              "\n",
              "\n",
              "\n",
              "    <div id=\"df-e105b1b4-a41c-4bd7-9ddd-c397edde872f\">\n",
              "      <button class=\"colab-df-quickchart\" onclick=\"quickchart('df-e105b1b4-a41c-4bd7-9ddd-c397edde872f')\"\n",
              "              title=\"Suggest charts.\"\n",
              "              style=\"display:none;\">\n",
              "\n",
              "<svg xmlns=\"http://www.w3.org/2000/svg\" height=\"24px\"viewBox=\"0 0 24 24\"\n",
              "     width=\"24px\">\n",
              "    <g>\n",
              "        <path d=\"M19 3H5c-1.1 0-2 .9-2 2v14c0 1.1.9 2 2 2h14c1.1 0 2-.9 2-2V5c0-1.1-.9-2-2-2zM9 17H7v-7h2v7zm4 0h-2V7h2v10zm4 0h-2v-4h2v4z\"/>\n",
              "    </g>\n",
              "</svg>\n",
              "      </button>\n",
              "    </div>\n",
              "\n",
              "<style>\n",
              "  .colab-df-quickchart {\n",
              "    background-color: #E8F0FE;\n",
              "    border: none;\n",
              "    border-radius: 50%;\n",
              "    cursor: pointer;\n",
              "    display: none;\n",
              "    fill: #1967D2;\n",
              "    height: 32px;\n",
              "    padding: 0 0 0 0;\n",
              "    width: 32px;\n",
              "  }\n",
              "\n",
              "  .colab-df-quickchart:hover {\n",
              "    background-color: #E2EBFA;\n",
              "    box-shadow: 0px 1px 2px rgba(60, 64, 67, 0.3), 0px 1px 3px 1px rgba(60, 64, 67, 0.15);\n",
              "    fill: #174EA6;\n",
              "  }\n",
              "\n",
              "  [theme=dark] .colab-df-quickchart {\n",
              "    background-color: #3B4455;\n",
              "    fill: #D2E3FC;\n",
              "  }\n",
              "\n",
              "  [theme=dark] .colab-df-quickchart:hover {\n",
              "    background-color: #434B5C;\n",
              "    box-shadow: 0px 1px 3px 1px rgba(0, 0, 0, 0.15);\n",
              "    filter: drop-shadow(0px 1px 2px rgba(0, 0, 0, 0.3));\n",
              "    fill: #FFFFFF;\n",
              "  }\n",
              "</style>\n",
              "\n",
              "    <script>\n",
              "      async function quickchart(key) {\n",
              "        const containerElement = document.querySelector('#' + key);\n",
              "        const charts = await google.colab.kernel.invokeFunction(\n",
              "            'suggestCharts', [key], {});\n",
              "      }\n",
              "    </script>\n",
              "\n",
              "      <script>\n",
              "\n",
              "function displayQuickchartButton(domScope) {\n",
              "  let quickchartButtonEl =\n",
              "    domScope.querySelector('#df-e105b1b4-a41c-4bd7-9ddd-c397edde872f button.colab-df-quickchart');\n",
              "  quickchartButtonEl.style.display =\n",
              "    google.colab.kernel.accessAllowed ? 'block' : 'none';\n",
              "}\n",
              "\n",
              "        displayQuickchartButton(document);\n",
              "      </script>\n",
              "      <style>\n",
              "    .colab-df-container {\n",
              "      display:flex;\n",
              "      flex-wrap:wrap;\n",
              "      gap: 12px;\n",
              "    }\n",
              "\n",
              "    .colab-df-convert {\n",
              "      background-color: #E8F0FE;\n",
              "      border: none;\n",
              "      border-radius: 50%;\n",
              "      cursor: pointer;\n",
              "      display: none;\n",
              "      fill: #1967D2;\n",
              "      height: 32px;\n",
              "      padding: 0 0 0 0;\n",
              "      width: 32px;\n",
              "    }\n",
              "\n",
              "    .colab-df-convert:hover {\n",
              "      background-color: #E2EBFA;\n",
              "      box-shadow: 0px 1px 2px rgba(60, 64, 67, 0.3), 0px 1px 3px 1px rgba(60, 64, 67, 0.15);\n",
              "      fill: #174EA6;\n",
              "    }\n",
              "\n",
              "    [theme=dark] .colab-df-convert {\n",
              "      background-color: #3B4455;\n",
              "      fill: #D2E3FC;\n",
              "    }\n",
              "\n",
              "    [theme=dark] .colab-df-convert:hover {\n",
              "      background-color: #434B5C;\n",
              "      box-shadow: 0px 1px 3px 1px rgba(0, 0, 0, 0.15);\n",
              "      filter: drop-shadow(0px 1px 2px rgba(0, 0, 0, 0.3));\n",
              "      fill: #FFFFFF;\n",
              "    }\n",
              "  </style>\n",
              "\n",
              "      <script>\n",
              "        const buttonEl =\n",
              "          document.querySelector('#df-1944c520-4153-49bc-a0d8-1cc5d5d7ca80 button.colab-df-convert');\n",
              "        buttonEl.style.display =\n",
              "          google.colab.kernel.accessAllowed ? 'block' : 'none';\n",
              "\n",
              "        async function convertToInteractive(key) {\n",
              "          const element = document.querySelector('#df-1944c520-4153-49bc-a0d8-1cc5d5d7ca80');\n",
              "          const dataTable =\n",
              "            await google.colab.kernel.invokeFunction('convertToInteractive',\n",
              "                                                     [key], {});\n",
              "          if (!dataTable) return;\n",
              "\n",
              "          const docLinkHtml = 'Like what you see? Visit the ' +\n",
              "            '<a target=\"_blank\" href=https://colab.research.google.com/notebooks/data_table.ipynb>data table notebook</a>'\n",
              "            + ' to learn more about interactive tables.';\n",
              "          element.innerHTML = '';\n",
              "          dataTable['output_type'] = 'display_data';\n",
              "          await google.colab.output.renderOutput(dataTable, element);\n",
              "          const docLink = document.createElement('div');\n",
              "          docLink.innerHTML = docLinkHtml;\n",
              "          element.appendChild(docLink);\n",
              "        }\n",
              "      </script>\n",
              "    </div>\n",
              "  </div>\n"
            ]
          },
          "metadata": {},
          "execution_count": 2
        }
      ]
    },
    {
      "cell_type": "code",
      "source": [
        "import konlpy\n",
        "import re\n",
        "from tqdm import tqdm"
      ],
      "metadata": {
        "id": "fe53GsOtnwXS"
      },
      "execution_count": 3,
      "outputs": []
    },
    {
      "cell_type": "code",
      "source": [
        "def tokenize_text(text):\n",
        "    text = re.sub(r'[^ㄱ-ㅣ가-힣\\s]','',text)\n",
        "\n",
        "    okt = konlpy.tag.Okt()\n",
        "    okt_morphs = okt.pos(text)\n",
        "\n",
        "    words = []\n",
        "    for word, pos in okt_morphs:\n",
        "        if pos in ['Adjective','Verb','Noun']:\n",
        "            words.append(word)\n",
        "\n",
        "    word_str = ' '.join(words)\n",
        "    return word_str\n",
        "\n",
        "tokenize_text('안녕하세요, 잘쓰고 있긴한데 한 몇주전부터 셀카모드(고화질)로 촬영하면')"
      ],
      "metadata": {
        "colab": {
          "base_uri": "https://localhost:8080/",
          "height": 35
        },
        "id": "rD5L4YupnwT6",
        "outputId": "f97e937b-be6b-48df-ca34-df67562f48b2"
      },
      "execution_count": 6,
      "outputs": [
        {
          "output_type": "execute_result",
          "data": {
            "text/plain": [
              "'안녕하세요 잘쓰고 있긴한데 한 주전 셀카 모드 고화질 촬영 하면'"
            ],
            "application/vnd.google.colaboratory.intrinsic+json": {
              "type": "string"
            }
          },
          "metadata": {},
          "execution_count": 6
        }
      ]
    },
    {
      "cell_type": "code",
      "source": [
        "token_list = []\n",
        "for text in tqdm(df['text']):\n",
        "    token_list.append(tokenize_text(text))\n",
        ""
      ],
      "metadata": {
        "colab": {
          "base_uri": "https://localhost:8080/"
        },
        "id": "PB2NCSHhn7Gw",
        "outputId": "b48e9860-cf7c-4e2e-c375-0cadb92b3315"
      },
      "execution_count": 7,
      "outputs": [
        {
          "output_type": "stream",
          "name": "stderr",
          "text": [
            "100%|██████████| 1000/1000 [00:18<00:00, 54.19it/s]\n"
          ]
        }
      ]
    },
    {
      "cell_type": "code",
      "source": [
        "token_list[1]"
      ],
      "metadata": {
        "colab": {
          "base_uri": "https://localhost:8080/",
          "height": 54
        },
        "id": "fbipPjxDoBg9",
        "outputId": "b92188ac-55c6-4e9e-d566-4e94f60272b4"
      },
      "execution_count": 8,
      "outputs": [
        {
          "output_type": "execute_result",
          "data": {
            "text/plain": [
              "'안녕하세요 잘쓰고 있긴한데 한 주전 셀카 모드 고화질 촬영 하면 렉 잠깐 걸렸다가 카메라 사용 할수 없다 뜨고 저장 안되네요 안되는 경우 더 많고 정말 가끔 저장 됩니다 폰 껐다 켜 봤고 스노우 어플 삭제 했다 깔아 봤습니다 폰 기종은 갤고요 후 카메라 저장 됩니다 한 이유 필터 및 고화질 셀카 찍으려 한건데 안되니 답답하네요 해결 부탁드립니다'"
            ],
            "application/vnd.google.colaboratory.intrinsic+json": {
              "type": "string"
            }
          },
          "metadata": {},
          "execution_count": 8
        }
      ]
    },
    {
      "cell_type": "code",
      "source": [
        "# 짧은 문장을 찾아서 corpus_list에 넣어준다. 하지만 여긴 없기 때문에 빈 리스트가 나온다.\n",
        "# 짧은 문장을 찾아서 삭제\n",
        "corpus_list = []\n",
        "\n",
        "for index in range(len(token_list)):\n",
        "    corpus = token_list[index]\n",
        "    if len(set(corpus.split())) < 3:\n",
        "        corpus_list.append(corpus)\n",
        "\n",
        "for corpus in corpus_list:\n",
        "    token_list.remove(corpus)"
      ],
      "metadata": {
        "id": "ttmv0ZWEoKap"
      },
      "execution_count": 9,
      "outputs": []
    },
    {
      "cell_type": "code",
      "source": [
        "corpus_list"
      ],
      "metadata": {
        "colab": {
          "base_uri": "https://localhost:8080/"
        },
        "id": "HjehzlcroMef",
        "outputId": "94737001-c7c0-477a-d128-40fb03239012"
      },
      "execution_count": 10,
      "outputs": [
        {
          "output_type": "execute_result",
          "data": {
            "text/plain": [
              "[]"
            ]
          },
          "metadata": {},
          "execution_count": 10
        }
      ]
    },
    {
      "cell_type": "code",
      "source": [
        "from sklearn.feature_extraction.text import CountVectorizer\n",
        "from sklearn.decomposition import LatentDirichletAllocation"
      ],
      "metadata": {
        "id": "h7Gb9fxuoPwa"
      },
      "execution_count": 11,
      "outputs": []
    },
    {
      "cell_type": "code",
      "source": [
        "# LDA는 count 기반의 vectorizer만 사용해야한다.'\n",
        "# max_df : 전체에서 10%이상 나타나는 단어를 쓰겠다.\n",
        "# min_df : 전체에서 두개 문장 미만에서 등장하는 단어를 제외한다.\n",
        "# ngram_range : 단어를 만들때 두개의 단어?를 결합하여 찾아주는 함수 ex) 내 주문, 안녕 하세요. 이런식의 두개의 단어?가 얼마나 쓰였는지 찾아줌.\n",
        "count_vectorizer = CountVectorizer(max_df = 0.1, min_df = 2, max_features = 1000, ngram_range = (1,2))\n",
        "\n",
        "feat_vect = count_vectorizer.fit_transform(token_list)\n",
        "feat_vect.shape"
      ],
      "metadata": {
        "colab": {
          "base_uri": "https://localhost:8080/"
        },
        "id": "PE1zNzUqoPuH",
        "outputId": "9e8f5d40-ddc5-47b8-8454-e6079de9a8b4"
      },
      "execution_count": 12,
      "outputs": [
        {
          "output_type": "execute_result",
          "data": {
            "text/plain": [
              "(1000, 1000)"
            ]
          },
          "metadata": {},
          "execution_count": 12
        }
      ]
    },
    {
      "cell_type": "code",
      "source": [
        "# n_components : 다섯개의 비슷한 주제로 묶어봐라.\n",
        "lda = LatentDirichletAllocation(n_components=5)\n",
        "lda.fit(feat_vect)"
      ],
      "metadata": {
        "colab": {
          "base_uri": "https://localhost:8080/",
          "height": 74
        },
        "id": "uJbIRgLJoPsO",
        "outputId": "f6c63fc4-637a-4790-d588-bcdbdeba6a16"
      },
      "execution_count": 13,
      "outputs": [
        {
          "output_type": "execute_result",
          "data": {
            "text/plain": [
              "LatentDirichletAllocation(n_components=5)"
            ],
            "text/html": [
              "<style>#sk-container-id-1 {color: black;background-color: white;}#sk-container-id-1 pre{padding: 0;}#sk-container-id-1 div.sk-toggleable {background-color: white;}#sk-container-id-1 label.sk-toggleable__label {cursor: pointer;display: block;width: 100%;margin-bottom: 0;padding: 0.3em;box-sizing: border-box;text-align: center;}#sk-container-id-1 label.sk-toggleable__label-arrow:before {content: \"▸\";float: left;margin-right: 0.25em;color: #696969;}#sk-container-id-1 label.sk-toggleable__label-arrow:hover:before {color: black;}#sk-container-id-1 div.sk-estimator:hover label.sk-toggleable__label-arrow:before {color: black;}#sk-container-id-1 div.sk-toggleable__content {max-height: 0;max-width: 0;overflow: hidden;text-align: left;background-color: #f0f8ff;}#sk-container-id-1 div.sk-toggleable__content pre {margin: 0.2em;color: black;border-radius: 0.25em;background-color: #f0f8ff;}#sk-container-id-1 input.sk-toggleable__control:checked~div.sk-toggleable__content {max-height: 200px;max-width: 100%;overflow: auto;}#sk-container-id-1 input.sk-toggleable__control:checked~label.sk-toggleable__label-arrow:before {content: \"▾\";}#sk-container-id-1 div.sk-estimator input.sk-toggleable__control:checked~label.sk-toggleable__label {background-color: #d4ebff;}#sk-container-id-1 div.sk-label input.sk-toggleable__control:checked~label.sk-toggleable__label {background-color: #d4ebff;}#sk-container-id-1 input.sk-hidden--visually {border: 0;clip: rect(1px 1px 1px 1px);clip: rect(1px, 1px, 1px, 1px);height: 1px;margin: -1px;overflow: hidden;padding: 0;position: absolute;width: 1px;}#sk-container-id-1 div.sk-estimator {font-family: monospace;background-color: #f0f8ff;border: 1px dotted black;border-radius: 0.25em;box-sizing: border-box;margin-bottom: 0.5em;}#sk-container-id-1 div.sk-estimator:hover {background-color: #d4ebff;}#sk-container-id-1 div.sk-parallel-item::after {content: \"\";width: 100%;border-bottom: 1px solid gray;flex-grow: 1;}#sk-container-id-1 div.sk-label:hover label.sk-toggleable__label {background-color: #d4ebff;}#sk-container-id-1 div.sk-serial::before {content: \"\";position: absolute;border-left: 1px solid gray;box-sizing: border-box;top: 0;bottom: 0;left: 50%;z-index: 0;}#sk-container-id-1 div.sk-serial {display: flex;flex-direction: column;align-items: center;background-color: white;padding-right: 0.2em;padding-left: 0.2em;position: relative;}#sk-container-id-1 div.sk-item {position: relative;z-index: 1;}#sk-container-id-1 div.sk-parallel {display: flex;align-items: stretch;justify-content: center;background-color: white;position: relative;}#sk-container-id-1 div.sk-item::before, #sk-container-id-1 div.sk-parallel-item::before {content: \"\";position: absolute;border-left: 1px solid gray;box-sizing: border-box;top: 0;bottom: 0;left: 50%;z-index: -1;}#sk-container-id-1 div.sk-parallel-item {display: flex;flex-direction: column;z-index: 1;position: relative;background-color: white;}#sk-container-id-1 div.sk-parallel-item:first-child::after {align-self: flex-end;width: 50%;}#sk-container-id-1 div.sk-parallel-item:last-child::after {align-self: flex-start;width: 50%;}#sk-container-id-1 div.sk-parallel-item:only-child::after {width: 0;}#sk-container-id-1 div.sk-dashed-wrapped {border: 1px dashed gray;margin: 0 0.4em 0.5em 0.4em;box-sizing: border-box;padding-bottom: 0.4em;background-color: white;}#sk-container-id-1 div.sk-label label {font-family: monospace;font-weight: bold;display: inline-block;line-height: 1.2em;}#sk-container-id-1 div.sk-label-container {text-align: center;}#sk-container-id-1 div.sk-container {/* jupyter's `normalize.less` sets `[hidden] { display: none; }` but bootstrap.min.css set `[hidden] { display: none !important; }` so we also need the `!important` here to be able to override the default hidden behavior on the sphinx rendered scikit-learn.org. See: https://github.com/scikit-learn/scikit-learn/issues/21755 */display: inline-block !important;position: relative;}#sk-container-id-1 div.sk-text-repr-fallback {display: none;}</style><div id=\"sk-container-id-1\" class=\"sk-top-container\"><div class=\"sk-text-repr-fallback\"><pre>LatentDirichletAllocation(n_components=5)</pre><b>In a Jupyter environment, please rerun this cell to show the HTML representation or trust the notebook. <br />On GitHub, the HTML representation is unable to render, please try loading this page with nbviewer.org.</b></div><div class=\"sk-container\" hidden><div class=\"sk-item\"><div class=\"sk-estimator sk-toggleable\"><input class=\"sk-toggleable__control sk-hidden--visually\" id=\"sk-estimator-id-1\" type=\"checkbox\" checked><label for=\"sk-estimator-id-1\" class=\"sk-toggleable__label sk-toggleable__label-arrow\">LatentDirichletAllocation</label><div class=\"sk-toggleable__content\"><pre>LatentDirichletAllocation(n_components=5)</pre></div></div></div></div></div>"
            ]
          },
          "metadata": {},
          "execution_count": 13
        }
      ]
    },
    {
      "cell_type": "code",
      "source": [
        "feature_names = count_vectorizer.get_feature_names_out()\n",
        "\n",
        "def display_topics(model, feature_names, num_top_words=10):\n",
        "    for topic_index, topic in enumerate(model.components_):\n",
        "        print('Topic #',topic_index)\n",
        "        topic_word_indexes = topic.argsort()[::-1]\n",
        "        top_indexes = topic_word_indexes[:num_top_words]\n",
        "\n",
        "        print(top_indexes)\n",
        "        feature_concat = ' '.join([feature_names[i] for i in top_indexes])\n",
        "        print(feature_concat)\n",
        "\n",
        "display_topics(lda,feature_names, 20)"
      ],
      "metadata": {
        "colab": {
          "base_uri": "https://localhost:8080/"
        },
        "id": "wf48M4SVoPpp",
        "outputId": "7cf6a794-754c-4953-e229-47bc5ef627f5"
      },
      "execution_count": 14,
      "outputs": [
        {
          "output_type": "stream",
          "name": "stdout",
          "text": [
            "Topic # 0\n",
            "[881 588 818 407 311 968 882 958 859 534 514 449  12 438 868 399 394 355\n",
            " 262 819]\n",
            "폴더 오류 찍으면 삭제 문제 핸드폰 폴더 저장 해서 카메라 폴더 앨범 안되네요 스노우 폴더 갑자기 수정 터치 사진 찍으면 사진 저장 부탁드립니다 로딩 찍은\n",
            "Topic # 1\n",
            "[ 19 775 675 771  53 801 594 184 755 656 653 280  11 907 579 708 248 768\n",
            " 289 415]\n",
            "같아요 좋은 있어서 좋아요 게임 진짜 완전 단점 조절 있는 있고 많아서 감사합니다 하는 예쁘고 장점 때문 좋습니다 메이크업 생각\n",
            "Topic # 2\n",
            "[ 87 875 771 801 197 907 656 168 677 311 374 662 546 947 608  46 853 263\n",
            " 430 848]\n",
            "광고 편집 좋아요 진짜 동영상 하는 있는 다른 있어요 문제 사람 있는데 얼굴 합니다 유저 검색 친구 리뷰 셀카 추천\n",
            "Topic # 3\n",
            "[839 425 691 726  28 574 422 197 331 430 433 546 168 295  33 156  84 801\n",
            " 637 903]\n",
            "촬영 설정 자동 적용 개선 영상 선택 동영상 버튼 셀카 소리 얼굴 다른 모드 갤럭시 누르면 광각 진짜 이후 하나\n",
            "Topic # 4\n",
            "[993 886 496 588 457 310 302 852  91 605 186  62 958 833 753 949 629 991\n",
            " 552 355]\n",
            "환불 프로필 아바타 오류 시간 문의 무료 취소 구독 유료 답변 결제 했는데 해서 처리 젤리 해결 이용 확인 없고 부탁드립니다\n"
          ]
        }
      ]
    },
    {
      "cell_type": "code",
      "source": [
        "import pyLDAvis.lda_model\n",
        "\n",
        "pyLDAvis.enable_notebook()\n",
        "vis = pyLDAvis.lda_model.prepare(lda, feat_vect, count_vectorizer)\n",
        "pyLDAvis.display(vis)"
      ],
      "metadata": {
        "colab": {
          "base_uri": "https://localhost:8080/",
          "height": 860
        },
        "id": "hvy3eG3poe34",
        "outputId": "3a36b5e0-8ed0-4207-d3c8-d57f672bcae2"
      },
      "execution_count": 15,
      "outputs": [
        {
          "output_type": "execute_result",
          "data": {
            "text/plain": [
              "<IPython.core.display.HTML object>"
            ],
            "text/html": [
              "\n",
              "<link rel=\"stylesheet\" type=\"text/css\" href=\"https://cdn.jsdelivr.net/gh/bmabey/pyLDAvis@3.4.0/pyLDAvis/js/ldavis.v1.0.0.css\">\n",
              "\n",
              "\n",
              "<div id=\"ldavis_el14461404751376972488466300827\" style=\"background-color:white;\"></div>\n",
              "<script type=\"text/javascript\">\n",
              "\n",
              "var ldavis_el14461404751376972488466300827_data = {\"mdsDat\": {\"x\": [0.09851877872596661, 0.020153646928486053, -0.2589230951146771, 0.16218652106318054, -0.021935851602956052], \"y\": [-0.052933122400113025, 0.1556829907499161, -0.10421331441052947, -0.1350938784834826, 0.13655732454420902], \"topics\": [1, 2, 3, 4, 5], \"cluster\": [1, 1, 1, 1, 1], \"Freq\": [27.432780167005927, 23.306889954860768, 17.74417177656368, 17.31054064561378, 14.20561745595584]}, \"tinfo\": {\"Term\": [\"\\ud658\\ubd88\", \"\\ud504\\ub85c\\ud544\", \"\\uc544\\ubc14\\ud0c0\", \"\\ud3f4\\ub354\", \"\\ucd2c\\uc601\", \"\\uc124\\uc815\", \"\\uc624\\ub958\", \"\\uc88b\\uc544\\uc694\", \"\\uc88b\\uc740\", \"\\uc788\\uc5b4\\uc11c\", \"\\uad11\\uace0\", \"\\ubb38\\uc758\", \"\\ud3b8\\uc9d1\", \"\\ubb34\\ub8cc\", \"\\uad6c\\ub3c5\", \"\\uac19\\uc544\\uc694\", \"\\ucde8\\uc18c\", \"\\uc801\\uc6a9\", \"\\uc790\\ub3d9\", \"\\uc720\\ub8cc\", \"\\uac1c\\uc120\", \"\\uc120\\ud0dd\", \"\\ub2f5\\ubcc0\", \"\\uc2dc\\uac04\", \"\\uac8c\\uc784\", \"\\uacb0\\uc81c \\ud588\\ub294\\ub370\", \"\\ub3d9\\uc601\\uc0c1\", \"\\ucc0d\\uc73c\\uba74\", \"\\ucc98\\ub9ac\", \"\\ub2e8\\uc810\", \"\\uac80\\uc0c9\", \"\\uc0ac\\uc9c4 \\ud3b8\\uc9d1\", \"\\uac80\\uc0c9 \\uae30\\ub2a5\", \"\\ud3b8\\uc9d1 \\uae30\\ub2a5\", \"\\ub290\\ub824\\uc694\", \"\\ucc28\\uc9c0\", \"\\ud558\\ub2e4\", \"\\ub124\\ud2b8\\uc6cc\\ud06c\", \"\\uc4f0\\uace0 \\uc788\\ub294\\ub370\", \"\\ucc3e\\uae30\", \"\\uac24\\ub7ed\\uc2dc \\ub178\\ud2b8\", \"\\ube0c\\ub7ec\\uc26c\", \"\\uac70\\ub9ac\", \"\\ucd94\\ucc9c \\ud569\\ub2c8\\ub2e4\", \"\\ud295\\uaca8\", \"\\uc2a4\\ud2f0\\ucee4 \\uac80\\uc0c9\", \"\\uc0ac\\ub78c \\uc785\\ub2c8\\ub2e4\", \"\\uadf8\\ub9ac\\uad6c\", \"\\uac15\\ucd94\", \"\\ud2f1\\ud1a1\", \"\\uc0ac\\uc9c4 \\ucc0d\\uc73c\\ub824\\uace0\", \"\\uc77c\\ub2e8 \\uc7a5\\uc810\", \"\\uc4f0\\uace0 \\uc788\\ub294\", \"\\uc790\\uae30 \\uc6d0\\ud558\\ub294\", \"\\uc6c0\\uc9c1\\uc774\\ub294\", \"\\uc544\\uc774\\ud3f0\", \"\\ud3b8\\uc9d1 \\ud558\\uba74\", \"\\uac70\\uae30\", \"\\ubc30\\ud130\\ub9ac\", \"\\ub9c8\\ub2e4\", \"\\uc774\\uc810\", \"\\ud3b8\\uc9d1\", \"\\uad11\\uace0\", \"\\ub2e4\\ub978 \\uc5b4\\ud50c\", \"\\ud544\\ud130 \\uc0ac\\uc6a9\", \"\\uace0\\uccd0\", \"\\uc88b\\uc544\\uc694\", \"\\ucc0d\\uc73c\\ub824\\uace0\", \"\\uac78\\ub9ac\\uace0\", \"\\uc608\\uc058\\uac8c\", \"\\uc720\\uc800\", \"\\ub370\\uc774\\ud130\", \"\\uc21c\\uc815\\ub9cc\\ud654\", \"\\uce5c\\uad6c\", \"\\uace0\\uccd0\\uc8fc\\uc138\\uc694\", \"\\uc77c\\ub2e8\", \"\\uc788\\uc5b4\\uc694\", \"\\uc544\\uc8fc\", \"\\uc0ac\\ub78c\", \"\\uc2a4\\ub178\\uc6b0 \\uc0ac\\uc6a9\", \"\\uac00\\ub054\", \"\\ubb38\\uc81c\", \"\\ub9ac\\ubdf0\", \"\\ub3d9\\uc601\\uc0c1\", \"\\uc788\\ub294\", \"\\uc788\\ub294\\ub370\", \"\\ucd94\\ucc9c\", \"\\uc9c4\\uc9dc\", \"\\ud558\\ub294\", \"\\ucc98\\uc74c\", \"\\ud569\\ub2c8\\ub2e4\", \"\\ub2e4\\ub978\", \"\\uc548\\ub155\\ud558\\uc138\\uc694\", \"\\ub2e8\\uc810\", \"\\uc5bc\\uad74\", \"\\uc4f0\\uace0\", \"\\ud55c\\ubc88\", \"\\uc788\\uc2b5\\ub2c8\\ub2e4\", \"\\uc788\\uc5b4\\uc11c\", \"\\uc140\\uce74\", \"\\ucc0d\\uace0\", \"\\uc88b\\uc740\", \"\\uac19\\uc544\\uc694\", \"\\uad11\\uac01\", \"\\uc790\\ub3d9 \\uc800\\uc7a5\", \"\\uc804\\uba74\", \"\\ucd2c\\uc601 \\ubc84\\ud2bc\", \"\\ubc84\\ud2bc \\ub204\\ub974\\uba74\", \"\\uc804\\uba74 \\uce74\\uba54\\ub77c\", \"\\uac1c\\uc120 \\ud574\\uc8fc\\uc138\\uc694\", \"\\ub098\\uc624\\ub124\\uc694\", \"\\ubb34\\uc74c\", \"\\uc124\\uc815\", \"\\uc2a4\\ud2f0\\ucee4 \\uc801\\uc6a9\", \"\\ub3d9\\uc601\\uc0c1 \\ucd2c\\uc601\", \"\\ucd2c\\uc601\", \"\\uad00\\ub9ac\", \"\\uc5c5\\ub370\\uc774\\ud2b8 \\uc774\\ud6c4\", \"\\uc120\\ud0dd\", \"\\uc804\\uc774\", \"\\uadf8\\ub798\\uc694\", \"\\uac24\\ub7ed\\uc2dc \\uc785\\ub2c8\\ub2e4\", \"\\ub418\\uc5c8\\uc73c\\uba74\", \"\\uc88b\\uc558\\ub294\\ub370\", \"\\uc798\\uc4f0\\uace0\\uc788\\uc5c8\\ub294\\ub370\", \"\\ud50c\\ub7ec\\uc2a4\", \"\\uc774\\uc5c8\\ub294\\ub370\", \"\\uc800\\uc7a5 \\uc548\\ub429\\ub2c8\\ub2e4\", \"\\uc0ac\\uc9c4 \\uc120\\ud0dd\", \"\\uc544\\ub2d8\", \"\\uc5c6\\uc74c\", \"\\uce74\\uba54\\ub77c \\ucd2c\\uc601\", \"\\uc815\\ub9ac\", \"\\uc18c\\ub9ac\", \"\\uc801\\uc6a9\", \"\\ub204\\ub974\\uace0\", \"\\uc790\\ub3d9\", \"\\uac1c\\uc120\", \"\\uc154\\ud130\", \"\\ud574\\uc0c1\\ub3c4\", \"\\ud588\\ub2e4\\uac00\", \"\\ud544\\ud130 \\uc801\\uc6a9\", \"\\ubaa8\\ub4dc\", \"\\uc601\\uc0c1\", \"\\ub204\\ub974\\uba74\", \"\\uac24\\ub7ed\\uc2dc\", \"\\ubc84\\ud2bc\", \"\\ud6a8\\uacfc\", \"\\ucc0d\\ud600\\uc11c\", \"\\ub3d9\\uc601\\uc0c1\", \"\\uc140\\uce74\", \"\\uc774\\ud6c4\", \"\\ubdf0\\ud2f0\", \"\\ubd88\\ud3b8\\ud574\\uc694\", \"\\uae30\\ubcf8\", \"\\uc5bc\\uad74\", \"\\uc6d0\\ub798\", \"\\ub2e4\\ub978\", \"\\uc218\\uc815\", \"\\uc788\\uc5c8\\ub294\\ub370\", \"\\ud558\\ub098\", \"\\uac11\\uc790\\uae30\", \"\\uc9c4\\uc9dc\", \"\\uc0ad\\uc81c\", \"\\ud574\\uc11c\", \"\\ud658\\ubd88\", \"\\ud504\\ub85c\\ud544\", \"\\uc544\\ubc14\\ud0c0\", \"\\ubb34\\ub8cc\", \"\\uad6c\\ub3c5\", \"\\uacb0\\uc81c \\ud588\\ub294\\ub370\", \"\\ucc98\\ub9ac\", \"\\ud658\\ubd88 \\ud574\\uc8fc\\uc138\\uc694\", \"\\uba54\\uc77c\", \"\\uccb4\\ud5d8\", \"\\ud574\\uc9c0\", \"\\ubb34\\ub8cc \\uccb4\\ud5d8\", \"\\ud504\\ub85c\\ud544 \\uacb0\\uc81c\", \"\\uace0\\uac1d\", \"\\ubb38\\uc758\", \"\\ucde8\\uc18c\", \"\\uc815\\uae30\", \"\\uace0\\uac1d \\uc13c\\ud130\", \"\\uc13c\\ud130\", \"\\uc9c4\\ud589\", \"\\ud658\\ubd88 \\uc694\\uccad\", \"\\uc11c\\ube44\\uc2a4\", \"\\uc815\\uae30 \\uacb0\\uc81c\", \"\\uba70\\uce60\", \"\\uc2e0\\uccad\", \"\\uc548\\ub418\\uc694\", \"\\uad6c\\uae00\", \"\\uad6c\\ub3c5 \\ucde8\\uc18c\", \"\\uacb0\\uc81c \\ub418\\uace0\", \"\\ub2e4\\uc2dc \\uacb0\\uc81c\", \"\\ub2f5\\ubcc0\", \"\\uc720\\ub8cc\", \"\\uc824\\ub9ac\", \"\\uc694\\uccad\", \"\\uc2dc\\uac04\", \"\\uc624\\ub958\", \"\\uc644\\ub8cc\", \"\\ub9cc\\ub4e4\\uae30\", \"\\uc774\\uc6a9\", \"\\uc5c6\\uace0\", \"\\ud655\\uc778\", \"\\ud574\\uacb0\", \"\\ubd80\\ud0c1\\ub4dc\\ub9bd\\ub2c8\\ub2e4\", \"\\ud574\\uc11c\", \"\\ub728\\uace0\", \"\\ud558\\uc9c0\", \"\\uc5b4\\ub5bb\\uac8c\", \"\\uc608\\uc058\\uace0\", \"\\uc601\\uc0c1\\ud1b5\\ud654\", \"\\uc88b\\ub124\\uc694\", \"\\uadc0\\uc5ec\\uc6b4\", \"\\uc88b\\uc740 \\uac19\\uc544\\uc694\", \"\\uc870\\uc808\", \"\\ucd5c\\uace0\", \"\\ud55c\\uac00\\uc9c0\", \"\\ub2e4\\uc591\\ud558\\uac8c\", \"\\ud544\\ud130 \\uc2a4\\ud2f0\\ucee4\", \"\\uc2a4\\ud2f0\\ucee4 \\ub9ce\\uc544\\uc11c\", \"\\uc0dd\\uac01 \\ud569\\ub2c8\\ub2e4\", \"\\uc2a4\\ud2f0\\ucee4 \\ud544\\ud130\", \"\\uc0b4\\uc9dd\", \"\\uc7ac\\ubc0c\\uace0\", \"\\uc77d\\uc5b4\\uc8fc\\uc154\\uc11c\", \"\\uae30\\ub2a5 \\uc788\\uc73c\\uba74\", \"\\uc5fc\\uc0c9\", \"\\uc6c3\\uae34\", \"\\uc788\\uc5c8\\uc73c\\uba74 \\uc88b\\uaca0\\uc5b4\\uc694\", \"\\uc601\\uc0c1\\ud1b5\\ud654 \\uae30\\ub2a5\", \"\\uc7ac\\ubc0c\\uc5b4\\uc694\", \"\\uce5c\\uad6c \\uc0ac\\uc9c4\", \"\\ub9cc\\ub4dc\\uc2e0\", \"\\uc77d\\uc5b4\\uc8fc\\uc154\\uc11c \\uac10\\uc0ac\\ud569\\ub2c8\\ub2e4\", \"\\uc788\\ub2e4\", \"\\uc4f0\\uace0\\uc788\\uc2b5\\ub2c8\\ub2e4\", \"\\uae30\\ub2a5 \\uc815\\ub9d0\", \"\\uac00\\uc871\", \"\\ub2c8\\ub2f9\", \"\\uac8c\\uc784\", \"\\uac10\\uc0ac\\ud569\\ub2c8\\ub2e4\", \"\\uc788\\ub2e4\\uba74\", \"\\uc0ac\\uc9c4 \\ucc0d\\ub294\", \"\\uc644\\uc804\", \"\\uc88b\\uc740\", \"\\uc788\\uc73c\\uba74\", \"\\uc788\\uc5b4\\uc11c\", \"\\ucc0d\\uc744\\uc218\", \"\\uac19\\uc544\\uc694\", \"\\ub9ce\\uc544\\uc11c\", \"\\uc608\\uc05c\", \"\\uc88b\\uc2b5\\ub2c8\\ub2e4\", \"\\uc788\\uc5c8\\uc73c\\uba74\", \"\\ub2e8\\uc810\", \"\\uc7a5\\uc810\", \"\\uc788\\uace0\", \"\\uc774\\ud399\\ud2b8\", \"\\uc88b\\uc544\\uc694\", \"\\uba54\\uc774\\ud06c\\uc5c5\", \"\\uc0dd\\uac01\", \"\\ub54c\\ubb38\", \"\\ucd94\\ucc9c\", \"\\uc788\\ub294\", \"\\uc870\\uae08\", \"\\uc88b\\uaca0\\uc5b4\\uc694\", \"\\uc9c4\\uc9dc\", \"\\ub9cc\\ub4e4\\uc5b4\", \"\\ud558\\ub294\", \"\\uc0ac\\ub78c\", \"\\ub2e4\\uc6b4\\ub85c\\ub4dc\", \"\\uc5bc\\uad74\", \"\\uc9c0\\uae08\", \"\\uc548\\ub155\\ud558\\uc138\\uc694\", \"\\uc568\\ubc94\", \"\\ucd08\\uae30\", \"\\uc2a4\\ub178\\uc6b0 \\ud3f4\\ub354\", \"\\ubb34\\ud55c\", \"\\ubb34\\ud55c \\ub85c\\ub529\", \"\\ub2e4\\uc2dc \\uae54\\uc544\\ub3c4\", \"\\uc88b\\uc744\\uac83 \\uac19\\uc544\\uc694\", \"\\uc568\\ubc94 \\uc800\\uc7a5\", \"\\uc800\\uc7a5 \\ub418\\ub124\\uc694\", \"\\uc9c0\\uc6b0\\uace0 \\ub2e4\\uc2dc\", \"\\uc815\\ubcf4\", \"\\ub4e4\\uc5b4\\uac00\\uace0\", \"\\ud53c\\ub4dc\\ubc31\", \"\\ud654\\uba74 \\ud130\\uce58\", \"\\uc800\\uc7a5 \\uc704\\uce58\", \"\\uc0ac\\uc9c4 \\uc0ad\\uc81c\", \"\\uc815\\ub9d0 \\uc88b\\uc2b5\\ub2c8\\ub2e4\", \"\\uae54\\uc544\\ub3c4\", \"\\ub418\\ub294\\uac74\", \"\\ucd08\\uc810\", \"\\uc704\\uce58\", \"\\ucc0d\\uc740 \\uc0ac\\uc9c4\", \"\\ud3f4\\ub354 \\uc800\\uc7a5\", \"\\ub2e4\\ub974\\uac8c\", \"\\uce74\\uba54\\ub77c \\ud3f4\\ub354\", \"\\ub2a6\\uac8c\", \"\\uc0ac\\uc9c4 \\ucc0d\\uc73c\\uba74\", \"\\ub418\\uc9c0 \\uc54a\\uace0\", \"\\ud3f4\\ub354\", \"\\uc218\\uc815 \\ud574\\uc8fc\\uc138\\uc694\", \"\\uc548\\ub418\\ub124\\uc694\", \"\\ub85c\\ub529\", \"\\ucc0d\\ud600\\uc694\", \"\\ucc0d\\uc73c\\uba74\", \"\\ucc0d\\ud788\\uace0\", \"\\ud578\\ub4dc\\ud3f0\", \"\\ud130\\uce58\", \"\\uc0ad\\uc81c\", \"\\uc624\\ub958\", \"\\uc0ac\\uc9c4 \\uc800\\uc7a5\", \"\\ucc0d\\uc740\", \"\\ubb38\\uc81c\", \"\\ubc84\\uadf8\", \"\\uc0ac\\uc9c4 \\ubcf4\\uc815\", \"\\ud655\\ub300\", \"\\uc218\\uc815\", \"\\ubd80\\ud0c1\\ub4dc\\ub9bd\\ub2c8\\ub2e4\", \"\\uac11\\uc790\\uae30\", \"\\uc788\\uc5c8\\ub294\\ub370\", \"\\ud574\\uc11c\", \"\\ud574\\uacb0\", \"\\uc5c5\\ub383\", \"\\ub418\\uace0\", \"\\uc788\\uc2b5\\ub2c8\\ub2e4\", \"\\ub2e4\\ub978\"], \"Freq\": [119.0, 70.0, 66.0, 76.0, 88.0, 87.0, 111.0, 112.0, 82.0, 78.0, 137.0, 46.0, 108.0, 39.0, 38.0, 104.0, 40.0, 66.0, 68.0, 42.0, 67.0, 50.0, 37.0, 89.0, 35.0, 30.0, 94.0, 56.0, 29.0, 53.0, 30.54711909196834, 22.01028665160206, 15.368382559445367, 14.418013364645738, 13.46525771546107, 12.516062896739522, 10.621212127849061, 10.614986546992247, 9.6691080736912, 9.66609949791162, 9.661114805215638, 9.659512735038504, 8.723658608232055, 8.71509173946483, 10.422377865312733, 7.775206748391396, 7.774983388427152, 7.773516107937188, 7.771113670627367, 7.7696350908617475, 8.536487215773034, 6.82802274600858, 6.827622477578434, 6.825788770616972, 6.82432005760359, 6.8236214765258945, 6.821484031680114, 6.815922417034882, 6.814565142516583, 6.81248827603404, 15.307560928625506, 89.70782612861471, 111.72507395438187, 8.417384222013348, 11.462297616529979, 14.801060261760867, 74.74185486825691, 15.352695314437408, 19.156055054550578, 27.86496308074122, 31.11630633331195, 21.736806833622744, 16.252574279983236, 30.276561053069862, 25.359201462817296, 17.76267704902039, 39.0068704429459, 20.486737941163184, 38.488790054129666, 20.105769311925567, 21.573182642208373, 38.90944848551084, 29.428930227483036, 44.93785848863893, 41.53008785408921, 36.75255250717909, 28.849046226124024, 48.38507162734368, 44.33591219469098, 28.575563861062882, 33.63630310322464, 39.647159787511036, 28.42187231715459, 26.225261502918126, 33.75829482439012, 28.678339114241577, 27.193872663748593, 26.787555315827717, 28.182794669475292, 28.911496128640394, 25.88433610356787, 27.029738321134055, 26.409620825183186, 26.57305388044875, 19.03290562778657, 15.265541067150691, 15.26159427103398, 13.363845957285804, 11.496418161272066, 11.494189904008552, 10.55300932794255, 10.476288409892907, 81.0141958714332, 8.6661166116008, 8.66367385000459, 81.40562374987493, 8.646997957780776, 20.619671990335956, 45.49490048093534, 7.722460597293095, 7.721201742682086, 7.720303851619501, 7.707370510764898, 17.963476105351774, 6.782476377602387, 6.779140691837315, 6.775988689038212, 6.774909351782234, 6.77080888581462, 6.768919291593593, 6.765081010445289, 6.754249933745106, 6.716492336564608, 36.34588588148979, 55.19004496643735, 14.011853375257935, 55.771097243606064, 54.093422092622184, 16.37489521016437, 14.131059977814916, 7.533046632184648, 13.256433685838841, 31.856782928709077, 53.860793246287855, 26.74585348065501, 29.472907703045387, 44.45249332279028, 20.947685812680174, 13.352233859467576, 45.32500564993486, 41.65121000028398, 24.959077293258, 23.949103965843197, 21.98132832715812, 21.58031435584772, 34.75610928990854, 23.372625910676213, 32.54343245805094, 24.175466877270512, 22.45783418831142, 24.886452922548568, 23.120054519960654, 25.371983479232515, 21.54573097840096, 21.130965981121147, 118.5019479858564, 69.61732842620837, 65.89735424713002, 38.68223970382343, 37.74348190986265, 29.29604516301264, 28.20294474593492, 22.723228018571767, 22.719179746017854, 19.9060619880791, 19.904718289041593, 18.967402453396886, 18.967260187895015, 18.02775424744545, 44.99564713109203, 38.63323161730604, 16.150048331926698, 16.14959716368221, 16.14959716368221, 14.271188203828897, 13.333724347287738, 13.331432559989041, 12.394005111370243, 12.379247495942279, 11.455770398012948, 11.435512908715083, 10.514405167625748, 9.577444907574812, 9.577119923366707, 9.576855238686015, 34.29921521742938, 36.79484849105847, 28.018809795517914, 20.851752323804792, 54.09841182377261, 63.812182225288765, 17.443660402270993, 17.38551716403038, 24.805956340394143, 23.310620037920206, 23.741979626124483, 25.029203220666844, 23.18486664757278, 28.686071181227977, 19.027534236962016, 18.70948901741795, 18.702309690116195, 22.211078031202966, 16.469378862334132, 12.592596002275167, 11.680732142164631, 11.677365230979955, 25.99374670275476, 16.12871634489121, 10.722648931591042, 10.7202250533531, 10.716822694718259, 9.764277010517231, 8.802744670608838, 8.80109817072514, 8.799136827299474, 7.849746999958143, 7.84853101531784, 7.801603062747696, 6.89316859794326, 6.892743816738732, 10.322677390866348, 5.936252504258358, 5.9360202555027115, 5.935067323334485, 5.934977455396278, 5.932788586588381, 5.931614614388811, 5.9192726081893285, 5.9131503424499385, 6.711305795837195, 5.837900451767796, 30.72233631995877, 22.55219346084521, 10.690402405726267, 11.287401932084437, 28.123487377377113, 53.94088761569015, 17.499774189311143, 49.459945247628085, 13.92811635482421, 58.03917629563706, 23.979446018179864, 20.77476184265099, 21.312423672050873, 11.544275850971104, 26.576718265525315, 21.91776859992352, 25.38517258701147, 14.165195429511634, 36.95975706385119, 21.211554406910675, 21.144655567963074, 21.866394506437956, 21.061048808396986, 25.689035740266824, 19.037573967172836, 19.335673166177678, 29.342024271598262, 14.379217918354936, 22.30044558711362, 17.568197844598128, 15.384226615090643, 17.368314604471063, 15.760939322940839, 15.813792796507503, 20.216058869064227, 16.39746649581041, 19.920649359627163, 9.725290861241424, 8.772080616052648, 8.769832221896607, 7.802760044203227, 6.865698370887742, 6.8640803556287455, 6.862690293225983, 6.8620685434450515, 6.86105280773729, 6.845670042020134, 5.912066927849452, 5.912049863927142, 5.9119623818086176, 5.8218436321927625, 10.61095528634105, 9.578454903728758, 15.05013219339245, 12.534864384827918, 13.146318842172438, 22.313158257205217, 5.855734674234186, 20.33921069877063, 8.729826469850227, 18.12634771427911, 5.777499647239357, 57.56132910918223, 5.729771371912164, 20.02003283302771, 17.54856097601547, 9.206489695685892, 29.301381224770896, 13.798253233039366, 23.10303461212592, 18.86567035965922, 25.070126957947895, 35.1743996128817, 17.96149359256337, 16.51869247167321, 24.257917801286062, 11.835298645799528, 12.632982714979457, 13.838886545672173, 18.958223743969445, 17.582081234200803, 19.052272831287162, 16.008283574149115, 20.83222123208601, 16.348977443395363, 14.297891473430713, 15.689923924244487, 15.268441411072839, 15.706300219568915], \"Total\": [119.0, 70.0, 66.0, 76.0, 88.0, 87.0, 111.0, 112.0, 82.0, 78.0, 137.0, 46.0, 108.0, 39.0, 38.0, 104.0, 40.0, 66.0, 68.0, 42.0, 67.0, 50.0, 37.0, 89.0, 35.0, 30.0, 94.0, 56.0, 29.0, 53.0, 31.3113275680453, 22.771710229952077, 16.129815127287074, 15.180960347470808, 14.23210161460219, 13.28330643135452, 11.385594149164351, 11.385502726214863, 10.436717664122286, 10.436761827235642, 10.43657729701936, 10.436815349215456, 9.487880445622185, 9.488008612467574, 11.383487430090062, 8.539084181969613, 8.539005302145458, 8.539082863487767, 8.539128420334672, 8.539136595473119, 9.485956448690647, 7.590231757623314, 7.59023553929672, 7.590239020697944, 7.5901809578038595, 7.590205524548002, 7.5901712028670865, 7.5901534510198605, 7.590290024991993, 7.590197193883297, 17.087894917198014, 108.14169864436845, 137.45311467850698, 9.48480381381036, 13.27603497285526, 18.025970971791825, 112.29683708244234, 18.97066353766051, 24.65725613119531, 38.02072488279354, 43.75133234941959, 29.470055167002677, 20.90939638838798, 44.71930342696019, 37.05174460248075, 23.747590832734772, 64.61698375763973, 28.499800815689454, 68.45495938707728, 28.44678867243296, 32.32580740307472, 75.91706367442383, 51.14099840240065, 94.53670485033756, 85.57815360555075, 72.03532782342651, 50.477640322822566, 118.60155283926095, 106.30974615365261, 52.15237215454546, 72.0508797850898, 103.35503356337922, 57.95703277589019, 53.374252382641735, 92.89903605910459, 69.23635014130456, 60.74505140283071, 63.66287922964089, 78.25151828219677, 86.15158274559853, 59.84816334709101, 82.08425412998626, 104.88286587003059, 27.335558801331963, 19.796354594871403, 16.02673473610648, 16.02673123364585, 14.142120496694336, 12.257122243894855, 12.257146626592917, 11.314727718504802, 11.315972353973482, 87.72031554063649, 9.429964422834018, 9.42997194683803, 88.66856651840327, 9.429926903806546, 22.638426511671497, 50.001774811786255, 8.487567822967517, 8.48758826338413, 8.487527318059204, 8.487659084462825, 19.813530899703522, 7.545108231011651, 7.545117139064658, 7.5451284988702625, 7.545096603106603, 7.545100385665984, 7.545096177012796, 7.545257836115418, 7.545594822446067, 7.545714489299103, 42.45295798743337, 66.0819929477286, 16.035275335171676, 68.77769707031348, 67.97068255029872, 19.829792014611563, 16.98332975623672, 8.48872514479272, 16.040494034454014, 43.48489238396174, 82.27894295914415, 37.79717311459348, 46.257010293604274, 78.50274165971489, 31.217636925881436, 17.003322859718796, 94.53670485033756, 86.15158274559853, 42.51767683261369, 43.54952759835523, 37.910965135567004, 37.859086222289626, 92.89903605910459, 46.41526626262147, 103.35503356337922, 54.96706021304813, 48.33335475508139, 67.06997727709438, 71.93199438343856, 118.60155283926095, 60.7415615708167, 105.12184076766295, 119.26317857255722, 70.43591714052162, 66.6788712130055, 39.44763772585199, 38.50862894639588, 30.05752307932638, 29.120172239041544, 23.48446921766476, 23.4845150193507, 20.66745145017039, 20.667467206517323, 19.728441584675213, 19.72844177828589, 18.789437299198735, 46.96405873814896, 40.40616610429921, 16.911421617602368, 16.911424659967793, 16.911424659967793, 15.033423744838235, 14.094395734012345, 14.094424642669553, 13.155395566036704, 13.155511769430811, 12.21637892604047, 12.216712438987743, 11.277403948413012, 10.338371363228747, 10.338373810212685, 10.338378206640257, 37.582682052339635, 42.28166763227384, 31.993154846968682, 23.513730078260657, 89.5835597964708, 111.40658333433517, 22.56121928380981, 22.613153146811225, 42.46134615621427, 43.40604203922223, 46.2359512375154, 52.933362151359724, 47.26365295257461, 105.12184076766295, 30.170147279562492, 37.844623487473044, 49.15043485015007, 22.971594253233107, 17.226414626084505, 13.395541969272532, 12.438723918614762, 12.43869381948101, 27.755203184839512, 17.225013280027383, 11.481180946149827, 11.481136186101498, 11.481109573052265, 10.523639021886257, 9.56603034982325, 9.566045950136319, 9.566001659152985, 8.60856573141008, 8.608562765594598, 8.608360945608982, 7.651036300254712, 7.65103803077598, 11.479039767985956, 6.693507724207147, 6.693507159757614, 6.693499578373166, 6.693499292384782, 6.693485953987204, 6.693449593855205, 6.6933318051833375, 6.69328861895941, 7.65030316703548, 6.692614723277043, 35.383856256619005, 26.749924975440052, 12.419993247943122, 13.383959538770497, 37.240397251789524, 82.08425412998626, 22.946151420879158, 78.25151828219677, 18.152166293964918, 104.88286587003059, 36.23414554996166, 31.498152938872746, 33.40062416185256, 15.29068191891862, 53.374252382641735, 40.06186383284286, 52.317248003446, 20.959672122764545, 112.29683708244234, 45.60605479704679, 45.65323690718499, 51.299346984458516, 50.477640322822566, 85.57815360555075, 42.87236482496812, 44.712432295245975, 118.60155283926095, 23.80607720587407, 106.30974615365261, 68.45495938707728, 36.095432235805504, 92.89903605910459, 54.11545792618348, 57.95703277589019, 20.97570138301883, 17.16093256077943, 20.972195270713367, 10.485131796012837, 9.531447940361012, 9.53144921254595, 8.577769880892106, 7.624091532279105, 7.624069709822422, 7.62407977244338, 7.62406910808934, 7.624061270598341, 7.6240151464106685, 6.6704113654654105, 6.670405754323697, 6.670405005324945, 6.670694192671561, 12.380428354655423, 11.425689968568264, 18.10294236998, 15.261465741665049, 16.195584435690545, 28.539720754868416, 7.628085218732133, 26.631566358761326, 11.446703412991862, 23.77947233964174, 7.60735952037974, 76.0769113823618, 7.610657458748957, 27.570231630267845, 26.613449171102566, 13.329013062393344, 56.965794398619, 22.784656740019607, 49.41663872383735, 38.1827729793244, 60.7415615708167, 111.40658333433517, 39.77919727381696, 36.0899807786714, 75.91706367442383, 20.943893112698305, 23.783743125045632, 28.43944408091363, 54.96706021304813, 47.26365295257461, 71.93199438343856, 48.33335475508139, 105.12184076766295, 52.933362151359724, 36.033055951272814, 65.37239172237523, 63.66287922964089, 103.35503356337922], \"Category\": [\"Default\", \"Default\", \"Default\", \"Default\", \"Default\", \"Default\", \"Default\", \"Default\", \"Default\", \"Default\", \"Default\", \"Default\", \"Default\", \"Default\", \"Default\", \"Default\", \"Default\", \"Default\", \"Default\", \"Default\", \"Default\", \"Default\", \"Default\", \"Default\", \"Default\", \"Default\", \"Default\", \"Default\", \"Default\", \"Default\", \"Topic1\", \"Topic1\", \"Topic1\", \"Topic1\", \"Topic1\", \"Topic1\", \"Topic1\", \"Topic1\", \"Topic1\", \"Topic1\", \"Topic1\", \"Topic1\", \"Topic1\", \"Topic1\", \"Topic1\", \"Topic1\", \"Topic1\", \"Topic1\", \"Topic1\", \"Topic1\", \"Topic1\", \"Topic1\", \"Topic1\", \"Topic1\", \"Topic1\", \"Topic1\", \"Topic1\", \"Topic1\", \"Topic1\", \"Topic1\", \"Topic1\", \"Topic1\", \"Topic1\", \"Topic1\", \"Topic1\", \"Topic1\", \"Topic1\", \"Topic1\", \"Topic1\", \"Topic1\", \"Topic1\", \"Topic1\", \"Topic1\", \"Topic1\", \"Topic1\", \"Topic1\", \"Topic1\", \"Topic1\", \"Topic1\", \"Topic1\", \"Topic1\", \"Topic1\", \"Topic1\", \"Topic1\", \"Topic1\", \"Topic1\", \"Topic1\", \"Topic1\", \"Topic1\", \"Topic1\", \"Topic1\", \"Topic1\", \"Topic1\", \"Topic1\", \"Topic1\", \"Topic1\", \"Topic1\", \"Topic1\", \"Topic1\", \"Topic1\", \"Topic1\", \"Topic1\", \"Topic1\", \"Topic2\", \"Topic2\", \"Topic2\", \"Topic2\", \"Topic2\", \"Topic2\", \"Topic2\", \"Topic2\", \"Topic2\", \"Topic2\", \"Topic2\", \"Topic2\", \"Topic2\", \"Topic2\", \"Topic2\", \"Topic2\", \"Topic2\", \"Topic2\", \"Topic2\", \"Topic2\", \"Topic2\", \"Topic2\", \"Topic2\", \"Topic2\", \"Topic2\", \"Topic2\", \"Topic2\", \"Topic2\", \"Topic2\", \"Topic2\", \"Topic2\", \"Topic2\", \"Topic2\", \"Topic2\", \"Topic2\", \"Topic2\", \"Topic2\", \"Topic2\", \"Topic2\", \"Topic2\", \"Topic2\", \"Topic2\", \"Topic2\", \"Topic2\", \"Topic2\", \"Topic2\", \"Topic2\", \"Topic2\", \"Topic2\", \"Topic2\", \"Topic2\", \"Topic2\", \"Topic2\", \"Topic2\", \"Topic2\", \"Topic2\", \"Topic2\", \"Topic2\", \"Topic2\", \"Topic2\", \"Topic2\", \"Topic2\", \"Topic3\", \"Topic3\", \"Topic3\", \"Topic3\", \"Topic3\", \"Topic3\", \"Topic3\", \"Topic3\", \"Topic3\", \"Topic3\", \"Topic3\", \"Topic3\", \"Topic3\", \"Topic3\", \"Topic3\", \"Topic3\", \"Topic3\", \"Topic3\", \"Topic3\", \"Topic3\", \"Topic3\", \"Topic3\", \"Topic3\", \"Topic3\", \"Topic3\", \"Topic3\", \"Topic3\", \"Topic3\", \"Topic3\", \"Topic3\", \"Topic3\", \"Topic3\", \"Topic3\", \"Topic3\", \"Topic3\", \"Topic3\", \"Topic3\", \"Topic3\", \"Topic3\", \"Topic3\", \"Topic3\", \"Topic3\", \"Topic3\", \"Topic3\", \"Topic3\", \"Topic3\", \"Topic3\", \"Topic4\", \"Topic4\", \"Topic4\", \"Topic4\", \"Topic4\", \"Topic4\", \"Topic4\", \"Topic4\", \"Topic4\", \"Topic4\", \"Topic4\", \"Topic4\", \"Topic4\", \"Topic4\", \"Topic4\", \"Topic4\", \"Topic4\", \"Topic4\", \"Topic4\", \"Topic4\", \"Topic4\", \"Topic4\", \"Topic4\", \"Topic4\", \"Topic4\", \"Topic4\", \"Topic4\", \"Topic4\", \"Topic4\", \"Topic4\", \"Topic4\", \"Topic4\", \"Topic4\", \"Topic4\", \"Topic4\", \"Topic4\", \"Topic4\", \"Topic4\", \"Topic4\", \"Topic4\", \"Topic4\", \"Topic4\", \"Topic4\", \"Topic4\", \"Topic4\", \"Topic4\", \"Topic4\", \"Topic4\", \"Topic4\", \"Topic4\", \"Topic4\", \"Topic4\", \"Topic4\", \"Topic4\", \"Topic4\", \"Topic4\", \"Topic4\", \"Topic4\", \"Topic4\", \"Topic4\", \"Topic4\", \"Topic4\", \"Topic4\", \"Topic4\", \"Topic5\", \"Topic5\", \"Topic5\", \"Topic5\", \"Topic5\", \"Topic5\", \"Topic5\", \"Topic5\", \"Topic5\", \"Topic5\", \"Topic5\", \"Topic5\", \"Topic5\", \"Topic5\", \"Topic5\", \"Topic5\", \"Topic5\", \"Topic5\", \"Topic5\", \"Topic5\", \"Topic5\", \"Topic5\", \"Topic5\", \"Topic5\", \"Topic5\", \"Topic5\", \"Topic5\", \"Topic5\", \"Topic5\", \"Topic5\", \"Topic5\", \"Topic5\", \"Topic5\", \"Topic5\", \"Topic5\", \"Topic5\", \"Topic5\", \"Topic5\", \"Topic5\", \"Topic5\", \"Topic5\", \"Topic5\", \"Topic5\", \"Topic5\", \"Topic5\", \"Topic5\", \"Topic5\", \"Topic5\", \"Topic5\", \"Topic5\", \"Topic5\", \"Topic5\", \"Topic5\", \"Topic5\", \"Topic5\"], \"logprob\": [30.0, 29.0, 28.0, 27.0, 26.0, 25.0, 24.0, 23.0, 22.0, 21.0, 20.0, 19.0, 18.0, 17.0, 16.0, 15.0, 14.0, 13.0, 12.0, 11.0, 10.0, 9.0, 8.0, 7.0, 6.0, 5.0, 4.0, 3.0, 2.0, 1.0, -5.093, -5.4208, -5.78, -5.8438, -5.9122, -5.9853, -6.1494, -6.15, -6.2433, -6.2437, -6.2442, -6.2443, -6.3462, -6.3472, -6.1683, -6.4613, -6.4614, -6.4616, -6.4619, -6.4621, -6.3679, -6.5912, -6.5913, -6.5916, -6.5918, -6.5919, -6.5922, -6.593, -6.5932, -6.5935, -5.7839, -4.0157, -3.7962, -6.382, -6.0732, -5.8176, -4.1982, -5.781, -5.5597, -5.1849, -5.0745, -5.4333, -5.724, -5.1019, -5.2791, -5.6352, -4.8485, -5.4925, -4.8619, -5.5113, -5.4408, -4.851, -5.1303, -4.707, -4.7859, -4.9081, -5.1502, -4.6331, -4.7205, -5.1597, -4.9967, -4.8323, -5.1651, -5.2456, -4.9931, -5.1561, -5.2093, -5.2243, -5.1736, -5.148, -5.2586, -5.2153, -5.2385, -5.0694, -5.4031, -5.6237, -5.6239, -5.7567, -5.9073, -5.9074, -5.9929, -6.0002, -3.9547, -6.1899, -6.1901, -3.9498, -6.1921, -5.323, -4.5317, -6.3052, -6.3053, -6.3054, -6.3071, -5.4609, -6.4349, -6.4354, -6.4359, -6.4361, -6.4367, -6.4369, -6.4375, -6.4391, -6.4447, -4.7562, -4.3385, -5.7094, -4.328, -4.3586, -5.5535, -5.7009, -6.33, -5.7648, -4.888, -4.3629, -5.0629, -4.9658, -4.5549, -5.3073, -5.7576, -4.5354, -4.62, -5.1321, -5.1734, -5.2591, -5.2775, -4.8009, -5.1977, -4.8667, -5.1639, -5.2376, -5.135, -5.2086, -5.1156, -5.2791, -5.2985, -3.3017, -3.8336, -3.8885, -4.4212, -4.4458, -4.6991, -4.7372, -4.9532, -4.9534, -5.0856, -5.0856, -5.1339, -5.1339, -5.1847, -4.27, -4.4225, -5.2947, -5.2947, -5.2947, -5.4184, -5.4863, -5.4865, -5.5594, -5.5606, -5.6381, -5.6399, -5.7239, -5.8172, -5.8172, -5.8172, -4.5415, -4.4712, -4.7437, -5.0392, -4.0858, -3.9207, -5.2176, -5.221, -4.8655, -4.9277, -4.9094, -4.8566, -4.9331, -4.7202, -5.1307, -5.1476, -5.1479, -4.9513, -5.2504, -5.5187, -5.5939, -5.5942, -4.794, -5.2713, -5.6795, -5.6797, -5.68, -5.7731, -5.8768, -5.877, -5.8772, -5.9914, -5.9915, -5.9975, -6.1213, -6.1214, -5.7175, -6.2708, -6.2708, -6.271, -6.271, -6.2714, -6.2716, -6.2736, -6.2747, -6.1481, -6.2875, -4.6269, -4.936, -5.6825, -5.6282, -4.7152, -4.064, -5.1897, -4.1507, -5.4179, -3.9907, -4.8747, -5.0181, -4.9926, -5.6057, -4.7718, -4.9646, -4.8177, -5.4011, -4.442, -4.9973, -5.0005, -4.9669, -5.0044, -4.8058, -5.1054, -5.0899, -4.6728, -5.3861, -4.9472, -5.1858, -5.3185, -5.1972, -5.2943, -5.291, -4.8477, -5.057, -4.8624, -5.5794, -5.6826, -5.6829, -5.7997, -5.9276, -5.9279, -5.9281, -5.9282, -5.9283, -5.9306, -6.0772, -6.0772, -6.0772, -6.0926, -5.4923, -5.5947, -5.1428, -5.3257, -5.278, -4.749, -6.0868, -4.8416, -5.6874, -4.9568, -6.1002, -3.8013, -6.1085, -4.8574, -4.9892, -5.6343, -4.4765, -5.2296, -4.7142, -4.9168, -4.6325, -4.2939, -4.9659, -5.0497, -4.6654, -5.3831, -5.3179, -5.2267, -4.9119, -4.9873, -4.907, -5.0811, -4.8177, -5.06, -5.1941, -5.1012, -5.1284, -5.1001], \"loglift\": [30.0, 29.0, 28.0, 27.0, 26.0, 25.0, 24.0, 23.0, 22.0, 21.0, 20.0, 19.0, 18.0, 17.0, 16.0, 15.0, 14.0, 13.0, 12.0, 11.0, 10.0, 9.0, 8.0, 7.0, 6.0, 5.0, 4.0, 3.0, 2.0, 1.0, 1.2687, 1.2594, 1.2451, 1.2419, 1.238, 1.2339, 1.2239, 1.2234, 1.217, 1.2167, 1.2162, 1.216, 1.2095, 1.2085, 1.2052, 1.1997, 1.1997, 1.1995, 1.1992, 1.199, 1.188, 1.1876, 1.1875, 1.1873, 1.1871, 1.187, 1.1867, 1.1858, 1.1856, 1.1853, 1.1834, 1.1065, 1.0862, 1.174, 1.1465, 1.0963, 0.8863, 1.0818, 1.041, 0.9827, 0.9526, 0.9891, 1.0415, 0.9034, 0.9143, 1.003, 0.7887, 0.9633, 0.7176, 0.9464, 0.889, 0.625, 0.7408, 0.5497, 0.5704, 0.6205, 0.734, 0.3969, 0.4189, 0.6918, 0.5317, 0.3353, 0.5809, 0.5828, 0.2811, 0.412, 0.4897, 0.4278, 0.2722, 0.2016, 0.4553, 0.1826, -0.0857, 1.4281, 1.4171, 1.4078, 1.4075, 1.3998, 1.3923, 1.3922, 1.3867, 1.3793, 1.3769, 1.3719, 1.3717, 1.371, 1.3697, 1.363, 1.362, 1.362, 1.3618, 1.3617, 1.36, 1.3584, 1.3499, 1.3494, 1.3489, 1.3487, 1.3481, 1.3479, 1.3473, 1.3456, 1.34, 1.3011, 1.2763, 1.3215, 1.2468, 1.2281, 1.265, 1.2726, 1.337, 1.2658, 1.1453, 1.0327, 1.1106, 1.0057, 0.8877, 1.0575, 1.2147, 0.7213, 0.7296, 0.9237, 0.8585, 0.9114, 0.8943, 0.4733, 0.7704, 0.3008, 0.635, 0.6899, 0.465, 0.3214, -0.0857, 0.42, -0.148, 1.7227, 1.7174, 1.7173, 1.7095, 1.709, 1.7035, 1.6971, 1.6962, 1.696, 1.6916, 1.6915, 1.6898, 1.6898, 1.6877, 1.6863, 1.6842, 1.683, 1.683, 1.683, 1.6771, 1.6736, 1.6735, 1.6695, 1.6683, 1.6648, 1.663, 1.6591, 1.6527, 1.6526, 1.6526, 1.6377, 1.5901, 1.5965, 1.609, 1.2247, 1.1719, 1.4719, 1.4662, 1.1916, 1.1074, 1.0626, 0.9801, 1.0169, 0.4304, 1.2681, 1.0247, 0.7629, 1.7202, 1.7089, 1.692, 1.691, 1.6907, 1.6883, 1.6881, 1.6855, 1.6853, 1.685, 1.679, 1.6707, 1.6705, 1.6703, 1.6616, 1.6614, 1.6554, 1.6495, 1.6495, 1.6477, 1.6338, 1.6338, 1.6336, 1.6336, 1.6332, 1.633, 1.631, 1.6299, 1.6229, 1.6172, 1.6126, 1.5832, 1.6039, 1.5835, 1.4731, 1.334, 1.4829, 1.2951, 1.489, 1.1621, 1.341, 1.3377, 1.3046, 1.4728, 1.0566, 1.1507, 1.0307, 1.362, 0.6425, 0.9884, 0.9842, 0.9011, 0.8797, 0.5505, 0.942, 0.9156, 0.3571, 1.2497, 0.1921, 0.3938, 0.901, 0.077, 0.5203, 0.455, 1.9146, 1.906, 1.9001, 1.8763, 1.8685, 1.8683, 1.8568, 1.8468, 1.8465, 1.8463, 1.8462, 1.8461, 1.8438, 1.8308, 1.8308, 1.8308, 1.8154, 1.7973, 1.7752, 1.7668, 1.7547, 1.7429, 1.7054, 1.6871, 1.682, 1.6806, 1.6801, 1.6764, 1.6726, 1.6677, 1.6315, 1.5351, 1.5815, 1.2867, 1.45, 1.1912, 1.2465, 1.0666, 0.7987, 1.1564, 1.17, 0.8106, 1.3808, 1.3188, 1.2312, 0.887, 0.9627, 0.623, 0.8465, 0.3329, 0.7767, 1.0272, 0.5245, 0.5237, 0.0674]}, \"token.table\": {\"Topic\": [1, 2, 4, 5, 4, 1, 3, 4, 1, 2, 3, 4, 5, 1, 1, 2, 4, 5, 1, 2, 4, 2, 1, 2, 3, 1, 2, 1, 1, 1, 2, 3, 5, 1, 1, 1, 4, 3, 3, 3, 3, 1, 2, 5, 1, 2, 4, 5, 2, 2, 1, 2, 3, 4, 3, 3, 3, 4, 2, 1, 4, 4, 1, 2, 3, 5, 2, 5, 2, 1, 1, 2, 1, 2, 5, 1, 4, 5, 4, 4, 5, 1, 2, 3, 4, 5, 1, 3, 5, 4, 1, 2, 4, 1, 4, 1, 2, 3, 1, 4, 5, 1, 2, 3, 2, 1, 2, 3, 4, 5, 2, 5, 2, 3, 5, 5, 1, 2, 3, 4, 5, 1, 2, 3, 5, 1, 2, 3, 5, 1, 2, 3, 5, 1, 4, 1, 3, 4, 1, 3, 4, 1, 3, 4, 1, 2, 4, 3, 3, 2, 5, 3, 3, 2, 5, 5, 2, 3, 1, 3, 4, 5, 1, 1, 4, 5, 1, 2, 3, 4, 5, 2, 1, 2, 3, 5, 2, 4, 5, 1, 2, 4, 1, 1, 2, 3, 4, 5, 1, 1, 5, 5, 2, 1, 2, 3, 5, 1, 4, 1, 2, 5, 1, 1, 2, 3, 4, 5, 4, 1, 2, 3, 4, 5, 4, 3, 1, 2, 4, 2, 5, 3, 1, 2, 4, 5, 2, 4, 5, 2, 3, 4, 5, 1, 2, 4, 5, 2, 5, 1, 4, 1, 2, 3, 5, 5, 1, 4, 2, 4, 1, 2, 3, 4, 5, 3, 1, 2, 3, 4, 5, 1, 1, 4, 2, 3, 1, 1, 2, 4, 5, 1, 3, 4, 5, 2, 5, 3, 5, 5, 1, 2, 3, 4, 5, 1, 2, 3, 4, 5, 2, 5, 2, 4, 5, 1, 2, 3, 4, 5, 2, 4, 1, 2, 4, 5, 4, 4, 1, 4, 5, 4, 1, 4, 1, 2, 3, 5, 2, 3, 1, 3, 4, 5, 3, 5, 1, 4, 1, 2, 3, 4, 5, 4, 5, 2, 3, 1, 4, 2, 1, 3, 5, 1, 4, 2, 4, 1, 2, 3, 4, 5, 1, 3, 4, 1, 4, 4, 1, 2, 3, 4, 5, 1, 2, 3, 4, 5, 1, 2, 3, 4, 5, 4, 3, 4, 1, 3, 4, 5, 1, 4, 1, 2, 3, 4, 5, 1, 2, 4, 5, 1, 4, 5, 4, 1, 4, 5, 1, 2, 3, 5, 2, 2, 1, 4, 5, 4, 4, 5, 2, 5, 1, 2, 5, 2, 2, 2, 3, 3, 2, 5, 5, 3, 4, 1, 3, 4, 5, 4, 5, 1, 2, 4, 5, 4, 1, 4, 1, 4, 2, 4, 1, 2, 4, 4, 5, 1, 2, 3, 4, 5, 5, 1, 2, 3, 4, 5, 3, 1, 2, 4, 5, 1, 3, 5, 1, 2, 4, 5, 1, 2, 4, 5, 1, 5, 1, 4, 2, 5, 1, 5, 2, 5, 1, 1, 3, 1, 3, 4, 5, 3, 5, 1, 5, 2, 5, 2, 4, 5, 1, 4, 1, 3, 4, 1, 4, 4, 2, 2, 5, 1, 4, 5, 1, 1, 1, 2, 4, 5, 1, 1, 2, 5, 2, 5, 3, 3, 2, 5, 1, 2, 4, 1, 2, 1, 2, 3, 4, 1, 2, 3, 4, 5, 1, 1, 3, 4, 4, 1, 2, 3, 4, 5, 1, 2, 3, 4, 5, 1, 2, 3, 5, 1, 2, 1, 2, 3, 4, 5, 3, 1, 2, 5, 2, 5, 2, 5, 2, 3, 5, 3, 3, 3, 2, 5], \"Freq\": [0.6805707812856496, 0.030935035512984075, 0.18561021307790446, 0.09280510653895223, 0.9149964187252628, 0.07476656483471497, 0.07476656483471497, 0.8598154955992222, 0.20853029487881905, 0.31974645214752256, 0.18072625556164318, 0.027804039317175875, 0.2641383735131708, 0.9368637648017077, 0.24789559080335244, 0.09534445800128939, 0.5529978564074784, 0.09534445800128939, 0.1618344790323377, 0.7944601697951124, 0.04413667609972846, 0.8974356214467215, 0.2810384829777346, 0.6269320004887926, 0.0864733793777645, 0.9581685370026393, 0.9425595583036446, 0.922247494095055, 0.9485785631028584, 0.7705642468450498, 0.08111202598368945, 0.04055601299184473, 0.08111202598368945, 0.9900570307225484, 0.929954861951533, 0.11304590350441944, 0.8761057521592507, 0.9672701126478493, 0.9648166924288666, 0.9579850483743652, 0.9461059799340685, 0.8321327058316551, 0.05547551372211034, 0.05547551372211034, 0.6747320610195008, 0.05397856488156006, 0.05397856488156006, 0.21591425952624024, 0.9544082464061308, 0.9877244579570983, 0.8148232963797146, 0.10185291204746433, 0.050926456023732164, 0.02910083201356124, 0.9754017901919663, 0.9867918188647045, 0.9672703415905277, 0.9647291859289356, 0.9425527902328146, 0.9368687630620345, 0.929329061658445, 0.8964203311066551, 0.05282747682437447, 0.5811022450681191, 0.026413738412187235, 0.34337859935843407, 0.08077264948784822, 0.8884991443663305, 0.9721842428439461, 0.9661409130993178, 0.06236250884988585, 0.873075123898402, 0.13228502525416383, 0.7143391363724847, 0.13228502525416383, 0.9134279920164392, 0.17472279378969718, 0.7862525720536373, 0.8965105938538317, 0.1310944976786993, 0.7865669860721958, 0.38701550007693875, 0.3192877875634745, 0.029026162505770406, 0.11610465002308162, 0.1548062000307755, 0.8434544516726419, 0.9672697013132175, 0.9442425594791588, 0.9580933299368108, 0.16622601887139044, 0.4155650471784761, 0.4155650471784761, 0.48712626105945545, 0.5058618864848191, 0.026607999892273443, 0.053215999784546886, 0.904671996337297, 0.7465204891992594, 0.16966374754528624, 0.06786549901811449, 0.4760055903285413, 0.4760055903285413, 0.04231160802920367, 0.9544036875971614, 0.21415768386531547, 0.16826675160846216, 0.2600486161221688, 0.12237581935160884, 0.24475163870321767, 0.0875220667417872, 0.875220667417872, 0.9425449255666366, 0.13145165511384724, 0.7887099306830835, 0.9181458217020121, 0.07797370210602929, 0.3508816594771318, 0.05848027657952196, 0.42885536158316107, 0.07797370210602929, 0.19887208187626082, 0.06629069395875362, 0.6297615926081593, 0.09943604093813041, 0.11272496025270795, 0.11272496025270795, 0.0751499735018053, 0.6763497615162477, 0.567059715412961, 0.2150916161911231, 0.0977689164505105, 0.1173226997406126, 0.9222421791150672, 0.8963921168746848, 0.08844410096263061, 0.7517748581823601, 0.13266615144394592, 0.21003040344531296, 0.16802432275625037, 0.5880851296468763, 0.2207862191470516, 0.1103931095735258, 0.6623586574411549, 0.1096345654595796, 0.41661134874640243, 0.4604651749302343, 0.9793687449388897, 0.91216519815551, 0.735887758843859, 0.2529614171025765, 0.9886523566008458, 0.9630765774605807, 0.8837066481952484, 0.9537314546492094, 0.9442426855094502, 0.0212928785728585, 0.9581795357786326, 0.5137184990090568, 0.14489496125896473, 0.01317226920536043, 0.31613446092865033, 0.9222308998670159, 0.334226304648007, 0.04774661494971529, 0.5729593793965835, 0.30572180655845854, 0.5604899786905073, 0.02547681721320488, 0.07643045163961464, 0.02547681721320488, 0.9192397988009435, 0.042315815114985805, 0.08463163022997161, 0.48663187382233675, 0.3808423360348722, 0.5803070410191223, 0.2110207421887718, 0.2110207421887718, 0.2755483391386595, 0.551096678277319, 0.16073653116421804, 0.9581466822397801, 0.555109525156968, 0.029216290797735158, 0.058432581595470316, 0.2629466171796164, 0.08764887239320547, 0.9368772728118542, 0.4625007906520978, 0.5465918434979338, 0.8994956071198429, 0.9277543892323085, 0.10055507084434902, 0.12569383855543628, 0.30166521253304707, 0.4524978187995706, 0.14943260955074045, 0.8218793525290725, 0.9487709593313889, 0.21026538892810984, 0.7569554001411953, 0.9661110113311985, 0.08231596078034074, 0.36219022743349927, 0.0329263843121363, 0.11524234509247704, 0.41157980390170373, 0.9408319505557037, 0.2628510224673996, 0.15332976310598312, 0.08761700748913322, 0.45998928931794936, 0.04380850374456661, 0.940829128789696, 0.9223505272179551, 0.01999929010048426, 0.8999680545217916, 0.059997870301452774, 0.9233892913036399, 0.06839920676323259, 0.9461059799340685, 0.3366159863323185, 0.48751280779163364, 0.046429791218250825, 0.13928937365475247, 0.8068667582701027, 0.05042917239188142, 0.10085834478376283, 0.8479974472133713, 0.04711096928963174, 0.02355548464481587, 0.0706664539344476, 0.20011985282394293, 0.4366251334340573, 0.01819271389308572, 0.3456615639686287, 0.13139469295789072, 0.7883681577473443, 0.765206211733859, 0.19130155293346476, 0.7030670572450759, 0.10546005858676138, 0.035153352862253795, 0.10546005858676138, 0.9536436096381865, 0.9368686184043136, 0.950241639722036, 0.9544044490992045, 0.9408275944850283, 0.16744143717975957, 0.11162762478650638, 0.6027891738471345, 0.06697657487190382, 0.04465104991460255, 0.9004304848920793, 0.41885512365706545, 0.21664920189158557, 0.08665968075663423, 0.10110296088273993, 0.18776264163937417, 0.9222375200030474, 0.9581556502554854, 0.8964145472892261, 0.9277549067335273, 0.9898187956596199, 0.9222411669039556, 0.7017592905066824, 0.03508796452533412, 0.10526389357600237, 0.10526389357600237, 0.48311652027237406, 0.15528745294469165, 0.27606658301278514, 0.08627080719149537, 0.2538970326355577, 0.7254200932444506, 0.900405903383238, 0.9534842070259103, 0.9181421773811598, 0.20345699952580312, 0.1627655996206425, 0.3865682990990259, 0.02034569995258031, 0.22380269947838344, 0.3659887275726778, 0.37675310191305067, 0.03229312302111863, 0.1829943637863389, 0.043057497361491504, 0.9276263078254671, 0.044172681325022244, 0.4995413107437027, 0.08325688512395045, 0.38853213057843544, 0.13822960394726447, 0.13822960394726447, 0.5298801484645138, 0.046076534649088154, 0.13822960394726447, 0.9277350293444528, 0.9149087424623723, 0.18230666876029625, 0.6563040075370664, 0.09723022333882465, 0.060768889586765414, 0.9288061588725811, 0.8963909876881043, 0.7364404567854922, 0.13150722442598073, 0.13150722442598073, 0.9577045353264343, 0.31747893342846534, 0.6667057601997772, 0.01795226045123319, 0.08976130225616595, 0.5744723344394621, 0.3141645578965809, 0.2216192279815328, 0.7535053751372115, 0.1342627997814855, 0.0805576798688913, 0.7518716787763189, 0.053705119912594204, 0.8930952226680233, 0.08505668787314508, 0.9222441518739993, 0.9149085355271785, 0.06463390693539811, 0.4955266198380522, 0.06463390693539811, 0.10772317822566352, 0.28008026338672515, 0.1310490115336587, 0.8518185749687816, 0.1182545599545717, 0.8750837436638306, 0.708549850606121, 0.2742773615249501, 0.9277509324126308, 0.30616080687063746, 0.5887707824435335, 0.09420332519096536, 0.8778143868911165, 0.05852095912607443, 0.2862640200121895, 0.6679493800284422, 0.023519629351736786, 0.5879907337934196, 0.1646374054621575, 0.07055888805521035, 0.1646374054621575, 0.7579716244389714, 0.04210953469105396, 0.16843813876421584, 0.9222379794885038, 0.929307274377227, 0.8963939031538409, 0.24848401810324053, 0.07645662095484325, 0.1529132419096865, 0.47785388096777026, 0.038228310477421625, 0.4907794598325595, 0.10516702710697703, 0.02337045046821712, 0.30381585608682254, 0.08179657663875992, 0.5136368656597864, 0.2637594715550255, 0.055528309801057996, 0.11105661960211599, 0.055528309801057996, 0.8963987725414689, 0.08051534167827429, 0.8856687584610171, 0.4241089992585354, 0.14136966641951182, 0.1884928885593491, 0.23561611069918634, 0.35782053325820723, 0.6261859332018627, 0.6035564913750557, 0.0619032298846211, 0.04642742241346583, 0.23213711206732912, 0.0619032298846211, 0.16551716802068128, 0.45517221205687347, 0.04137929200517032, 0.33103433604136256, 0.13079861386204567, 0.784791683172274, 0.13079861386204567, 0.8711530060109323, 0.043580292906551646, 0.7408649794113781, 0.17432117162620658, 0.9222370970020296, 0.8142174336362199, 0.15993556732140032, 0.029079194058436425, 0.9597726646562639, 0.9277534245604105, 0.3744209221664556, 0.549150685844135, 0.07488418443329112, 0.9293069542131036, 0.8963910632788914, 0.9181448053893834, 0.9277548543404778, 0.8994955061183277, 0.04539814654762342, 0.832299353373096, 0.12106172412699578, 0.9359361246684043, 0.8974374066864663, 0.9425550601612691, 0.9461061501385721, 0.9121732554344781, 0.9276788844750218, 0.8994566122655739, 0.9181448778543749, 0.875187212199955, 0.09377005844999518, 0.44317592644049175, 0.023325048760025884, 0.44317592644049175, 0.06997514628007764, 0.936761292174642, 0.03602928046825546, 0.24601658722935477, 0.24601658722935477, 0.42493774157797637, 0.08946057717431082, 0.9704721189945245, 0.32933516292079634, 0.6287307655760658, 0.6678727731658106, 0.32948390142846656, 0.9084700799224706, 0.05047055999569281, 0.3289303202687762, 0.01218260445439912, 0.6578606405375524, 0.9647315203792585, 0.9326433456580422, 0.14783206696527357, 0.2771851255598879, 0.11087405022395516, 0.29566413393054713, 0.18479008370659195, 0.9181435935784583, 0.40471645480943863, 0.2107898202132493, 0.09274752089382969, 0.24451619144736916, 0.03372637123411989, 0.9312582574416514, 0.4344327134854968, 0.20050740622407545, 0.16708950518672955, 0.20050740622407545, 0.7906945358143135, 0.052712969054287566, 0.10542593810857513, 0.07021757604238676, 0.3510878802119338, 0.05266318203179007, 0.509077426307304, 0.22166817015119805, 0.2493766914200978, 0.05541704253779951, 0.4710448615712959, 0.12349044938400361, 0.8026879209960235, 0.22035937392937432, 0.7712578087528101, 0.764556440364798, 0.1764361016226457, 0.3000972376031091, 0.6752187846069955, 0.35111347479501753, 0.6144485808912806, 0.9786719945957288, 0.9581515958239198, 0.961532774262244, 0.5560629133812552, 0.21092041542047613, 0.1150474993202597, 0.1150474993202597, 0.9677051884321767, 0.9323502637943645, 0.11047927785024539, 0.8285945838768404, 0.9135142608084045, 0.07894567685998558, 0.935936329206646, 0.9288817221727311, 0.058055107635795695, 0.5745117999679586, 0.4160257861836942, 0.948565749421189, 0.9651992198252733, 0.02474869794423778, 0.6708512365135304, 0.31306391037298087, 0.896392078575178, 0.9276935966899424, 0.22529654918423916, 0.7509884972807972, 0.1047592850882245, 0.3928473190808419, 0.49760660416906644, 0.878465414172367, 0.9368628678736756, 0.8322414122231546, 0.10171839482727445, 0.027741380407438485, 0.04623563401239748, 0.9222077971063564, 0.9222453371481059, 0.23660266528871263, 0.7623863659302962, 0.2102333113745164, 0.7708554750398935, 0.9938111526303838, 0.9630765680091546, 0.9277523292193401, 0.9181513763512852, 0.8285606374562181, 0.07532369431420165, 0.9580955507835676, 0.12468443900194848, 0.8104488535126652, 0.29819601574295396, 0.37274501967869245, 0.2534666133815109, 0.07454900393573849, 0.41388491264390287, 0.1693165551725057, 0.0940647528736143, 0.20694245632195143, 0.11287770344833714, 0.9661331552738815, 0.23781449438859106, 0.5020528214870256, 0.26423832709843453, 0.9580895947545196, 0.44448065112250124, 0.13169797070296332, 0.09877347802722249, 0.13169797070296332, 0.18108470971657456, 0.47188875557680493, 0.1526698915101428, 0.1665489725565194, 0.19430713464927263, 0.02775816209275323, 0.15113341897921556, 0.07556670948960778, 0.4722919343100486, 0.3022668379584311, 0.11776253707053812, 0.8243377594937669, 0.1807426493034232, 0.1997681913353625, 0.2758703594631196, 0.14269156523954463, 0.1997681913353625, 0.96770445067856, 0.404721982645746, 0.1214165947937238, 0.4654302800426079, 0.94242655564216, 0.899494749463831, 0.4922740388373387, 0.4922740388373387, 0.2162819133671483, 0.519076592081156, 0.259538296040578, 0.9977932956700705, 0.9223524190277013, 0.9793706549986513, 0.6726966570166509, 0.3203317414365004], \"Term\": [\"\\uac00\\ub054\", \"\\uac00\\ub054\", \"\\uac00\\ub054\", \"\\uac00\\ub054\", \"\\uac00\\uc871\", \"\\uac10\\uc0ac\\ud569\\ub2c8\\ub2e4\", \"\\uac10\\uc0ac\\ud569\\ub2c8\\ub2e4\", \"\\uac10\\uc0ac\\ud569\\ub2c8\\ub2e4\", \"\\uac11\\uc790\\uae30\", \"\\uac11\\uc790\\uae30\", \"\\uac11\\uc790\\uae30\", \"\\uac11\\uc790\\uae30\", \"\\uac11\\uc790\\uae30\", \"\\uac15\\ucd94\", \"\\uac19\\uc544\\uc694\", \"\\uac19\\uc544\\uc694\", \"\\uac19\\uc544\\uc694\", \"\\uac19\\uc544\\uc694\", \"\\uac1c\\uc120\", \"\\uac1c\\uc120\", \"\\uac1c\\uc120\", \"\\uac1c\\uc120 \\ud574\\uc8fc\\uc138\\uc694\", \"\\uac24\\ub7ed\\uc2dc\", \"\\uac24\\ub7ed\\uc2dc\", \"\\uac24\\ub7ed\\uc2dc\", \"\\uac24\\ub7ed\\uc2dc \\ub178\\ud2b8\", \"\\uac24\\ub7ed\\uc2dc \\uc785\\ub2c8\\ub2e4\", \"\\uac70\\uae30\", \"\\uac70\\ub9ac\", \"\\uac78\\ub9ac\\uace0\", \"\\uac78\\ub9ac\\uace0\", \"\\uac78\\ub9ac\\uace0\", \"\\uac78\\ub9ac\\uace0\", \"\\uac80\\uc0c9\", \"\\uac80\\uc0c9 \\uae30\\ub2a5\", \"\\uac8c\\uc784\", \"\\uac8c\\uc784\", \"\\uacb0\\uc81c \\ub418\\uace0\", \"\\uacb0\\uc81c \\ud588\\ub294\\ub370\", \"\\uace0\\uac1d\", \"\\uace0\\uac1d \\uc13c\\ud130\", \"\\uace0\\uccd0\", \"\\uace0\\uccd0\", \"\\uace0\\uccd0\", \"\\uace0\\uccd0\\uc8fc\\uc138\\uc694\", \"\\uace0\\uccd0\\uc8fc\\uc138\\uc694\", \"\\uace0\\uccd0\\uc8fc\\uc138\\uc694\", \"\\uace0\\uccd0\\uc8fc\\uc138\\uc694\", \"\\uad00\\ub9ac\", \"\\uad11\\uac01\", \"\\uad11\\uace0\", \"\\uad11\\uace0\", \"\\uad11\\uace0\", \"\\uad11\\uace0\", \"\\uad6c\\uae00\", \"\\uad6c\\ub3c5\", \"\\uad6c\\ub3c5 \\ucde8\\uc18c\", \"\\uadc0\\uc5ec\\uc6b4\", \"\\uadf8\\ub798\\uc694\", \"\\uadf8\\ub9ac\\uad6c\", \"\\uae30\\ub2a5 \\uc788\\uc73c\\uba74\", \"\\uae30\\ub2a5 \\uc815\\ub9d0\", \"\\uae30\\ubcf8\", \"\\uae30\\ubcf8\", \"\\uae30\\ubcf8\", \"\\uae30\\ubcf8\", \"\\uae54\\uc544\\ub3c4\", \"\\uae54\\uc544\\ub3c4\", \"\\ub098\\uc624\\ub124\\uc694\", \"\\ub124\\ud2b8\\uc6cc\\ud06c\", \"\\ub204\\ub974\\uace0\", \"\\ub204\\ub974\\uace0\", \"\\ub204\\ub974\\uba74\", \"\\ub204\\ub974\\uba74\", \"\\ub204\\ub974\\uba74\", \"\\ub290\\ub824\\uc694\", \"\\ub2a6\\uac8c\", \"\\ub2a6\\uac8c\", \"\\ub2c8\\ub2f9\", \"\\ub2e4\\ub974\\uac8c\", \"\\ub2e4\\ub974\\uac8c\", \"\\ub2e4\\ub978\", \"\\ub2e4\\ub978\", \"\\ub2e4\\ub978\", \"\\ub2e4\\ub978\", \"\\ub2e4\\ub978\", \"\\ub2e4\\ub978 \\uc5b4\\ud50c\", \"\\ub2e4\\uc2dc \\uacb0\\uc81c\", \"\\ub2e4\\uc2dc \\uae54\\uc544\\ub3c4\", \"\\ub2e4\\uc591\\ud558\\uac8c\", \"\\ub2e4\\uc6b4\\ub85c\\ub4dc\", \"\\ub2e4\\uc6b4\\ub85c\\ub4dc\", \"\\ub2e4\\uc6b4\\ub85c\\ub4dc\", \"\\ub2e8\\uc810\", \"\\ub2e8\\uc810\", \"\\ub2f5\\ubcc0\", \"\\ub2f5\\ubcc0\", \"\\ub2f5\\ubcc0\", \"\\ub370\\uc774\\ud130\", \"\\ub370\\uc774\\ud130\", \"\\ub370\\uc774\\ud130\", \"\\ub3d9\\uc601\\uc0c1\", \"\\ub3d9\\uc601\\uc0c1\", \"\\ub3d9\\uc601\\uc0c1\", \"\\ub3d9\\uc601\\uc0c1 \\ucd2c\\uc601\", \"\\ub418\\uace0\", \"\\ub418\\uace0\", \"\\ub418\\uace0\", \"\\ub418\\uace0\", \"\\ub418\\uace0\", \"\\ub418\\ub294\\uac74\", \"\\ub418\\ub294\\uac74\", \"\\ub418\\uc5c8\\uc73c\\uba74\", \"\\ub418\\uc9c0 \\uc54a\\uace0\", \"\\ub418\\uc9c0 \\uc54a\\uace0\", \"\\ub4e4\\uc5b4\\uac00\\uace0\", \"\\ub54c\\ubb38\", \"\\ub54c\\ubb38\", \"\\ub54c\\ubb38\", \"\\ub54c\\ubb38\", \"\\ub54c\\ubb38\", \"\\ub728\\uace0\", \"\\ub728\\uace0\", \"\\ub728\\uace0\", \"\\ub728\\uace0\", \"\\ub85c\\ub529\", \"\\ub85c\\ub529\", \"\\ub85c\\ub529\", \"\\ub85c\\ub529\", \"\\ub9ac\\ubdf0\", \"\\ub9ac\\ubdf0\", \"\\ub9ac\\ubdf0\", \"\\ub9ac\\ubdf0\", \"\\ub9c8\\ub2e4\", \"\\ub9cc\\ub4dc\\uc2e0\", \"\\ub9cc\\ub4e4\\uae30\", \"\\ub9cc\\ub4e4\\uae30\", \"\\ub9cc\\ub4e4\\uae30\", \"\\ub9cc\\ub4e4\\uc5b4\", \"\\ub9cc\\ub4e4\\uc5b4\", \"\\ub9cc\\ub4e4\\uc5b4\", \"\\ub9ce\\uc544\\uc11c\", \"\\ub9ce\\uc544\\uc11c\", \"\\ub9ce\\uc544\\uc11c\", \"\\uba54\\uc774\\ud06c\\uc5c5\", \"\\uba54\\uc774\\ud06c\\uc5c5\", \"\\uba54\\uc774\\ud06c\\uc5c5\", \"\\uba54\\uc77c\", \"\\uba70\\uce60\", \"\\ubaa8\\ub4dc\", \"\\ubaa8\\ub4dc\", \"\\ubb34\\ub8cc\", \"\\ubb34\\ub8cc \\uccb4\\ud5d8\", \"\\ubb34\\uc74c\", \"\\ubb34\\ud55c\", \"\\ubb34\\ud55c \\ub85c\\ub529\", \"\\ubb38\\uc758\", \"\\ubb38\\uc758\", \"\\ubb38\\uc81c\", \"\\ubb38\\uc81c\", \"\\ubb38\\uc81c\", \"\\ubb38\\uc81c\", \"\\ubc30\\ud130\\ub9ac\", \"\\ubc84\\uadf8\", \"\\ubc84\\uadf8\", \"\\ubc84\\uadf8\", \"\\ubc84\\ud2bc\", \"\\ubc84\\ud2bc\", \"\\ubc84\\ud2bc\", \"\\ubc84\\ud2bc\", \"\\ubc84\\ud2bc\", \"\\ubc84\\ud2bc \\ub204\\ub974\\uba74\", \"\\ubd80\\ud0c1\\ub4dc\\ub9bd\\ub2c8\\ub2e4\", \"\\ubd80\\ud0c1\\ub4dc\\ub9bd\\ub2c8\\ub2e4\", \"\\ubd80\\ud0c1\\ub4dc\\ub9bd\\ub2c8\\ub2e4\", \"\\ubd80\\ud0c1\\ub4dc\\ub9bd\\ub2c8\\ub2e4\", \"\\ubd88\\ud3b8\\ud574\\uc694\", \"\\ubd88\\ud3b8\\ud574\\uc694\", \"\\ubd88\\ud3b8\\ud574\\uc694\", \"\\ubdf0\\ud2f0\", \"\\ubdf0\\ud2f0\", \"\\ubdf0\\ud2f0\", \"\\ube0c\\ub7ec\\uc26c\", \"\\uc0ac\\ub78c\", \"\\uc0ac\\ub78c\", \"\\uc0ac\\ub78c\", \"\\uc0ac\\ub78c\", \"\\uc0ac\\ub78c\", \"\\uc0ac\\ub78c \\uc785\\ub2c8\\ub2e4\", \"\\uc0ac\\uc9c4 \\ubcf4\\uc815\", \"\\uc0ac\\uc9c4 \\ubcf4\\uc815\", \"\\uc0ac\\uc9c4 \\uc0ad\\uc81c\", \"\\uc0ac\\uc9c4 \\uc120\\ud0dd\", \"\\uc0ac\\uc9c4 \\uc800\\uc7a5\", \"\\uc0ac\\uc9c4 \\uc800\\uc7a5\", \"\\uc0ac\\uc9c4 \\uc800\\uc7a5\", \"\\uc0ac\\uc9c4 \\uc800\\uc7a5\", \"\\uc0ac\\uc9c4 \\ucc0d\\ub294\", \"\\uc0ac\\uc9c4 \\ucc0d\\ub294\", \"\\uc0ac\\uc9c4 \\ucc0d\\uc73c\\ub824\\uace0\", \"\\uc0ac\\uc9c4 \\ucc0d\\uc73c\\uba74\", \"\\uc0ac\\uc9c4 \\ucc0d\\uc73c\\uba74\", \"\\uc0ac\\uc9c4 \\ud3b8\\uc9d1\", \"\\uc0ad\\uc81c\", \"\\uc0ad\\uc81c\", \"\\uc0ad\\uc81c\", \"\\uc0ad\\uc81c\", \"\\uc0ad\\uc81c\", \"\\uc0b4\\uc9dd\", \"\\uc0dd\\uac01\", \"\\uc0dd\\uac01\", \"\\uc0dd\\uac01\", \"\\uc0dd\\uac01\", \"\\uc0dd\\uac01\", \"\\uc0dd\\uac01 \\ud569\\ub2c8\\ub2e4\", \"\\uc11c\\ube44\\uc2a4\", \"\\uc120\\ud0dd\", \"\\uc120\\ud0dd\", \"\\uc120\\ud0dd\", \"\\uc124\\uc815\", \"\\uc124\\uc815\", \"\\uc13c\\ud130\", \"\\uc140\\uce74\", \"\\uc140\\uce74\", \"\\uc140\\uce74\", \"\\uc140\\uce74\", \"\\uc154\\ud130\", \"\\uc154\\ud130\", \"\\uc154\\ud130\", \"\\uc18c\\ub9ac\", \"\\uc18c\\ub9ac\", \"\\uc18c\\ub9ac\", \"\\uc18c\\ub9ac\", \"\\uc218\\uc815\", \"\\uc218\\uc815\", \"\\uc218\\uc815\", \"\\uc218\\uc815\", \"\\uc218\\uc815 \\ud574\\uc8fc\\uc138\\uc694\", \"\\uc218\\uc815 \\ud574\\uc8fc\\uc138\\uc694\", \"\\uc21c\\uc815\\ub9cc\\ud654\", \"\\uc21c\\uc815\\ub9cc\\ud654\", \"\\uc2a4\\ub178\\uc6b0 \\uc0ac\\uc6a9\", \"\\uc2a4\\ub178\\uc6b0 \\uc0ac\\uc6a9\", \"\\uc2a4\\ub178\\uc6b0 \\uc0ac\\uc6a9\", \"\\uc2a4\\ub178\\uc6b0 \\uc0ac\\uc6a9\", \"\\uc2a4\\ub178\\uc6b0 \\ud3f4\\ub354\", \"\\uc2a4\\ud2f0\\ucee4 \\uac80\\uc0c9\", \"\\uc2a4\\ud2f0\\ucee4 \\ub9ce\\uc544\\uc11c\", \"\\uc2a4\\ud2f0\\ucee4 \\uc801\\uc6a9\", \"\\uc2a4\\ud2f0\\ucee4 \\ud544\\ud130\", \"\\uc2dc\\uac04\", \"\\uc2dc\\uac04\", \"\\uc2dc\\uac04\", \"\\uc2dc\\uac04\", \"\\uc2dc\\uac04\", \"\\uc2e0\\uccad\", \"\\uc4f0\\uace0\", \"\\uc4f0\\uace0\", \"\\uc4f0\\uace0\", \"\\uc4f0\\uace0\", \"\\uc4f0\\uace0\", \"\\uc4f0\\uace0 \\uc788\\ub294\", \"\\uc4f0\\uace0 \\uc788\\ub294\\ub370\", \"\\uc4f0\\uace0\\uc788\\uc2b5\\ub2c8\\ub2e4\", \"\\uc544\\ub2d8\", \"\\uc544\\ubc14\\ud0c0\", \"\\uc544\\uc774\\ud3f0\", \"\\uc544\\uc8fc\", \"\\uc544\\uc8fc\", \"\\uc544\\uc8fc\", \"\\uc544\\uc8fc\", \"\\uc548\\ub155\\ud558\\uc138\\uc694\", \"\\uc548\\ub155\\ud558\\uc138\\uc694\", \"\\uc548\\ub155\\ud558\\uc138\\uc694\", \"\\uc548\\ub155\\ud558\\uc138\\uc694\", \"\\uc548\\ub418\\ub124\\uc694\", \"\\uc548\\ub418\\ub124\\uc694\", \"\\uc548\\ub418\\uc694\", \"\\uc568\\ubc94\", \"\\uc568\\ubc94 \\uc800\\uc7a5\", \"\\uc5b4\\ub5bb\\uac8c\", \"\\uc5b4\\ub5bb\\uac8c\", \"\\uc5b4\\ub5bb\\uac8c\", \"\\uc5b4\\ub5bb\\uac8c\", \"\\uc5b4\\ub5bb\\uac8c\", \"\\uc5bc\\uad74\", \"\\uc5bc\\uad74\", \"\\uc5bc\\uad74\", \"\\uc5bc\\uad74\", \"\\uc5bc\\uad74\", \"\\uc5c5\\ub370\\uc774\\ud2b8 \\uc774\\ud6c4\", \"\\uc5c5\\ub370\\uc774\\ud2b8 \\uc774\\ud6c4\", \"\\uc5c5\\ub383\", \"\\uc5c5\\ub383\", \"\\uc5c5\\ub383\", \"\\uc5c6\\uace0\", \"\\uc5c6\\uace0\", \"\\uc5c6\\uace0\", \"\\uc5c6\\uace0\", \"\\uc5c6\\uace0\", \"\\uc5c6\\uc74c\", \"\\uc5fc\\uc0c9\", \"\\uc601\\uc0c1\", \"\\uc601\\uc0c1\", \"\\uc601\\uc0c1\", \"\\uc601\\uc0c1\", \"\\uc601\\uc0c1\\ud1b5\\ud654\", \"\\uc601\\uc0c1\\ud1b5\\ud654 \\uae30\\ub2a5\", \"\\uc608\\uc058\\uac8c\", \"\\uc608\\uc058\\uac8c\", \"\\uc608\\uc058\\uac8c\", \"\\uc608\\uc058\\uace0\", \"\\uc608\\uc05c\", \"\\uc608\\uc05c\", \"\\uc624\\ub958\", \"\\uc624\\ub958\", \"\\uc624\\ub958\", \"\\uc624\\ub958\", \"\\uc644\\ub8cc\", \"\\uc644\\ub8cc\", \"\\uc644\\uc804\", \"\\uc644\\uc804\", \"\\uc644\\uc804\", \"\\uc644\\uc804\", \"\\uc694\\uccad\", \"\\uc694\\uccad\", \"\\uc6c0\\uc9c1\\uc774\\ub294\", \"\\uc6c3\\uae34\", \"\\uc6d0\\ub798\", \"\\uc6d0\\ub798\", \"\\uc6d0\\ub798\", \"\\uc6d0\\ub798\", \"\\uc6d0\\ub798\", \"\\uc704\\uce58\", \"\\uc704\\uce58\", \"\\uc720\\ub8cc\", \"\\uc720\\ub8cc\", \"\\uc720\\uc800\", \"\\uc720\\uc800\", \"\\uc774\\uc5c8\\ub294\\ub370\", \"\\uc774\\uc6a9\", \"\\uc774\\uc6a9\", \"\\uc774\\uc6a9\", \"\\uc774\\uc810\", \"\\uc774\\uc810\", \"\\uc774\\ud399\\ud2b8\", \"\\uc774\\ud399\\ud2b8\", \"\\uc774\\ud6c4\", \"\\uc774\\ud6c4\", \"\\uc774\\ud6c4\", \"\\uc774\\ud6c4\", \"\\uc774\\ud6c4\", \"\\uc77c\\ub2e8\", \"\\uc77c\\ub2e8\", \"\\uc77c\\ub2e8\", \"\\uc77c\\ub2e8 \\uc7a5\\uc810\", \"\\uc77d\\uc5b4\\uc8fc\\uc154\\uc11c\", \"\\uc77d\\uc5b4\\uc8fc\\uc154\\uc11c \\uac10\\uc0ac\\ud569\\ub2c8\\ub2e4\", \"\\uc788\\uace0\", \"\\uc788\\uace0\", \"\\uc788\\uace0\", \"\\uc788\\uace0\", \"\\uc788\\uace0\", \"\\uc788\\ub294\", \"\\uc788\\ub294\", \"\\uc788\\ub294\", \"\\uc788\\ub294\", \"\\uc788\\ub294\", \"\\uc788\\ub294\\ub370\", \"\\uc788\\ub294\\ub370\", \"\\uc788\\ub294\\ub370\", \"\\uc788\\ub294\\ub370\", \"\\uc788\\ub294\\ub370\", \"\\uc788\\ub2e4\", \"\\uc788\\ub2e4\\uba74\", \"\\uc788\\ub2e4\\uba74\", \"\\uc788\\uc2b5\\ub2c8\\ub2e4\", \"\\uc788\\uc2b5\\ub2c8\\ub2e4\", \"\\uc788\\uc2b5\\ub2c8\\ub2e4\", \"\\uc788\\uc2b5\\ub2c8\\ub2e4\", \"\\uc788\\uc5b4\\uc11c\", \"\\uc788\\uc5b4\\uc11c\", \"\\uc788\\uc5b4\\uc694\", \"\\uc788\\uc5b4\\uc694\", \"\\uc788\\uc5b4\\uc694\", \"\\uc788\\uc5b4\\uc694\", \"\\uc788\\uc5b4\\uc694\", \"\\uc788\\uc5c8\\ub294\\ub370\", \"\\uc788\\uc5c8\\ub294\\ub370\", \"\\uc788\\uc5c8\\ub294\\ub370\", \"\\uc788\\uc5c8\\ub294\\ub370\", \"\\uc788\\uc5c8\\uc73c\\uba74\", \"\\uc788\\uc5c8\\uc73c\\uba74\", \"\\uc788\\uc5c8\\uc73c\\uba74\", \"\\uc788\\uc5c8\\uc73c\\uba74 \\uc88b\\uaca0\\uc5b4\\uc694\", \"\\uc788\\uc73c\\uba74\", \"\\uc788\\uc73c\\uba74\", \"\\uc788\\uc73c\\uba74\", \"\\uc790\\uae30 \\uc6d0\\ud558\\ub294\", \"\\uc790\\ub3d9\", \"\\uc790\\ub3d9\", \"\\uc790\\ub3d9\", \"\\uc790\\ub3d9 \\uc800\\uc7a5\", \"\\uc798\\uc4f0\\uace0\\uc788\\uc5c8\\ub294\\ub370\", \"\\uc7a5\\uc810\", \"\\uc7a5\\uc810\", \"\\uc7a5\\uc810\", \"\\uc7ac\\ubc0c\\uace0\", \"\\uc7ac\\ubc0c\\uc5b4\\uc694\", \"\\uc800\\uc7a5 \\ub418\\ub124\\uc694\", \"\\uc800\\uc7a5 \\uc548\\ub429\\ub2c8\\ub2e4\", \"\\uc800\\uc7a5 \\uc704\\uce58\", \"\\uc801\\uc6a9\", \"\\uc801\\uc6a9\", \"\\uc801\\uc6a9\", \"\\uc804\\uba74\", \"\\uc804\\uba74 \\uce74\\uba54\\ub77c\", \"\\uc804\\uc774\", \"\\uc815\\uae30\", \"\\uc815\\uae30 \\uacb0\\uc81c\", \"\\uc815\\ub9ac\", \"\\uc815\\ub9d0 \\uc88b\\uc2b5\\ub2c8\\ub2e4\", \"\\uc815\\ubcf4\", \"\\uc824\\ub9ac\", \"\\uc824\\ub9ac\", \"\\uc870\\uae08\", \"\\uc870\\uae08\", \"\\uc870\\uae08\", \"\\uc870\\uae08\", \"\\uc870\\uc808\", \"\\uc870\\uc808\", \"\\uc88b\\uaca0\\uc5b4\\uc694\", \"\\uc88b\\uaca0\\uc5b4\\uc694\", \"\\uc88b\\uaca0\\uc5b4\\uc694\", \"\\uc88b\\uaca0\\uc5b4\\uc694\", \"\\uc88b\\ub124\\uc694\", \"\\uc88b\\uc2b5\\ub2c8\\ub2e4\", \"\\uc88b\\uc2b5\\ub2c8\\ub2e4\", \"\\uc88b\\uc544\\uc694\", \"\\uc88b\\uc544\\uc694\", \"\\uc88b\\uc558\\ub294\\ub370\", \"\\uc88b\\uc558\\ub294\\ub370\", \"\\uc88b\\uc740\", \"\\uc88b\\uc740\", \"\\uc88b\\uc740\", \"\\uc88b\\uc740 \\uac19\\uc544\\uc694\", \"\\uc88b\\uc744\\uac83 \\uac19\\uc544\\uc694\", \"\\uc9c0\\uae08\", \"\\uc9c0\\uae08\", \"\\uc9c0\\uae08\", \"\\uc9c0\\uae08\", \"\\uc9c0\\uae08\", \"\\uc9c0\\uc6b0\\uace0 \\ub2e4\\uc2dc\", \"\\uc9c4\\uc9dc\", \"\\uc9c4\\uc9dc\", \"\\uc9c4\\uc9dc\", \"\\uc9c4\\uc9dc\", \"\\uc9c4\\uc9dc\", \"\\uc9c4\\ud589\", \"\\ucc0d\\uace0\", \"\\ucc0d\\uace0\", \"\\ucc0d\\uace0\", \"\\ucc0d\\uace0\", \"\\ucc0d\\uc73c\\ub824\\uace0\", \"\\ucc0d\\uc73c\\ub824\\uace0\", \"\\ucc0d\\uc73c\\ub824\\uace0\", \"\\ucc0d\\uc73c\\uba74\", \"\\ucc0d\\uc73c\\uba74\", \"\\ucc0d\\uc73c\\uba74\", \"\\ucc0d\\uc73c\\uba74\", \"\\ucc0d\\uc740\", \"\\ucc0d\\uc740\", \"\\ucc0d\\uc740\", \"\\ucc0d\\uc740\", \"\\ucc0d\\uc740 \\uc0ac\\uc9c4\", \"\\ucc0d\\uc740 \\uc0ac\\uc9c4\", \"\\ucc0d\\uc744\\uc218\", \"\\ucc0d\\uc744\\uc218\", \"\\ucc0d\\ud600\\uc11c\", \"\\ucc0d\\ud600\\uc11c\", \"\\ucc0d\\ud600\\uc694\", \"\\ucc0d\\ud600\\uc694\", \"\\ucc0d\\ud788\\uace0\", \"\\ucc0d\\ud788\\uace0\", \"\\ucc28\\uc9c0\", \"\\ucc3e\\uae30\", \"\\ucc98\\ub9ac\", \"\\ucc98\\uc74c\", \"\\ucc98\\uc74c\", \"\\ucc98\\uc74c\", \"\\ucc98\\uc74c\", \"\\uccb4\\ud5d8\", \"\\ucd08\\uae30\", \"\\ucd08\\uc810\", \"\\ucd08\\uc810\", \"\\ucd2c\\uc601\", \"\\ucd2c\\uc601\", \"\\ucd2c\\uc601 \\ubc84\\ud2bc\", \"\\ucd5c\\uace0\", \"\\ucd5c\\uace0\", \"\\ucd94\\ucc9c\", \"\\ucd94\\ucc9c\", \"\\ucd94\\ucc9c \\ud569\\ub2c8\\ub2e4\", \"\\ucde8\\uc18c\", \"\\ucde8\\uc18c\", \"\\uce5c\\uad6c\", \"\\uce5c\\uad6c\", \"\\uce5c\\uad6c \\uc0ac\\uc9c4\", \"\\uce74\\uba54\\ub77c \\ucd2c\\uc601\", \"\\uce74\\uba54\\ub77c \\ud3f4\\ub354\", \"\\uce74\\uba54\\ub77c \\ud3f4\\ub354\", \"\\ud130\\uce58\", \"\\ud130\\uce58\", \"\\ud130\\uce58\", \"\\ud295\\uaca8\", \"\\ud2f1\\ud1a1\", \"\\ud3b8\\uc9d1\", \"\\ud3b8\\uc9d1\", \"\\ud3b8\\uc9d1\", \"\\ud3b8\\uc9d1\", \"\\ud3b8\\uc9d1 \\uae30\\ub2a5\", \"\\ud3b8\\uc9d1 \\ud558\\uba74\", \"\\ud3f4\\ub354\", \"\\ud3f4\\ub354\", \"\\ud3f4\\ub354 \\uc800\\uc7a5\", \"\\ud3f4\\ub354 \\uc800\\uc7a5\", \"\\ud504\\ub85c\\ud544\", \"\\ud504\\ub85c\\ud544 \\uacb0\\uc81c\", \"\\ud50c\\ub7ec\\uc2a4\", \"\\ud53c\\ub4dc\\ubc31\", \"\\ud544\\ud130 \\uc0ac\\uc6a9\", \"\\ud544\\ud130 \\uc0ac\\uc6a9\", \"\\ud544\\ud130 \\uc2a4\\ud2f0\\ucee4\", \"\\ud544\\ud130 \\uc801\\uc6a9\", \"\\ud544\\ud130 \\uc801\\uc6a9\", \"\\ud558\\ub098\", \"\\ud558\\ub098\", \"\\ud558\\ub098\", \"\\ud558\\ub098\", \"\\ud558\\ub294\", \"\\ud558\\ub294\", \"\\ud558\\ub294\", \"\\ud558\\ub294\", \"\\ud558\\ub294\", \"\\ud558\\ub2e4\", \"\\ud558\\uc9c0\", \"\\ud558\\uc9c0\", \"\\ud558\\uc9c0\", \"\\ud55c\\uac00\\uc9c0\", \"\\ud55c\\ubc88\", \"\\ud55c\\ubc88\", \"\\ud55c\\ubc88\", \"\\ud55c\\ubc88\", \"\\ud55c\\ubc88\", \"\\ud569\\ub2c8\\ub2e4\", \"\\ud569\\ub2c8\\ub2e4\", \"\\ud569\\ub2c8\\ub2e4\", \"\\ud569\\ub2c8\\ub2e4\", \"\\ud569\\ub2c8\\ub2e4\", \"\\ud574\\uacb0\", \"\\ud574\\uacb0\", \"\\ud574\\uacb0\", \"\\ud574\\uacb0\", \"\\ud574\\uc0c1\\ub3c4\", \"\\ud574\\uc0c1\\ub3c4\", \"\\ud574\\uc11c\", \"\\ud574\\uc11c\", \"\\ud574\\uc11c\", \"\\ud574\\uc11c\", \"\\ud574\\uc11c\", \"\\ud574\\uc9c0\", \"\\ud578\\ub4dc\\ud3f0\", \"\\ud578\\ub4dc\\ud3f0\", \"\\ud578\\ub4dc\\ud3f0\", \"\\ud588\\ub2e4\\uac00\", \"\\ud654\\uba74 \\ud130\\uce58\", \"\\ud655\\ub300\", \"\\ud655\\ub300\", \"\\ud655\\uc778\", \"\\ud655\\uc778\", \"\\ud655\\uc778\", \"\\ud658\\ubd88\", \"\\ud658\\ubd88 \\uc694\\uccad\", \"\\ud658\\ubd88 \\ud574\\uc8fc\\uc138\\uc694\", \"\\ud6a8\\uacfc\", \"\\ud6a8\\uacfc\"]}, \"R\": 30, \"lambda.step\": 0.01, \"plot.opts\": {\"xlab\": \"PC1\", \"ylab\": \"PC2\"}, \"topic.order\": [3, 4, 5, 2, 1]};\n",
              "\n",
              "function LDAvis_load_lib(url, callback){\n",
              "  var s = document.createElement('script');\n",
              "  s.src = url;\n",
              "  s.async = true;\n",
              "  s.onreadystatechange = s.onload = callback;\n",
              "  s.onerror = function(){console.warn(\"failed to load library \" + url);};\n",
              "  document.getElementsByTagName(\"head\")[0].appendChild(s);\n",
              "}\n",
              "\n",
              "if(typeof(LDAvis) !== \"undefined\"){\n",
              "   // already loaded: just create the visualization\n",
              "   !function(LDAvis){\n",
              "       new LDAvis(\"#\" + \"ldavis_el14461404751376972488466300827\", ldavis_el14461404751376972488466300827_data);\n",
              "   }(LDAvis);\n",
              "}else if(typeof define === \"function\" && define.amd){\n",
              "   // require.js is available: use it to load d3/LDAvis\n",
              "   require.config({paths: {d3: \"https://d3js.org/d3.v5\"}});\n",
              "   require([\"d3\"], function(d3){\n",
              "      window.d3 = d3;\n",
              "      LDAvis_load_lib(\"https://cdn.jsdelivr.net/gh/bmabey/pyLDAvis@3.4.0/pyLDAvis/js/ldavis.v3.0.0.js\", function(){\n",
              "        new LDAvis(\"#\" + \"ldavis_el14461404751376972488466300827\", ldavis_el14461404751376972488466300827_data);\n",
              "      });\n",
              "    });\n",
              "}else{\n",
              "    // require.js not available: dynamically load d3 & LDAvis\n",
              "    LDAvis_load_lib(\"https://d3js.org/d3.v5.js\", function(){\n",
              "         LDAvis_load_lib(\"https://cdn.jsdelivr.net/gh/bmabey/pyLDAvis@3.4.0/pyLDAvis/js/ldavis.v3.0.0.js\", function(){\n",
              "                 new LDAvis(\"#\" + \"ldavis_el14461404751376972488466300827\", ldavis_el14461404751376972488466300827_data);\n",
              "            })\n",
              "         });\n",
              "}\n",
              "</script>"
            ]
          },
          "metadata": {},
          "execution_count": 15
        }
      ]
    },
    {
      "cell_type": "code",
      "source": [
        "# 각 문서별 높은 확률의 토픽\n",
        "sent_topic = lda.transform(feat_vect)\n",
        "sent_topic[0]"
      ],
      "metadata": {
        "colab": {
          "base_uri": "https://localhost:8080/"
        },
        "id": "gqjlQ2daqfD1",
        "outputId": "bb889e95-3244-4d60-c65e-6ba2b92b2367"
      },
      "execution_count": 16,
      "outputs": [
        {
          "output_type": "stream",
          "name": "stderr",
          "text": [
            "/usr/local/lib/python3.10/dist-packages/ipykernel/ipkernel.py:283: DeprecationWarning: `should_run_async` will not call `transform_cell` automatically in the future. Please pass the result to `transformed_cell` argument and any exception that happen during thetransform in `preprocessing_exc_tuple` in IPython 7.17 and above.\n",
            "  and should_run_async(code)\n"
          ]
        },
        {
          "output_type": "execute_result",
          "data": {
            "text/plain": [
              "array([0.12958372, 0.04894453, 0.00585762, 0.00592337, 0.80969075])"
            ]
          },
          "metadata": {},
          "execution_count": 16
        }
      ]
    },
    {
      "cell_type": "code",
      "source": [
        "sent_topic_per_list = []\n",
        "for n in range(sent_topic.shape[0]):\n",
        "    sent_topic_list = sent_topic[n].argmax()\n",
        "    topic_per = sent_topic[n].max()\n",
        "    sent_topic_per_list.append([n,sent_topic_list,topic_per])\n",
        "\n",
        "topic_per_df = pd.DataFrame(sent_topic_per_list, columns = ['no', '토픽번호', '확률'])\n",
        "topic_per_df"
      ],
      "metadata": {
        "colab": {
          "base_uri": "https://localhost:8080/",
          "height": 480
        },
        "id": "2XPq7hsOqfAy",
        "outputId": "cff468ea-ad3a-40bd-95ee-cf928ae2214d"
      },
      "execution_count": 17,
      "outputs": [
        {
          "output_type": "stream",
          "name": "stderr",
          "text": [
            "/usr/local/lib/python3.10/dist-packages/ipykernel/ipkernel.py:283: DeprecationWarning: `should_run_async` will not call `transform_cell` automatically in the future. Please pass the result to `transformed_cell` argument and any exception that happen during thetransform in `preprocessing_exc_tuple` in IPython 7.17 and above.\n",
            "  and should_run_async(code)\n"
          ]
        },
        {
          "output_type": "execute_result",
          "data": {
            "text/plain": [
              "      no  토픽번호        확률\n",
              "0      0     4  0.809691\n",
              "1      1     0  0.975956\n",
              "2      2     4  0.665377\n",
              "3      3     4  0.955217\n",
              "4      4     2  0.464911\n",
              "..   ...   ...       ...\n",
              "995  995     3  0.739632\n",
              "996  996     4  0.413182\n",
              "997  997     2  0.952258\n",
              "998  998     1  0.552354\n",
              "999  999     3  0.527778\n",
              "\n",
              "[1000 rows x 3 columns]"
            ],
            "text/html": [
              "\n",
              "\n",
              "  <div id=\"df-27840a67-433d-4193-8420-3784a5c98e51\">\n",
              "    <div class=\"colab-df-container\">\n",
              "      <div>\n",
              "<style scoped>\n",
              "    .dataframe tbody tr th:only-of-type {\n",
              "        vertical-align: middle;\n",
              "    }\n",
              "\n",
              "    .dataframe tbody tr th {\n",
              "        vertical-align: top;\n",
              "    }\n",
              "\n",
              "    .dataframe thead th {\n",
              "        text-align: right;\n",
              "    }\n",
              "</style>\n",
              "<table border=\"1\" class=\"dataframe\">\n",
              "  <thead>\n",
              "    <tr style=\"text-align: right;\">\n",
              "      <th></th>\n",
              "      <th>no</th>\n",
              "      <th>토픽번호</th>\n",
              "      <th>확률</th>\n",
              "    </tr>\n",
              "  </thead>\n",
              "  <tbody>\n",
              "    <tr>\n",
              "      <th>0</th>\n",
              "      <td>0</td>\n",
              "      <td>4</td>\n",
              "      <td>0.809691</td>\n",
              "    </tr>\n",
              "    <tr>\n",
              "      <th>1</th>\n",
              "      <td>1</td>\n",
              "      <td>0</td>\n",
              "      <td>0.975956</td>\n",
              "    </tr>\n",
              "    <tr>\n",
              "      <th>2</th>\n",
              "      <td>2</td>\n",
              "      <td>4</td>\n",
              "      <td>0.665377</td>\n",
              "    </tr>\n",
              "    <tr>\n",
              "      <th>3</th>\n",
              "      <td>3</td>\n",
              "      <td>4</td>\n",
              "      <td>0.955217</td>\n",
              "    </tr>\n",
              "    <tr>\n",
              "      <th>4</th>\n",
              "      <td>4</td>\n",
              "      <td>2</td>\n",
              "      <td>0.464911</td>\n",
              "    </tr>\n",
              "    <tr>\n",
              "      <th>...</th>\n",
              "      <td>...</td>\n",
              "      <td>...</td>\n",
              "      <td>...</td>\n",
              "    </tr>\n",
              "    <tr>\n",
              "      <th>995</th>\n",
              "      <td>995</td>\n",
              "      <td>3</td>\n",
              "      <td>0.739632</td>\n",
              "    </tr>\n",
              "    <tr>\n",
              "      <th>996</th>\n",
              "      <td>996</td>\n",
              "      <td>4</td>\n",
              "      <td>0.413182</td>\n",
              "    </tr>\n",
              "    <tr>\n",
              "      <th>997</th>\n",
              "      <td>997</td>\n",
              "      <td>2</td>\n",
              "      <td>0.952258</td>\n",
              "    </tr>\n",
              "    <tr>\n",
              "      <th>998</th>\n",
              "      <td>998</td>\n",
              "      <td>1</td>\n",
              "      <td>0.552354</td>\n",
              "    </tr>\n",
              "    <tr>\n",
              "      <th>999</th>\n",
              "      <td>999</td>\n",
              "      <td>3</td>\n",
              "      <td>0.527778</td>\n",
              "    </tr>\n",
              "  </tbody>\n",
              "</table>\n",
              "<p>1000 rows × 3 columns</p>\n",
              "</div>\n",
              "      <button class=\"colab-df-convert\" onclick=\"convertToInteractive('df-27840a67-433d-4193-8420-3784a5c98e51')\"\n",
              "              title=\"Convert this dataframe to an interactive table.\"\n",
              "              style=\"display:none;\">\n",
              "\n",
              "  <svg xmlns=\"http://www.w3.org/2000/svg\" height=\"24px\"viewBox=\"0 0 24 24\"\n",
              "       width=\"24px\">\n",
              "    <path d=\"M0 0h24v24H0V0z\" fill=\"none\"/>\n",
              "    <path d=\"M18.56 5.44l.94 2.06.94-2.06 2.06-.94-2.06-.94-.94-2.06-.94 2.06-2.06.94zm-11 1L8.5 8.5l.94-2.06 2.06-.94-2.06-.94L8.5 2.5l-.94 2.06-2.06.94zm10 10l.94 2.06.94-2.06 2.06-.94-2.06-.94-.94-2.06-.94 2.06-2.06.94z\"/><path d=\"M17.41 7.96l-1.37-1.37c-.4-.4-.92-.59-1.43-.59-.52 0-1.04.2-1.43.59L10.3 9.45l-7.72 7.72c-.78.78-.78 2.05 0 2.83L4 21.41c.39.39.9.59 1.41.59.51 0 1.02-.2 1.41-.59l7.78-7.78 2.81-2.81c.8-.78.8-2.07 0-2.86zM5.41 20L4 18.59l7.72-7.72 1.47 1.35L5.41 20z\"/>\n",
              "  </svg>\n",
              "      </button>\n",
              "\n",
              "\n",
              "\n",
              "    <div id=\"df-42f9b847-c22c-4fd5-a3af-260e5fd8d37a\">\n",
              "      <button class=\"colab-df-quickchart\" onclick=\"quickchart('df-42f9b847-c22c-4fd5-a3af-260e5fd8d37a')\"\n",
              "              title=\"Suggest charts.\"\n",
              "              style=\"display:none;\">\n",
              "\n",
              "<svg xmlns=\"http://www.w3.org/2000/svg\" height=\"24px\"viewBox=\"0 0 24 24\"\n",
              "     width=\"24px\">\n",
              "    <g>\n",
              "        <path d=\"M19 3H5c-1.1 0-2 .9-2 2v14c0 1.1.9 2 2 2h14c1.1 0 2-.9 2-2V5c0-1.1-.9-2-2-2zM9 17H7v-7h2v7zm4 0h-2V7h2v10zm4 0h-2v-4h2v4z\"/>\n",
              "    </g>\n",
              "</svg>\n",
              "      </button>\n",
              "    </div>\n",
              "\n",
              "<style>\n",
              "  .colab-df-quickchart {\n",
              "    background-color: #E8F0FE;\n",
              "    border: none;\n",
              "    border-radius: 50%;\n",
              "    cursor: pointer;\n",
              "    display: none;\n",
              "    fill: #1967D2;\n",
              "    height: 32px;\n",
              "    padding: 0 0 0 0;\n",
              "    width: 32px;\n",
              "  }\n",
              "\n",
              "  .colab-df-quickchart:hover {\n",
              "    background-color: #E2EBFA;\n",
              "    box-shadow: 0px 1px 2px rgba(60, 64, 67, 0.3), 0px 1px 3px 1px rgba(60, 64, 67, 0.15);\n",
              "    fill: #174EA6;\n",
              "  }\n",
              "\n",
              "  [theme=dark] .colab-df-quickchart {\n",
              "    background-color: #3B4455;\n",
              "    fill: #D2E3FC;\n",
              "  }\n",
              "\n",
              "  [theme=dark] .colab-df-quickchart:hover {\n",
              "    background-color: #434B5C;\n",
              "    box-shadow: 0px 1px 3px 1px rgba(0, 0, 0, 0.15);\n",
              "    filter: drop-shadow(0px 1px 2px rgba(0, 0, 0, 0.3));\n",
              "    fill: #FFFFFF;\n",
              "  }\n",
              "</style>\n",
              "\n",
              "    <script>\n",
              "      async function quickchart(key) {\n",
              "        const containerElement = document.querySelector('#' + key);\n",
              "        const charts = await google.colab.kernel.invokeFunction(\n",
              "            'suggestCharts', [key], {});\n",
              "      }\n",
              "    </script>\n",
              "\n",
              "      <script>\n",
              "\n",
              "function displayQuickchartButton(domScope) {\n",
              "  let quickchartButtonEl =\n",
              "    domScope.querySelector('#df-42f9b847-c22c-4fd5-a3af-260e5fd8d37a button.colab-df-quickchart');\n",
              "  quickchartButtonEl.style.display =\n",
              "    google.colab.kernel.accessAllowed ? 'block' : 'none';\n",
              "}\n",
              "\n",
              "        displayQuickchartButton(document);\n",
              "      </script>\n",
              "      <style>\n",
              "    .colab-df-container {\n",
              "      display:flex;\n",
              "      flex-wrap:wrap;\n",
              "      gap: 12px;\n",
              "    }\n",
              "\n",
              "    .colab-df-convert {\n",
              "      background-color: #E8F0FE;\n",
              "      border: none;\n",
              "      border-radius: 50%;\n",
              "      cursor: pointer;\n",
              "      display: none;\n",
              "      fill: #1967D2;\n",
              "      height: 32px;\n",
              "      padding: 0 0 0 0;\n",
              "      width: 32px;\n",
              "    }\n",
              "\n",
              "    .colab-df-convert:hover {\n",
              "      background-color: #E2EBFA;\n",
              "      box-shadow: 0px 1px 2px rgba(60, 64, 67, 0.3), 0px 1px 3px 1px rgba(60, 64, 67, 0.15);\n",
              "      fill: #174EA6;\n",
              "    }\n",
              "\n",
              "    [theme=dark] .colab-df-convert {\n",
              "      background-color: #3B4455;\n",
              "      fill: #D2E3FC;\n",
              "    }\n",
              "\n",
              "    [theme=dark] .colab-df-convert:hover {\n",
              "      background-color: #434B5C;\n",
              "      box-shadow: 0px 1px 3px 1px rgba(0, 0, 0, 0.15);\n",
              "      filter: drop-shadow(0px 1px 2px rgba(0, 0, 0, 0.3));\n",
              "      fill: #FFFFFF;\n",
              "    }\n",
              "  </style>\n",
              "\n",
              "      <script>\n",
              "        const buttonEl =\n",
              "          document.querySelector('#df-27840a67-433d-4193-8420-3784a5c98e51 button.colab-df-convert');\n",
              "        buttonEl.style.display =\n",
              "          google.colab.kernel.accessAllowed ? 'block' : 'none';\n",
              "\n",
              "        async function convertToInteractive(key) {\n",
              "          const element = document.querySelector('#df-27840a67-433d-4193-8420-3784a5c98e51');\n",
              "          const dataTable =\n",
              "            await google.colab.kernel.invokeFunction('convertToInteractive',\n",
              "                                                     [key], {});\n",
              "          if (!dataTable) return;\n",
              "\n",
              "          const docLinkHtml = 'Like what you see? Visit the ' +\n",
              "            '<a target=\"_blank\" href=https://colab.research.google.com/notebooks/data_table.ipynb>data table notebook</a>'\n",
              "            + ' to learn more about interactive tables.';\n",
              "          element.innerHTML = '';\n",
              "          dataTable['output_type'] = 'display_data';\n",
              "          await google.colab.output.renderOutput(dataTable, element);\n",
              "          const docLink = document.createElement('div');\n",
              "          docLink.innerHTML = docLinkHtml;\n",
              "          element.appendChild(docLink);\n",
              "        }\n",
              "      </script>\n",
              "    </div>\n",
              "  </div>\n"
            ]
          },
          "metadata": {},
          "execution_count": 17
        }
      ]
    },
    {
      "cell_type": "code",
      "source": [
        "doc_topic_df = topic_per_df.join(df)\n",
        "doc_topic_df"
      ],
      "metadata": {
        "colab": {
          "base_uri": "https://localhost:8080/",
          "height": 480
        },
        "id": "Iqx8nKZFqe7R",
        "outputId": "f7161825-838e-4b34-963c-3527dec01e2e"
      },
      "execution_count": 18,
      "outputs": [
        {
          "output_type": "stream",
          "name": "stderr",
          "text": [
            "/usr/local/lib/python3.10/dist-packages/ipykernel/ipkernel.py:283: DeprecationWarning: `should_run_async` will not call `transform_cell` automatically in the future. Please pass the result to `transformed_cell` argument and any exception that happen during thetransform in `preprocessing_exc_tuple` in IPython 7.17 and above.\n",
            "  and should_run_async(code)\n"
          ]
        },
        {
          "output_type": "execute_result",
          "data": {
            "text/plain": [
              "      no  토픽번호        확률                                               text  \\\n",
              "0      0     4  0.809691  그동안은 잘썼으니 별두개 드립니다. 어느날인가부터 사진을 찍으면 볼 부분만 너무나도...   \n",
              "1      1     0  0.975956  안녕하세요, 잘쓰고 있긴한데 한 몇주전부터 셀카모드(고화질)로 촬영하면 렉 잠깐 걸...   \n",
              "2      2     4  0.665377  무료 체험 후 구독 취소에 애먹으시고 계신 분들은 gmail로 온 결제내역 알림에 ...   \n",
              "3      3     4  0.955217  별을 단 1개도 주기 아까운 어플이네요. 스노우 꽤 여러번 결제를 했구요. 처음 빼...   \n",
              "4      4     2  0.464911  쓰면 쓸수록 광고가 많아지는 신기한 앱입니다. 물론 기본이 무료앱이니까 광고 보는거...   \n",
              "..   ...   ...       ...                                                ...   \n",
              "995  995     3  0.739632  동영상 촬영시 시간제한이 없으면 참 좋겟네요, 덧 붙여 겔럭시 노트9 사용자 인데 ...   \n",
              "996  996     4  0.413182  이제껏 잘 썼기에 조용히 있었건만 더는 안되겠네요. 사진 저장경로 변경하는게 그렇게...   \n",
              "997  997     2  0.952258  스노우는요 예쁜 필터가 만이 있어서 좋아요 그냥 사진찍는거 부다 100배1000배 ...   \n",
              "998  998     1  0.552354  그냥 다 너무 좋은데 얼마 전부터 찍은 사진이 카메라에 저장되더라구요..아마도 업뎃...   \n",
              "999  999     3  0.527778  사진 찍으면 바로 안찍히고 1초 있다가 찍혀서 흔들리게 나옴. 동영상으로 찍히는 경...   \n",
              "\n",
              "     score  \n",
              "0        2  \n",
              "1        5  \n",
              "2        3  \n",
              "3        1  \n",
              "4        2  \n",
              "..     ...  \n",
              "995      4  \n",
              "996      1  \n",
              "997      5  \n",
              "998      5  \n",
              "999      4  \n",
              "\n",
              "[1000 rows x 5 columns]"
            ],
            "text/html": [
              "\n",
              "\n",
              "  <div id=\"df-f9973a25-677f-49dd-aba0-d55de10a2271\">\n",
              "    <div class=\"colab-df-container\">\n",
              "      <div>\n",
              "<style scoped>\n",
              "    .dataframe tbody tr th:only-of-type {\n",
              "        vertical-align: middle;\n",
              "    }\n",
              "\n",
              "    .dataframe tbody tr th {\n",
              "        vertical-align: top;\n",
              "    }\n",
              "\n",
              "    .dataframe thead th {\n",
              "        text-align: right;\n",
              "    }\n",
              "</style>\n",
              "<table border=\"1\" class=\"dataframe\">\n",
              "  <thead>\n",
              "    <tr style=\"text-align: right;\">\n",
              "      <th></th>\n",
              "      <th>no</th>\n",
              "      <th>토픽번호</th>\n",
              "      <th>확률</th>\n",
              "      <th>text</th>\n",
              "      <th>score</th>\n",
              "    </tr>\n",
              "  </thead>\n",
              "  <tbody>\n",
              "    <tr>\n",
              "      <th>0</th>\n",
              "      <td>0</td>\n",
              "      <td>4</td>\n",
              "      <td>0.809691</td>\n",
              "      <td>그동안은 잘썼으니 별두개 드립니다. 어느날인가부터 사진을 찍으면 볼 부분만 너무나도...</td>\n",
              "      <td>2</td>\n",
              "    </tr>\n",
              "    <tr>\n",
              "      <th>1</th>\n",
              "      <td>1</td>\n",
              "      <td>0</td>\n",
              "      <td>0.975956</td>\n",
              "      <td>안녕하세요, 잘쓰고 있긴한데 한 몇주전부터 셀카모드(고화질)로 촬영하면 렉 잠깐 걸...</td>\n",
              "      <td>5</td>\n",
              "    </tr>\n",
              "    <tr>\n",
              "      <th>2</th>\n",
              "      <td>2</td>\n",
              "      <td>4</td>\n",
              "      <td>0.665377</td>\n",
              "      <td>무료 체험 후 구독 취소에 애먹으시고 계신 분들은 gmail로 온 결제내역 알림에 ...</td>\n",
              "      <td>3</td>\n",
              "    </tr>\n",
              "    <tr>\n",
              "      <th>3</th>\n",
              "      <td>3</td>\n",
              "      <td>4</td>\n",
              "      <td>0.955217</td>\n",
              "      <td>별을 단 1개도 주기 아까운 어플이네요. 스노우 꽤 여러번 결제를 했구요. 처음 빼...</td>\n",
              "      <td>1</td>\n",
              "    </tr>\n",
              "    <tr>\n",
              "      <th>4</th>\n",
              "      <td>4</td>\n",
              "      <td>2</td>\n",
              "      <td>0.464911</td>\n",
              "      <td>쓰면 쓸수록 광고가 많아지는 신기한 앱입니다. 물론 기본이 무료앱이니까 광고 보는거...</td>\n",
              "      <td>2</td>\n",
              "    </tr>\n",
              "    <tr>\n",
              "      <th>...</th>\n",
              "      <td>...</td>\n",
              "      <td>...</td>\n",
              "      <td>...</td>\n",
              "      <td>...</td>\n",
              "      <td>...</td>\n",
              "    </tr>\n",
              "    <tr>\n",
              "      <th>995</th>\n",
              "      <td>995</td>\n",
              "      <td>3</td>\n",
              "      <td>0.739632</td>\n",
              "      <td>동영상 촬영시 시간제한이 없으면 참 좋겟네요, 덧 붙여 겔럭시 노트9 사용자 인데 ...</td>\n",
              "      <td>4</td>\n",
              "    </tr>\n",
              "    <tr>\n",
              "      <th>996</th>\n",
              "      <td>996</td>\n",
              "      <td>4</td>\n",
              "      <td>0.413182</td>\n",
              "      <td>이제껏 잘 썼기에 조용히 있었건만 더는 안되겠네요. 사진 저장경로 변경하는게 그렇게...</td>\n",
              "      <td>1</td>\n",
              "    </tr>\n",
              "    <tr>\n",
              "      <th>997</th>\n",
              "      <td>997</td>\n",
              "      <td>2</td>\n",
              "      <td>0.952258</td>\n",
              "      <td>스노우는요 예쁜 필터가 만이 있어서 좋아요 그냥 사진찍는거 부다 100배1000배 ...</td>\n",
              "      <td>5</td>\n",
              "    </tr>\n",
              "    <tr>\n",
              "      <th>998</th>\n",
              "      <td>998</td>\n",
              "      <td>1</td>\n",
              "      <td>0.552354</td>\n",
              "      <td>그냥 다 너무 좋은데 얼마 전부터 찍은 사진이 카메라에 저장되더라구요..아마도 업뎃...</td>\n",
              "      <td>5</td>\n",
              "    </tr>\n",
              "    <tr>\n",
              "      <th>999</th>\n",
              "      <td>999</td>\n",
              "      <td>3</td>\n",
              "      <td>0.527778</td>\n",
              "      <td>사진 찍으면 바로 안찍히고 1초 있다가 찍혀서 흔들리게 나옴. 동영상으로 찍히는 경...</td>\n",
              "      <td>4</td>\n",
              "    </tr>\n",
              "  </tbody>\n",
              "</table>\n",
              "<p>1000 rows × 5 columns</p>\n",
              "</div>\n",
              "      <button class=\"colab-df-convert\" onclick=\"convertToInteractive('df-f9973a25-677f-49dd-aba0-d55de10a2271')\"\n",
              "              title=\"Convert this dataframe to an interactive table.\"\n",
              "              style=\"display:none;\">\n",
              "\n",
              "  <svg xmlns=\"http://www.w3.org/2000/svg\" height=\"24px\"viewBox=\"0 0 24 24\"\n",
              "       width=\"24px\">\n",
              "    <path d=\"M0 0h24v24H0V0z\" fill=\"none\"/>\n",
              "    <path d=\"M18.56 5.44l.94 2.06.94-2.06 2.06-.94-2.06-.94-.94-2.06-.94 2.06-2.06.94zm-11 1L8.5 8.5l.94-2.06 2.06-.94-2.06-.94L8.5 2.5l-.94 2.06-2.06.94zm10 10l.94 2.06.94-2.06 2.06-.94-2.06-.94-.94-2.06-.94 2.06-2.06.94z\"/><path d=\"M17.41 7.96l-1.37-1.37c-.4-.4-.92-.59-1.43-.59-.52 0-1.04.2-1.43.59L10.3 9.45l-7.72 7.72c-.78.78-.78 2.05 0 2.83L4 21.41c.39.39.9.59 1.41.59.51 0 1.02-.2 1.41-.59l7.78-7.78 2.81-2.81c.8-.78.8-2.07 0-2.86zM5.41 20L4 18.59l7.72-7.72 1.47 1.35L5.41 20z\"/>\n",
              "  </svg>\n",
              "      </button>\n",
              "\n",
              "\n",
              "\n",
              "    <div id=\"df-a113bbce-f31a-4b1a-8f38-75cd84c52b7c\">\n",
              "      <button class=\"colab-df-quickchart\" onclick=\"quickchart('df-a113bbce-f31a-4b1a-8f38-75cd84c52b7c')\"\n",
              "              title=\"Suggest charts.\"\n",
              "              style=\"display:none;\">\n",
              "\n",
              "<svg xmlns=\"http://www.w3.org/2000/svg\" height=\"24px\"viewBox=\"0 0 24 24\"\n",
              "     width=\"24px\">\n",
              "    <g>\n",
              "        <path d=\"M19 3H5c-1.1 0-2 .9-2 2v14c0 1.1.9 2 2 2h14c1.1 0 2-.9 2-2V5c0-1.1-.9-2-2-2zM9 17H7v-7h2v7zm4 0h-2V7h2v10zm4 0h-2v-4h2v4z\"/>\n",
              "    </g>\n",
              "</svg>\n",
              "      </button>\n",
              "    </div>\n",
              "\n",
              "<style>\n",
              "  .colab-df-quickchart {\n",
              "    background-color: #E8F0FE;\n",
              "    border: none;\n",
              "    border-radius: 50%;\n",
              "    cursor: pointer;\n",
              "    display: none;\n",
              "    fill: #1967D2;\n",
              "    height: 32px;\n",
              "    padding: 0 0 0 0;\n",
              "    width: 32px;\n",
              "  }\n",
              "\n",
              "  .colab-df-quickchart:hover {\n",
              "    background-color: #E2EBFA;\n",
              "    box-shadow: 0px 1px 2px rgba(60, 64, 67, 0.3), 0px 1px 3px 1px rgba(60, 64, 67, 0.15);\n",
              "    fill: #174EA6;\n",
              "  }\n",
              "\n",
              "  [theme=dark] .colab-df-quickchart {\n",
              "    background-color: #3B4455;\n",
              "    fill: #D2E3FC;\n",
              "  }\n",
              "\n",
              "  [theme=dark] .colab-df-quickchart:hover {\n",
              "    background-color: #434B5C;\n",
              "    box-shadow: 0px 1px 3px 1px rgba(0, 0, 0, 0.15);\n",
              "    filter: drop-shadow(0px 1px 2px rgba(0, 0, 0, 0.3));\n",
              "    fill: #FFFFFF;\n",
              "  }\n",
              "</style>\n",
              "\n",
              "    <script>\n",
              "      async function quickchart(key) {\n",
              "        const containerElement = document.querySelector('#' + key);\n",
              "        const charts = await google.colab.kernel.invokeFunction(\n",
              "            'suggestCharts', [key], {});\n",
              "      }\n",
              "    </script>\n",
              "\n",
              "      <script>\n",
              "\n",
              "function displayQuickchartButton(domScope) {\n",
              "  let quickchartButtonEl =\n",
              "    domScope.querySelector('#df-a113bbce-f31a-4b1a-8f38-75cd84c52b7c button.colab-df-quickchart');\n",
              "  quickchartButtonEl.style.display =\n",
              "    google.colab.kernel.accessAllowed ? 'block' : 'none';\n",
              "}\n",
              "\n",
              "        displayQuickchartButton(document);\n",
              "      </script>\n",
              "      <style>\n",
              "    .colab-df-container {\n",
              "      display:flex;\n",
              "      flex-wrap:wrap;\n",
              "      gap: 12px;\n",
              "    }\n",
              "\n",
              "    .colab-df-convert {\n",
              "      background-color: #E8F0FE;\n",
              "      border: none;\n",
              "      border-radius: 50%;\n",
              "      cursor: pointer;\n",
              "      display: none;\n",
              "      fill: #1967D2;\n",
              "      height: 32px;\n",
              "      padding: 0 0 0 0;\n",
              "      width: 32px;\n",
              "    }\n",
              "\n",
              "    .colab-df-convert:hover {\n",
              "      background-color: #E2EBFA;\n",
              "      box-shadow: 0px 1px 2px rgba(60, 64, 67, 0.3), 0px 1px 3px 1px rgba(60, 64, 67, 0.15);\n",
              "      fill: #174EA6;\n",
              "    }\n",
              "\n",
              "    [theme=dark] .colab-df-convert {\n",
              "      background-color: #3B4455;\n",
              "      fill: #D2E3FC;\n",
              "    }\n",
              "\n",
              "    [theme=dark] .colab-df-convert:hover {\n",
              "      background-color: #434B5C;\n",
              "      box-shadow: 0px 1px 3px 1px rgba(0, 0, 0, 0.15);\n",
              "      filter: drop-shadow(0px 1px 2px rgba(0, 0, 0, 0.3));\n",
              "      fill: #FFFFFF;\n",
              "    }\n",
              "  </style>\n",
              "\n",
              "      <script>\n",
              "        const buttonEl =\n",
              "          document.querySelector('#df-f9973a25-677f-49dd-aba0-d55de10a2271 button.colab-df-convert');\n",
              "        buttonEl.style.display =\n",
              "          google.colab.kernel.accessAllowed ? 'block' : 'none';\n",
              "\n",
              "        async function convertToInteractive(key) {\n",
              "          const element = document.querySelector('#df-f9973a25-677f-49dd-aba0-d55de10a2271');\n",
              "          const dataTable =\n",
              "            await google.colab.kernel.invokeFunction('convertToInteractive',\n",
              "                                                     [key], {});\n",
              "          if (!dataTable) return;\n",
              "\n",
              "          const docLinkHtml = 'Like what you see? Visit the ' +\n",
              "            '<a target=\"_blank\" href=https://colab.research.google.com/notebooks/data_table.ipynb>data table notebook</a>'\n",
              "            + ' to learn more about interactive tables.';\n",
              "          element.innerHTML = '';\n",
              "          dataTable['output_type'] = 'display_data';\n",
              "          await google.colab.output.renderOutput(dataTable, element);\n",
              "          const docLink = document.createElement('div');\n",
              "          docLink.innerHTML = docLinkHtml;\n",
              "          element.appendChild(docLink);\n",
              "        }\n",
              "      </script>\n",
              "    </div>\n",
              "  </div>\n"
            ]
          },
          "metadata": {},
          "execution_count": 18
        }
      ]
    },
    {
      "cell_type": "code",
      "source": [
        "doc_topic_df['토픽번호'].value_counts()"
      ],
      "metadata": {
        "colab": {
          "base_uri": "https://localhost:8080/"
        },
        "id": "QXOO9thSqe4s",
        "outputId": "3c8916d8-9979-4529-efca-56def770bd3c"
      },
      "execution_count": 19,
      "outputs": [
        {
          "output_type": "stream",
          "name": "stderr",
          "text": [
            "/usr/local/lib/python3.10/dist-packages/ipykernel/ipkernel.py:283: DeprecationWarning: `should_run_async` will not call `transform_cell` automatically in the future. Please pass the result to `transformed_cell` argument and any exception that happen during thetransform in `preprocessing_exc_tuple` in IPython 7.17 and above.\n",
            "  and should_run_async(code)\n"
          ]
        },
        {
          "output_type": "execute_result",
          "data": {
            "text/plain": [
              "토픽번호\n",
              "2    254\n",
              "3    240\n",
              "4    206\n",
              "1    157\n",
              "0    143\n",
              "Name: count, dtype: int64"
            ]
          },
          "metadata": {},
          "execution_count": 19
        }
      ]
    },
    {
      "cell_type": "code",
      "source": [
        "for topic in range(len(doc_topic_df['토픽번호'].unique())):\n",
        "    print('Topic No : ', topic)\n",
        "\n",
        "    top_per_topics = doc_topic_df[doc_topic_df['토픽번호']==topic].sort_values(by = '확률', ascending = False)\n",
        "    print(top_per_topics['text'].iloc[0])\n",
        "    print(top_per_topics['text'].iloc[1])\n",
        "    print(top_per_topics['text'].iloc[2])"
      ],
      "metadata": {
        "colab": {
          "base_uri": "https://localhost:8080/"
        },
        "id": "-OchCD6bqnht",
        "outputId": "f014a4a5-f773-4c52-a9e3-9cb70598c3ed"
      },
      "execution_count": 20,
      "outputs": [
        {
          "output_type": "stream",
          "name": "stdout",
          "text": [
            "Topic No :  0\n",
            "제발 업데이트 전으로 돌려주세요,,정말 너무 불편하네요.. 아니 다른건 다 좋으니까 스노우 앨범 삭제 기능만 돌려주세요,,원래는 사진 찍고 스노우 앨범 들어가면 스노우 자체에서 사진 삭제할 수 있었거든요; 근데 갑자기 삭제 안되고 보정밖에 안되게 바뀌었네요;; 사진 옆으로 넘어가지도 않고 맘에 안드는 사진 삭제할려면 폰갤러리까지 가서 그 사진 다시 찾아서 삭제하고 다시 스노우와서 사진찍고 진짜 너무 불편해요. 제발 스노우 앨범에서 바로 삭제할 수 있는 기능 돌려주세요.\n",
            "안녕하세요, 잘쓰고 있긴한데 한 몇주전부터 셀카모드(고화질)로 촬영하면 렉 잠깐 걸렸다가 카메라를 사용할수없다뜨고 저장이 안되네요. (안되는 경우가 더 많고, 정말 가끔 저장됩니다.) 폰껐다 켜봤고, 스노우 어플 삭제했다 깔아봤습니다. 폰기종은 갤s22고요, 후면카메라는 저장됩니다. vip한 이유가 vip필터 및 고화질로 셀카찍으려 한건데 안되니 답답하네요 ㅜ 해결 부탁드립니다..\n",
            "무난하게 잘 사용하고 있었는데 오늘 갑자기 '오려내기' 기능으로 편집한 사진이 저장되지 않고 무한 로딩되며, DSLR 효과를 적용했을 때에도 효과가 적용되지 않고 무한 로딩되는 일이 발생하였습니다. 빠른 해결 부탁드립니다.\n",
            "Topic No :  1\n",
            "진짜좋읍니다장점.1.이펙트드러가면 귀여운이모티콘이있어서사진찍을때예쁘다.2.사진찍을때립스틱이나 볼터치가되있어서그냥사진보다더예쁘다.3.자기가 윈하는 이모티콘으로 새로운이모티콘을만들수있어서좋다(회원가입해야되지만....)4.재밌고 웃긴이모티코이랑 미니게임을 할수있다.5.여자들이 좋아하게 뷰티도만들어져있다.(예:갈색눈동자)6.어린애들이좋아하겠금만들었다.7.나쁜게없어서좋다.8.사진찍고 옆에사진들어가서메이크업,얼굴보정등등을할수있어서좋다.(쉽게말해서메이크업을사진찍고도할수있다는말이다.)9.스노우들어가면 이벤트갔은게있어서 바로찾아볼수있다. 장점 -끝- 이렇게좋은점이많으니강력추천드리고요끝까지긴글읽어주셔서감사합니다 그럼여기서마치도로하겠습니다.\n",
            "아니 이거 진짜 제가 테크닉으로 옷 한 20벌 정도 갈아입었는데 렉걸려서 다 지워 졌어요. 그리고 제가 또 스노우 스티커로 50번 넘게 갈아 붇첬는데 다 렉걸려서 다 지워 졌어요 진짜 짜증나서 책상을 작은 망치로 때렸는데 엄마한테 혼나고 울었어요. 진짜 이거 실망입니다. 옛날엔 이 앱 완전 좋아했었는데, 이젠 별로네요;; 옷을 다시 벗고, 입고 영상찍고를 한 10번 넘게 했는데 다 삭제되어 버렸네요. 진짜 이 앱 완전 짜증나네요 진짜 이런 말은 하기 싫은데 너무 짜증나서 그런데요. 제 생각으론 제가 요즘 쓰는 앱이 스노우보다 훨 낳네요. 진짜 저는 제가 찍은 테크닉 영상 돌아왔으면 좋겠네요 진짜 돌아오게 되면 감사하겠습니다. 저 휴대폰이 이상한거면 빨리 휴대폰 고치러 가야 겠네요.\n",
            "스노우라는앱을 1년반넘게사용한유저인데요.장점은 제가 글리터팩을좋아해서 항상들어가보면 많은글리터팩이나오고요,다른 스티커도나오고,유행,인기가있는것들도 한꺼번에종류별로 나와서 좋습니다. 단점은 들어갈때마다 항상 스노우에대한 광고사진이 나오는데 그게 스킵하는 버튼도작고 좀 빨리사용해야하는상황일때 그게 너무 불편합니다. 감사합니다.\n",
            "Topic No :  2\n",
            "제가 다운받은 스노우에는 '인기'탭이 눈 씻고 찾아봐도 없네요... 제가 최애광고와 관련된 필터를 사용하고 싶어서 앱을 몇 번이나 삭제하고 다시 다운받고 했는데도 인기 탭이 안 생기네요... 어떻게 해야 하죠?? 제가 엘지 휴대전화기를 쓰고 있는데 혹시 핸드폰의 문제일까 생각해서 갤럭시 탭에도 다운받아봤는데 역시나 없네요... 언니도 당연하게 있다고 제 친구들도 당연히 있다고 하고 세상 모든 사람이 '인기' 탭이 있는데 저만 없는 것 같네요... 네×버에 검색을 해봐도 너무나 당연하게 앱 첫 화면 왼쪽 하단부에 있는 '인기' 탭을 터치하라고 하는데 그 탭이 없는 사람은 과연 어떻게 해야 할까요? 네×버 지식ㅅ에도 관련 질문은 아무것도 없고, 또 찾아보면 최신버전이라고 뜨기는 하는데 업데이트가 잘 된건지고 잘 모르겠습니다. 솔직히 처음에는 이렇게까지 진심이 아니었는데 계속 '인기' 탭이 없으니까 점점 오기가 생기네요... 과연 저는 어떻게 하면 최애관련 필터를 사용할 수 있을까요..?\n",
            "보정도 유일하게 잘되고 셀카를 찍으려면 이 앱을 자주 사용합니다. 다른 앱은 부자연스럽게 보정이 되서 조금 불편했는데 이 앱은 자연스럽게 잘 되네요. 셀카 찍는 방법도 좋게 변했고, 앱에서 필터도 만들수 있어서 너무 좋습니다. 또 필터가 아주많아 셀카 찍는 재미가 있습니다. 그리고 필터에 즐겨찾기를 할수 있어서 하나하나 찾아보지 않아도 즐겨찾기에 들어가면 즐겨찾기를 해놨던 필터들이 다 나옵니다. 그리고 필터마다 종류가 다 나뉘어 있어서 즐겨찾기를 해놓지 않아도 쉽게 필터를 찾을수 있습니다. 셀카를 찍는 앱을 찾고 계신다면 이 앱을 정말 추천합니다.\n",
            "안녕하세요 스노우를 쓰는 평범한 학생입니다.스노우에 문제가 될만한게 있어 직접 리뷰를 남깁니다.먼저 제가 스노우의 편집을 사용하는 데요 처음엔 제가 고른 사진을 이쁘게 편집이 되서 좋았습니다.근데 다음날 또 스노우의 편집으로 제가 고른 사진으로 편집을 했는데 전에 쓴 사진들이 나왔습니다.저는 똑바로 오늘 제가 고른 사진을 눌렀는데 전에 썼던 사진들이 나왔습니다.그래서 저는 원하던 사진으로 편집을 못했습니다.그리고 편집을 할때 자기 사진으로 편집을 한걸 미리보게 되죠.근데 동영상이 박자에 안 맞고,너무 느맂느맂합니다.이 부분을 고쳐줬으면 하네요.\n",
            "Topic No :  3\n",
            "아니 기능들 그냥 원래대로 돌려놔요... 잘만 쓰고 있었는데 업데이트가 이상하게 됐네... 제일 이해안되는게 있는데 사진이 대체 왜? 왜 카메라 폴더에 저장되는거에요? 개인적으로 일카 사진들이랑은 구별됐으면 하는 바람이 있는데 제발 다시 수정좀요.. 그리고 두번째로는 사진을 딱 촬영을 하면 바로 그 순간이 찍혀야지 왜 1~2초 뜸들이면서 각을 보는건지? 이건 진짜 정말 왜 있는건지 모르는 기능 중 하나입니다 이 기능의 의도를 생각해보면 뭐 그 뜸들이는 1~2초 사이에서 더 나은 샷을 건지려는 대충 그런 의도인거 같은데 전혀 쓰잘데기 없는 기능이고요 이것땜에 사진찍고 바로 폰 움직이면 흔들린 사진이 저장됩니다 진짜 리뷰보기라도하면 개선 좀 하세요\n",
            "화질이 개선되었으면 좋겠습니다. 그리고 스노우어플로 동영상 촬영할 때 촬영 후 실수로 갤럭시 폰의 뒤로가기 버튼 누르면 촬영된 영상이 다 날라가버립니다. 뒤로가기 버튼 누르면 동영상 자동저장되게 해주세요 제발 ㅜ 날려먹은 영상이 몇 개인지.. 아까워죽겠어요ㅜ 영상찍고 완료 누르고 바로 저장되는것도 아니고 또 한번 체크해야 저장되던데 그냥 완료 누르면 바로 갤러리에 저장되었으면 좋겠습니다!!!!\n",
            "자주 사용하고 있어요! 제일 많이 쓰는 어플이에요. 근데 여행가서 동영상을 찍었는데 영상 두 개가 소리가 바뀌었고, 길게 찍은 영상에 다음에 찍은 짧은 영상소리가 넣어져서 원래는 길게 찍은 영상이 다음꺼 소리부분까지만 나오고 그 뒤에 영상이 안나와요. 짧은 영상에는 긴 영상 소리부분이 들어가서 소리는 계속 나고 영상은 멈춰있어요.. 다른 분도 리뷰 남기셨던데 어떻게 해야 둘이 바꿀 수 있는지 알려주시고 개선해주세요. 답변 부탁드립니다\n",
            "Topic No :  4\n",
            "현재 vip구독중인데요. 폰을 바꾸면서 연동이 되질않아 새 폰으론 사용이 불가하네요. 계정으로 연결된건가 싶어 계정을 로그아웃하고 기존폰이랑 똑같은 계정으로도 해보고, 결제했던 계정이랑 같은 계정으로도 해봐도 여전히 구 폰에서만 vip사용이 가능합니다. (마치 폰안에 vip기능이 깔린것같은 느낌) 고객센터 통해 문의 해본 바로는 같은 갤럭시 기종인 경우 구매복원을 통해 다시 사용가능하다던데 몇번이고 눌러봐도 아무 변화가 없었어요. 1년 장기결제 중이라 아직도 한참 남았는데 한달이상을 이것때문에 실갱이 하느라 사용하지 못하고있습니다. 고화질 동영상 기능이 좋아서 결제한건데 계속 사용불가입니다. 다른 포토앱 다 삭제하고 이것만 사용하고 있는데 부디 해결 좀 해주세요. 해결이 계속 안되서 고객센터 문의도 3번이나 했었는데 대답이 어째 다 AI처럼 같은 답만 오더라구요. 해결 부탁드립니다.\n",
            "무료구독기간 만료전 바로 해지신청하려고 해지방법이 전혀 안내가 되어있지도 않고 그 흔한 고객센터 연락처도 없으며 개발자 연락처는 없는 국번이며 유료기간약정 내용을 클릭해서 고객센터문의를 눌러도 되지를 않습니다. 청약철회 기간안에 신청하오니 반드시 즉시 구독해지 바랍니다. 쓰실분들 잘 생각하시고 유료 무료신청도 하지맙시다. 구독해지는 하지도 못하게 만들어 놓은 시스템 문제가 많습니다. 이글보시고 빠른답변 회신 부탁드립니다.\n",
            "-환불 요청222222- 아래 분들과 마찬가지로 vip무료 사용에 낚여서 사용 후 몇일만에 정기결제 해지를 했는데 이게 웬걸ㅎ? 연구독으로 되있어서 대략3만원 가량이 무료사용기간이 종료된 날 자동 결제가 됐고, 정기결제 해지가 무의미하게도 내년까지 억지로 쓰게 생겼습니다? 끼워팔기 많이 겪어 봤습니다만 이정도 소비자 기만은 처음보네요ㅎ 구글플레이앱이나 스노우앱 상 결제를 취소할 방법은 전-혀 나와있지 않구요^^ 업체에 문의를 하지 않는 이상 방법이 없는거겠죠 껄껄 고객센터 등 업체 연락처도 없는거보면 앱 내 1:1 문의 한것도 다 씹으실 거 같아서 평가란을 빌려 한번더 요청해 보네요☠ 상당히 교묘한 수법에 오늘도 세상을 배웁니다! 이런식으로 사용자 잃지 마시고 당장 환불 해주세요^^\n"
          ]
        },
        {
          "output_type": "stream",
          "name": "stderr",
          "text": [
            "/usr/local/lib/python3.10/dist-packages/ipykernel/ipkernel.py:283: DeprecationWarning: `should_run_async` will not call `transform_cell` automatically in the future. Please pass the result to `transformed_cell` argument and any exception that happen during thetransform in `preprocessing_exc_tuple` in IPython 7.17 and above.\n",
            "  and should_run_async(code)\n"
          ]
        }
      ]
    }
  ]
}