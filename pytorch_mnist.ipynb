{
 "cells": [
  {
   "cell_type": "code",
   "execution_count": 1,
   "id": "af8153fd",
   "metadata": {},
   "outputs": [],
   "source": [
    "import matplotlib.pyplot as plt\n",
    "from torchvision.datasets.mnist import MNIST\n",
    "from torchvision.transforms import ToTensor\n",
    "from torch.utils.data.dataloader import DataLoader\n",
    "import torch\n",
    "import torch.nn as nn\n",
    "from torch.optim.adam import Adam"
   ]
  },
  {
   "cell_type": "code",
   "execution_count": 2,
   "id": "6164c8e3",
   "metadata": {
    "collapsed": true
   },
   "outputs": [
    {
     "name": "stdout",
     "output_type": "stream",
     "text": [
      "Downloading http://yann.lecun.com/exdb/mnist/train-images-idx3-ubyte.gz to ./MNIST\\raw\\train-images-idx3-ubyte.gz\n"
     ]
    },
    {
     "data": {
      "application/vnd.jupyter.widget-view+json": {
       "model_id": "11589244f6354115b517b57d394f23a2",
       "version_major": 2,
       "version_minor": 0
      },
      "text/plain": [
       "0it [00:00, ?it/s]"
      ]
     },
     "metadata": {},
     "output_type": "display_data"
    },
    {
     "name": "stdout",
     "output_type": "stream",
     "text": [
      "Extracting ./MNIST\\raw\\train-images-idx3-ubyte.gz to ./MNIST\\raw\n",
      "Downloading http://yann.lecun.com/exdb/mnist/train-labels-idx1-ubyte.gz to ./MNIST\\raw\\train-labels-idx1-ubyte.gz\n"
     ]
    },
    {
     "data": {
      "application/vnd.jupyter.widget-view+json": {
       "model_id": "0f6cb1e77e1c418db0e066f7ce03a1f4",
       "version_major": 2,
       "version_minor": 0
      },
      "text/plain": [
       "0it [00:00, ?it/s]"
      ]
     },
     "metadata": {},
     "output_type": "display_data"
    },
    {
     "name": "stdout",
     "output_type": "stream",
     "text": [
      "Extracting ./MNIST\\raw\\train-labels-idx1-ubyte.gz to ./MNIST\\raw\n",
      "Downloading http://yann.lecun.com/exdb/mnist/t10k-images-idx3-ubyte.gz to ./MNIST\\raw\\t10k-images-idx3-ubyte.gz\n"
     ]
    },
    {
     "data": {
      "application/vnd.jupyter.widget-view+json": {
       "model_id": "19fa7b5689d74375a494b8d09bc8bb8f",
       "version_major": 2,
       "version_minor": 0
      },
      "text/plain": [
       "0it [00:00, ?it/s]"
      ]
     },
     "metadata": {},
     "output_type": "display_data"
    },
    {
     "name": "stdout",
     "output_type": "stream",
     "text": [
      "Extracting ./MNIST\\raw\\t10k-images-idx3-ubyte.gz to ./MNIST\\raw\n",
      "Downloading http://yann.lecun.com/exdb/mnist/t10k-labels-idx1-ubyte.gz to ./MNIST\\raw\\t10k-labels-idx1-ubyte.gz\n"
     ]
    },
    {
     "data": {
      "application/vnd.jupyter.widget-view+json": {
       "model_id": "497d2be65d384649b9d730e136f6b499",
       "version_major": 2,
       "version_minor": 0
      },
      "text/plain": [
       "0it [00:00, ?it/s]"
      ]
     },
     "metadata": {},
     "output_type": "display_data"
    },
    {
     "name": "stdout",
     "output_type": "stream",
     "text": [
      "Extracting ./MNIST\\raw\\t10k-labels-idx1-ubyte.gz to ./MNIST\\raw\n",
      "Processing...\n",
      "Done!\n"
     ]
    },
    {
     "name": "stderr",
     "output_type": "stream",
     "text": [
      "C:\\Users\\user\\miniconda3\\envs\\meta\\lib\\site-packages\\torchvision\\datasets\\mnist.py:480: UserWarning: The given NumPy array is not writeable, and PyTorch does not support non-writeable tensors. This means you can write to the underlying (supposedly non-writeable) NumPy array using the tensor. You may want to copy the array to protect its data or make it writeable before converting it to a tensor. This type of warning will be suppressed for the rest of this program. (Triggered internally at  ..\\torch\\csrc\\utils\\tensor_numpy.cpp:141.)\n",
      "  return torch.from_numpy(parsed.astype(m[2], copy=False)).view(*s)\n"
     ]
    }
   ],
   "source": [
    "# transform = ToTensor() : tensor로 바뀌어서 들어온다.\n",
    "train_data = MNIST(root='./', train = True, download = True, transform = ToTensor())\n",
    "test_data = MNIST(root = './', train = False, download = True, transform = ToTensor())"
   ]
  },
  {
   "cell_type": "code",
   "execution_count": 5,
   "id": "ae8ccc27",
   "metadata": {},
   "outputs": [
    {
     "data": {
      "text/plain": [
       "torch.Size([60000, 28, 28])"
      ]
     },
     "execution_count": 5,
     "metadata": {},
     "output_type": "execute_result"
    }
   ],
   "source": [
    "train_data.data.size()"
   ]
  },
  {
   "cell_type": "code",
   "execution_count": 8,
   "id": "7b52913c",
   "metadata": {},
   "outputs": [
    {
     "data": {
      "text/plain": [
       "tensor([5, 0, 4,  ..., 5, 6, 8])"
      ]
     },
     "execution_count": 8,
     "metadata": {},
     "output_type": "execute_result"
    }
   ],
   "source": [
    "train_data.targets"
   ]
  },
  {
   "cell_type": "code",
   "execution_count": 12,
   "id": "d542bb6d",
   "metadata": {},
   "outputs": [
    {
     "data": {
      "image/png": "[encoded data removed]",
      "text/plain": [
       "<Figure size 640x480 with 1 Axes>"
      ]
     },
     "metadata": {},
     "output_type": "display_data"
    },
    {
     "name": "stdout",
     "output_type": "stream",
     "text": [
      "tensor(5)\n"
     ]
    }
   ],
   "source": [
    "plt.imshow(train_data.data[0], cmap = 'gray')\n",
    "plt.show()\n",
    "print(train_data.targets[0])"
   ]
  },
  {
   "cell_type": "code",
   "execution_count": 13,
   "id": "79034874",
   "metadata": {},
   "outputs": [],
   "source": [
    "train_loader = DataLoader(train_data, batch_size = 32, shuffle = True)\n",
    "test_loader = DataLoader(test_data, batch_size = 32, shuffle = False)\n"
   ]
  },
  {
   "cell_type": "code",
   "execution_count": 19,
   "id": "9c23b6ba",
   "metadata": {
    "scrolled": true
   },
   "outputs": [
    {
     "data": {
      "text/plain": [
       "[tensor([[[[0., 0., 0.,  ..., 0., 0., 0.],\n",
       "           [0., 0., 0.,  ..., 0., 0., 0.],\n",
       "           [0., 0., 0.,  ..., 0., 0., 0.],\n",
       "           ...,\n",
       "           [0., 0., 0.,  ..., 0., 0., 0.],\n",
       "           [0., 0., 0.,  ..., 0., 0., 0.],\n",
       "           [0., 0., 0.,  ..., 0., 0., 0.]]],\n",
       " \n",
       " \n",
       "         [[[0., 0., 0.,  ..., 0., 0., 0.],\n",
       "           [0., 0., 0.,  ..., 0., 0., 0.],\n",
       "           [0., 0., 0.,  ..., 0., 0., 0.],\n",
       "           ...,\n",
       "           [0., 0., 0.,  ..., 0., 0., 0.],\n",
       "           [0., 0., 0.,  ..., 0., 0., 0.],\n",
       "           [0., 0., 0.,  ..., 0., 0., 0.]]],\n",
       " \n",
       " \n",
       "         [[[0., 0., 0.,  ..., 0., 0., 0.],\n",
       "           [0., 0., 0.,  ..., 0., 0., 0.],\n",
       "           [0., 0., 0.,  ..., 0., 0., 0.],\n",
       "           ...,\n",
       "           [0., 0., 0.,  ..., 0., 0., 0.],\n",
       "           [0., 0., 0.,  ..., 0., 0., 0.],\n",
       "           [0., 0., 0.,  ..., 0., 0., 0.]]],\n",
       " \n",
       " \n",
       "         ...,\n",
       " \n",
       " \n",
       "         [[[0., 0., 0.,  ..., 0., 0., 0.],\n",
       "           [0., 0., 0.,  ..., 0., 0., 0.],\n",
       "           [0., 0., 0.,  ..., 0., 0., 0.],\n",
       "           ...,\n",
       "           [0., 0., 0.,  ..., 0., 0., 0.],\n",
       "           [0., 0., 0.,  ..., 0., 0., 0.],\n",
       "           [0., 0., 0.,  ..., 0., 0., 0.]]],\n",
       " \n",
       " \n",
       "         [[[0., 0., 0.,  ..., 0., 0., 0.],\n",
       "           [0., 0., 0.,  ..., 0., 0., 0.],\n",
       "           [0., 0., 0.,  ..., 0., 0., 0.],\n",
       "           ...,\n",
       "           [0., 0., 0.,  ..., 0., 0., 0.],\n",
       "           [0., 0., 0.,  ..., 0., 0., 0.],\n",
       "           [0., 0., 0.,  ..., 0., 0., 0.]]],\n",
       " \n",
       " \n",
       "         [[[0., 0., 0.,  ..., 0., 0., 0.],\n",
       "           [0., 0., 0.,  ..., 0., 0., 0.],\n",
       "           [0., 0., 0.,  ..., 0., 0., 0.],\n",
       "           ...,\n",
       "           [0., 0., 0.,  ..., 0., 0., 0.],\n",
       "           [0., 0., 0.,  ..., 0., 0., 0.],\n",
       "           [0., 0., 0.,  ..., 0., 0., 0.]]]]),\n",
       " tensor([1, 8, 2, 5, 3, 9, 3, 7, 8, 7, 1, 5, 1, 1, 6, 8, 1, 4, 1, 6, 8, 8, 8, 5,\n",
       "         4, 5, 4, 4, 7, 7, 7, 6])]"
      ]
     },
     "execution_count": 19,
     "metadata": {},
     "output_type": "execute_result"
    }
   ],
   "source": [
    "# 학습 데이터, 정답 데이터가 둘다 들어가 있는 것을 확인\n",
    "next(iter(train_loader))"
   ]
  },
  {
   "cell_type": "markdown",
   "id": "f2263de2",
   "metadata": {},
   "source": [
    "### torch는 gpu설정을 따로 해줘야한다."
   ]
  },
  {
   "cell_type": "code",
   "execution_count": 21,
   "id": "b76c9c30",
   "metadata": {},
   "outputs": [
    {
     "data": {
      "text/plain": [
       "'cuda'"
      ]
     },
     "execution_count": 21,
     "metadata": {},
     "output_type": "execute_result"
    }
   ],
   "source": [
    "# GPU를 쓸수 있는지 없는지 확인 하는 코드\n",
    "device = 'cuda' if torch.cuda.is_available() else 'cpu'\n",
    "device"
   ]
  },
  {
   "cell_type": "markdown",
   "id": "73d66284",
   "metadata": {},
   "source": [
    "### 모델 생성"
   ]
  },
  {
   "cell_type": "code",
   "execution_count": 22,
   "id": "d3438ab0",
   "metadata": {},
   "outputs": [
    {
     "data": {
      "text/plain": [
       "Sequential(\n",
       "  (0): Linear(in_features=784, out_features=64, bias=True)\n",
       "  (1): ReLU()\n",
       "  (2): Linear(in_features=64, out_features=64, bias=True)\n",
       "  (3): ReLU()\n",
       "  (4): Linear(in_features=64, out_features=10, bias=True)\n",
       ")"
      ]
     },
     "execution_count": 22,
     "metadata": {},
     "output_type": "execute_result"
    }
   ],
   "source": [
    "model = nn.Sequential(\n",
    "    nn.Linear(784, 64),\n",
    "    nn.ReLU(),\n",
    "    nn.Linear(64, 64),\n",
    "    nn.ReLU(),\n",
    "    nn.Linear(64, 10)\n",
    ")\n",
    "\n",
    "# GPU로 보내기\n",
    "model.to(device)\n",
    "model"
   ]
  },
  {
   "cell_type": "code",
   "execution_count": 26,
   "id": "d28421c3",
   "metadata": {},
   "outputs": [
    {
     "data": {
      "text/plain": [
       "0"
      ]
     },
     "execution_count": 26,
     "metadata": {},
     "output_type": "execute_result"
    }
   ],
   "source": [
    "next(model.parameters()).get_device()\n",
    "# 0이면 gpu, -1이면 cpu?"
   ]
  },
  {
   "cell_type": "code",
   "execution_count": 31,
   "id": "be546eeb",
   "metadata": {},
   "outputs": [
    {
     "name": "stdout",
     "output_type": "stream",
     "text": [
      "1 loss : 0.23404274880886078\n",
      "2 loss : 0.13673359155654907\n",
      "3 loss : 0.03913560509681702\n",
      "4 loss : 0.012041179463267326\n",
      "5 loss : 0.11948175728321075\n",
      "6 loss : 0.2640201151371002\n",
      "7 loss : 0.005975023843348026\n",
      "8 loss : 0.004072185140103102\n",
      "9 loss : 0.00500153424218297\n",
      "10 loss : 0.022104086354374886\n",
      "11 loss : 0.02499113418161869\n",
      "12 loss : 0.02365652285516262\n",
      "13 loss : 0.039120834320783615\n",
      "14 loss : 0.006203210912644863\n",
      "15 loss : 0.0008517655078321695\n",
      "16 loss : 0.10753979533910751\n",
      "17 loss : 0.045857224613428116\n",
      "18 loss : 0.0027466434985399246\n",
      "19 loss : 0.05103325843811035\n",
      "20 loss : 0.00046809614286758006\n"
     ]
    }
   ],
   "source": [
    "lr = 1e-3\n",
    "optim = Adam(model.parameters(), lr = lr)\n",
    "\n",
    "for epoch in range(20):\n",
    "    for data, label in train_loader:\n",
    "        optim.zero_grad()\n",
    "        #### 데이터가 tensor로 되어있기때문에 torch,reshape\n",
    "        #### data의 shape이 [60000, 28, 28]로 되어 있기때문에 뒤에를 784로 바꿔줘야한다.\n",
    "        data = torch.reshape(data, (-1, 784))\n",
    "        pred = model(data.to(device))\n",
    "        #### label이 현재 cpu에 있기때문에 trian과 같은 환경인 gpu에 올려준다.\n",
    "        loss = nn.CrossEntropyLoss()(pred, label.to(device))\n",
    "        loss.backward()\n",
    "        optim.step()\n",
    "    print(f'{epoch+1} loss : {loss.item()}')"
   ]
  },
  {
   "cell_type": "markdown",
   "id": "ed0090fe",
   "metadata": {},
   "source": [
    "### 검증"
   ]
  },
  {
   "cell_type": "code",
   "execution_count": 35,
   "id": "451d83bd",
   "metadata": {},
   "outputs": [
    {
     "name": "stdout",
     "output_type": "stream",
     "text": [
      "31\n",
      "32\n",
      "32\n",
      "31\n",
      "30\n",
      "32\n",
      "31\n",
      "30\n",
      "30\n",
      "31\n",
      "30\n",
      "32\n",
      "32\n",
      "29\n",
      "32\n",
      "31\n",
      "32\n",
      "32\n",
      "30\n",
      "31\n",
      "31\n",
      "30\n",
      "31\n",
      "31\n",
      "32\n",
      "32\n",
      "31\n",
      "32\n",
      "32\n",
      "30\n",
      "32\n",
      "31\n",
      "30\n",
      "32\n",
      "31\n",
      "31\n",
      "31\n",
      "32\n",
      "28\n",
      "29\n",
      "31\n",
      "30\n",
      "32\n",
      "30\n",
      "30\n",
      "32\n",
      "30\n",
      "31\n",
      "29\n",
      "32\n",
      "31\n",
      "32\n",
      "30\n",
      "29\n",
      "30\n",
      "31\n",
      "32\n",
      "30\n",
      "31\n",
      "30\n",
      "30\n",
      "28\n",
      "30\n",
      "30\n",
      "31\n",
      "30\n",
      "28\n",
      "32\n",
      "31\n",
      "30\n",
      "32\n",
      "29\n",
      "31\n",
      "31\n",
      "29\n",
      "30\n",
      "32\n",
      "31\n",
      "31\n",
      "31\n",
      "30\n",
      "31\n",
      "29\n",
      "32\n",
      "32\n",
      "30\n",
      "31\n",
      "32\n",
      "32\n",
      "31\n",
      "31\n",
      "29\n",
      "30\n",
      "30\n",
      "32\n",
      "32\n",
      "30\n",
      "31\n",
      "32\n",
      "32\n",
      "32\n",
      "31\n",
      "31\n",
      "32\n",
      "32\n",
      "32\n",
      "31\n",
      "32\n",
      "31\n",
      "31\n",
      "30\n",
      "30\n",
      "30\n",
      "31\n",
      "32\n",
      "32\n",
      "31\n",
      "31\n",
      "30\n",
      "29\n",
      "31\n",
      "32\n",
      "31\n",
      "30\n",
      "30\n",
      "32\n",
      "32\n",
      "30\n",
      "32\n",
      "30\n",
      "30\n",
      "30\n",
      "31\n",
      "31\n",
      "31\n",
      "32\n",
      "31\n",
      "31\n",
      "31\n",
      "32\n",
      "31\n",
      "32\n",
      "31\n",
      "32\n",
      "31\n",
      "32\n",
      "32\n",
      "30\n",
      "29\n",
      "30\n",
      "29\n",
      "31\n",
      "31\n",
      "30\n",
      "30\n",
      "32\n",
      "32\n",
      "31\n",
      "31\n",
      "32\n",
      "31\n",
      "32\n",
      "32\n",
      "32\n",
      "32\n",
      "32\n",
      "31\n",
      "32\n",
      "32\n",
      "32\n",
      "31\n",
      "32\n",
      "32\n",
      "32\n",
      "32\n",
      "31\n",
      "31\n",
      "31\n",
      "32\n",
      "30\n",
      "32\n",
      "32\n",
      "30\n",
      "31\n",
      "31\n",
      "30\n",
      "28\n",
      "31\n",
      "31\n",
      "31\n",
      "32\n",
      "32\n",
      "30\n",
      "32\n",
      "32\n",
      "32\n",
      "32\n",
      "32\n",
      "32\n",
      "32\n",
      "31\n",
      "32\n",
      "32\n",
      "30\n",
      "30\n",
      "28\n",
      "31\n",
      "31\n",
      "31\n",
      "32\n",
      "32\n",
      "30\n",
      "32\n",
      "31\n",
      "32\n",
      "32\n",
      "32\n",
      "32\n",
      "32\n",
      "32\n",
      "32\n",
      "32\n",
      "31\n",
      "32\n",
      "32\n",
      "32\n",
      "32\n",
      "32\n",
      "32\n",
      "32\n",
      "32\n",
      "31\n",
      "30\n",
      "31\n",
      "32\n",
      "32\n",
      "32\n",
      "32\n",
      "32\n",
      "32\n",
      "32\n",
      "31\n",
      "32\n",
      "31\n",
      "31\n",
      "30\n",
      "31\n",
      "29\n",
      "32\n",
      "32\n",
      "32\n",
      "31\n",
      "31\n",
      "32\n",
      "32\n",
      "32\n",
      "32\n",
      "31\n",
      "31\n",
      "32\n",
      "31\n",
      "32\n",
      "31\n",
      "32\n",
      "32\n",
      "32\n",
      "29\n",
      "32\n",
      "32\n",
      "32\n",
      "32\n",
      "32\n",
      "32\n",
      "32\n",
      "32\n",
      "32\n",
      "31\n",
      "32\n",
      "32\n",
      "32\n",
      "32\n",
      "31\n",
      "30\n",
      "32\n",
      "32\n",
      "32\n",
      "32\n",
      "32\n",
      "32\n",
      "32\n",
      "32\n",
      "32\n",
      "32\n",
      "32\n",
      "31\n",
      "32\n",
      "32\n",
      "32\n",
      "32\n",
      "31\n",
      "32\n",
      "31\n",
      "28\n",
      "30\n",
      "28\n",
      "28\n",
      "31\n",
      "31\n",
      "32\n",
      "32\n",
      "31\n",
      "32\n",
      "16\n",
      "0.9734\n"
     ]
    }
   ],
   "source": [
    "model.eval() # 필요없는 기능을 off 시킨다. (dropout, batchnormal 노드)\n",
    "## model.eval()의 반대는 model.train() 을 해주면 된다.\n",
    "\n",
    "total_corr = 0\n",
    "# auto_grad 는 torch에서 학습 시킬때 미분을 자동으로 해주는 것인데 검증할때는 no_grad로 미분을 꺼줘야한다.\n",
    "with torch.no_grad():\n",
    "    for data, label in test_loader:\n",
    "        data = torch.reshape(data, (-1, 784)).to(device)\n",
    "        pred = model(data)\n",
    "        \n",
    "        preds = pred.data.max(1)[1]\n",
    "        \n",
    "        corr = preds.eq(label.to(device)).sum().item()\n",
    "        print(corr)\n",
    "        \n",
    "        total_corr += corr\n",
    "        \n",
    "    print(total_corr / len(test_data))\n",
    "        "
   ]
  },
  {
   "cell_type": "code",
   "execution_count": null,
   "id": "c5db5f45",
   "metadata": {},
   "outputs": [],
   "source": [
    "test = torch.tensor([[1,2,3],[1,3,2]])\n",
    "test.size()"
   ]
  },
  {
   "cell_type": "code",
   "execution_count": null,
   "id": "c2535b1e",
   "metadata": {},
   "outputs": [],
   "source": [
    "test.max(1)[1]"
   ]
  },
  {
   "cell_type": "markdown",
   "id": "59ef14f7",
   "metadata": {},
   "source": [
    "### 모델 저장"
   ]
  },
  {
   "cell_type": "code",
   "execution_count": 36,
   "id": "f556cef0",
   "metadata": {},
   "outputs": [],
   "source": [
    "torch.save(model, 'model.pth')"
   ]
  },
  {
   "cell_type": "code",
   "execution_count": 38,
   "id": "7482597e",
   "metadata": {},
   "outputs": [],
   "source": [
    "model_new = torch.load('model.pth')"
   ]
  },
  {
   "cell_type": "code",
   "execution_count": null,
   "id": "f42d267f",
   "metadata": {},
   "outputs": [],
   "source": [
    "model_new"
   ]
  }
 ],
 "metadata": {
  "kernelspec": {
   "display_name": "Python 3 (ipykernel)",
   "language": "python",
   "name": "python3"
  },
  "language_info": {
   "codemirror_mode": {
    "name": "ipython",
    "version": 3
   },
   "file_extension": ".py",
   "mimetype": "text/x-python",
   "name": "python",
   "nbconvert_exporter": "python",
   "pygments_lexer": "ipython3",
   "version": "3.7.16"
  }
 },
 "nbformat": 4,
 "nbformat_minor": 5
}
