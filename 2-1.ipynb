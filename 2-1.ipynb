{
 "cells": [
  {
   "cell_type": "code",
   "execution_count": 6,
   "metadata": {},
   "outputs": [
    {
     "name": "stdout",
     "output_type": "stream",
     "text": [
      "Collecting openpyxl\n",
      "  Downloading openpyxl-3.1.2-py2.py3-none-any.whl (249 kB)\n",
      "     ---------------------------------------- 0.0/250.0 kB ? eta -:--:--\n",
      "     -------------------------- ----------- 174.1/250.0 kB 3.5 MB/s eta 0:00:01\n",
      "     -------------------------------------  245.8/250.0 kB 2.5 MB/s eta 0:00:01\n",
      "     -------------------------------------- 250.0/250.0 kB 2.2 MB/s eta 0:00:00\n",
      "Collecting et-xmlfile\n",
      "  Downloading et_xmlfile-1.1.0-py3-none-any.whl (4.7 kB)\n",
      "Installing collected packages: et-xmlfile, openpyxl\n",
      "Successfully installed et-xmlfile-1.1.0 openpyxl-3.1.2\n"
     ]
    }
   ],
   "source": [
    "# !pip install scikit-learn\n",
    "# !pip show scikit-learn\n",
    "# !pip install openpyxl\n"
   ]
  },
  {
   "cell_type": "code",
   "execution_count": 4,
   "metadata": {},
   "outputs": [
    {
     "data": {
      "text/plain": [
       "'1.2.2'"
      ]
     },
     "execution_count": 4,
     "metadata": {},
     "output_type": "execute_result"
    }
   ],
   "source": [
    "import sklearn\n",
    "sklearn.__v"
   ]
  },
  {
   "cell_type": "code",
   "execution_count": 7,
   "metadata": {},
   "outputs": [],
   "source": [
    "import pandas as pd\n",
    "from sklearn.linear_model import LinearRegression\n",
    "import numpy as np\n",
    "\n",
    "##########데이터 로드\n",
    "\n",
    "train_df = pd.read_excel('https://github.com/cranberryai/todak_todak_python/blob/master/machine_learning/regression/%E1%84%8B%E1%85%A1%E1%84%87%E1%85%A5%E1%84%8C%E1%85%B5%E1%84%8B%E1%85%A1%E1%84%83%E1%85%B3%E1%86%AF%E1%84%8F%E1%85%B5.xlsx?raw=true', sheet_name='train')\n",
    "test_df = pd.read_excel('https://github.com/cranberryai/todak_todak_python/blob/master/machine_learning/regression/%E1%84%8B%E1%85%A1%E1%84%87%E1%85%A5%E1%84%8C%E1%85%B5%E1%84%8B%E1%85%A1%E1%84%83%E1%85%B3%E1%86%AF%E1%84%8F%E1%85%B5.xlsx?raw=true', sheet_name='test')\n"
   ]
  },
  {
   "cell_type": "code",
   "execution_count": 8,
   "metadata": {},
   "outputs": [
    {
     "data": {
      "text/html": [
       "<div>\n",
       "<style scoped>\n",
       "    .dataframe tbody tr th:only-of-type {\n",
       "        vertical-align: middle;\n",
       "    }\n",
       "\n",
       "    .dataframe tbody tr th {\n",
       "        vertical-align: top;\n",
       "    }\n",
       "\n",
       "    .dataframe thead th {\n",
       "        text-align: right;\n",
       "    }\n",
       "</style>\n",
       "<table border=\"1\" class=\"dataframe\">\n",
       "  <thead>\n",
       "    <tr style=\"text-align: right;\">\n",
       "      <th></th>\n",
       "      <th>Father</th>\n",
       "      <th>Son</th>\n",
       "    </tr>\n",
       "  </thead>\n",
       "  <tbody>\n",
       "    <tr>\n",
       "      <th>0</th>\n",
       "      <td>165.100</td>\n",
       "      <td>151.892</td>\n",
       "    </tr>\n",
       "    <tr>\n",
       "      <th>1</th>\n",
       "      <td>165.100</td>\n",
       "      <td>160.782</td>\n",
       "    </tr>\n",
       "    <tr>\n",
       "      <th>2</th>\n",
       "      <td>167.132</td>\n",
       "      <td>159.512</td>\n",
       "    </tr>\n",
       "    <tr>\n",
       "      <th>3</th>\n",
       "      <td>155.194</td>\n",
       "      <td>163.322</td>\n",
       "    </tr>\n",
       "    <tr>\n",
       "      <th>4</th>\n",
       "      <td>160.020</td>\n",
       "      <td>163.068</td>\n",
       "    </tr>\n",
       "    <tr>\n",
       "      <th>...</th>\n",
       "      <td>...</td>\n",
       "      <td>...</td>\n",
       "    </tr>\n",
       "    <tr>\n",
       "      <th>750</th>\n",
       "      <td>186.182</td>\n",
       "      <td>172.466</td>\n",
       "    </tr>\n",
       "    <tr>\n",
       "      <th>751</th>\n",
       "      <td>167.132</td>\n",
       "      <td>154.940</td>\n",
       "    </tr>\n",
       "    <tr>\n",
       "      <th>752</th>\n",
       "      <td>181.102</td>\n",
       "      <td>173.482</td>\n",
       "    </tr>\n",
       "    <tr>\n",
       "      <th>753</th>\n",
       "      <td>179.578</td>\n",
       "      <td>176.022</td>\n",
       "    </tr>\n",
       "    <tr>\n",
       "      <th>754</th>\n",
       "      <td>178.562</td>\n",
       "      <td>170.180</td>\n",
       "    </tr>\n",
       "  </tbody>\n",
       "</table>\n",
       "<p>755 rows × 2 columns</p>\n",
       "</div>"
      ],
      "text/plain": [
       "      Father      Son\n",
       "0    165.100  151.892\n",
       "1    165.100  160.782\n",
       "2    167.132  159.512\n",
       "3    155.194  163.322\n",
       "4    160.020  163.068\n",
       "..       ...      ...\n",
       "750  186.182  172.466\n",
       "751  167.132  154.940\n",
       "752  181.102  173.482\n",
       "753  179.578  176.022\n",
       "754  178.562  170.180\n",
       "\n",
       "[755 rows x 2 columns]"
      ]
     },
     "execution_count": 8,
     "metadata": {},
     "output_type": "execute_result"
    }
   ],
   "source": [
    "train_df"
   ]
  },
  {
   "cell_type": "code",
   "execution_count": 9,
   "metadata": {},
   "outputs": [],
   "source": [
    "##########데이터 전처리\n",
    "\n",
    "x_train = train_df.drop(['Son'], axis=1)\n",
    "x_test = test_df.drop(['Son'], axis=1)\n",
    "y_train = train_df['Son']\n",
    "y_test = test_df['Son']"
   ]
  },
  {
   "cell_type": "code",
   "execution_count": 10,
   "metadata": {},
   "outputs": [],
   "source": [
    "x_train = x_train.to_numpy() # x_train.values\n",
    "x_test = x_test.to_numpy()\n"
   ]
  },
  {
   "cell_type": "code",
   "execution_count": 12,
   "metadata": {},
   "outputs": [
    {
     "data": {
      "text/html": [
       "<style>#sk-container-id-1 {color: black;background-color: white;}#sk-container-id-1 pre{padding: 0;}#sk-container-id-1 div.sk-toggleable {background-color: white;}#sk-container-id-1 label.sk-toggleable__label {cursor: pointer;display: block;width: 100%;margin-bottom: 0;padding: 0.3em;box-sizing: border-box;text-align: center;}#sk-container-id-1 label.sk-toggleable__label-arrow:before {content: \"▸\";float: left;margin-right: 0.25em;color: #696969;}#sk-container-id-1 label.sk-toggleable__label-arrow:hover:before {color: black;}#sk-container-id-1 div.sk-estimator:hover label.sk-toggleable__label-arrow:before {color: black;}#sk-container-id-1 div.sk-toggleable__content {max-height: 0;max-width: 0;overflow: hidden;text-align: left;background-color: #f0f8ff;}#sk-container-id-1 div.sk-toggleable__content pre {margin: 0.2em;color: black;border-radius: 0.25em;background-color: #f0f8ff;}#sk-container-id-1 input.sk-toggleable__control:checked~div.sk-toggleable__content {max-height: 200px;max-width: 100%;overflow: auto;}#sk-container-id-1 input.sk-toggleable__control:checked~label.sk-toggleable__label-arrow:before {content: \"▾\";}#sk-container-id-1 div.sk-estimator input.sk-toggleable__control:checked~label.sk-toggleable__label {background-color: #d4ebff;}#sk-container-id-1 div.sk-label input.sk-toggleable__control:checked~label.sk-toggleable__label {background-color: #d4ebff;}#sk-container-id-1 input.sk-hidden--visually {border: 0;clip: rect(1px 1px 1px 1px);clip: rect(1px, 1px, 1px, 1px);height: 1px;margin: -1px;overflow: hidden;padding: 0;position: absolute;width: 1px;}#sk-container-id-1 div.sk-estimator {font-family: monospace;background-color: #f0f8ff;border: 1px dotted black;border-radius: 0.25em;box-sizing: border-box;margin-bottom: 0.5em;}#sk-container-id-1 div.sk-estimator:hover {background-color: #d4ebff;}#sk-container-id-1 div.sk-parallel-item::after {content: \"\";width: 100%;border-bottom: 1px solid gray;flex-grow: 1;}#sk-container-id-1 div.sk-label:hover label.sk-toggleable__label {background-color: #d4ebff;}#sk-container-id-1 div.sk-serial::before {content: \"\";position: absolute;border-left: 1px solid gray;box-sizing: border-box;top: 0;bottom: 0;left: 50%;z-index: 0;}#sk-container-id-1 div.sk-serial {display: flex;flex-direction: column;align-items: center;background-color: white;padding-right: 0.2em;padding-left: 0.2em;position: relative;}#sk-container-id-1 div.sk-item {position: relative;z-index: 1;}#sk-container-id-1 div.sk-parallel {display: flex;align-items: stretch;justify-content: center;background-color: white;position: relative;}#sk-container-id-1 div.sk-item::before, #sk-container-id-1 div.sk-parallel-item::before {content: \"\";position: absolute;border-left: 1px solid gray;box-sizing: border-box;top: 0;bottom: 0;left: 50%;z-index: -1;}#sk-container-id-1 div.sk-parallel-item {display: flex;flex-direction: column;z-index: 1;position: relative;background-color: white;}#sk-container-id-1 div.sk-parallel-item:first-child::after {align-self: flex-end;width: 50%;}#sk-container-id-1 div.sk-parallel-item:last-child::after {align-self: flex-start;width: 50%;}#sk-container-id-1 div.sk-parallel-item:only-child::after {width: 0;}#sk-container-id-1 div.sk-dashed-wrapped {border: 1px dashed gray;margin: 0 0.4em 0.5em 0.4em;box-sizing: border-box;padding-bottom: 0.4em;background-color: white;}#sk-container-id-1 div.sk-label label {font-family: monospace;font-weight: bold;display: inline-block;line-height: 1.2em;}#sk-container-id-1 div.sk-label-container {text-align: center;}#sk-container-id-1 div.sk-container {/* jupyter's `normalize.less` sets `[hidden] { display: none; }` but bootstrap.min.css set `[hidden] { display: none !important; }` so we also need the `!important` here to be able to override the default hidden behavior on the sphinx rendered scikit-learn.org. See: https://github.com/scikit-learn/scikit-learn/issues/21755 */display: inline-block !important;position: relative;}#sk-container-id-1 div.sk-text-repr-fallback {display: none;}</style><div id=\"sk-container-id-1\" class=\"sk-top-container\"><div class=\"sk-text-repr-fallback\"><pre>LinearRegression()</pre><b>In a Jupyter environment, please rerun this cell to show the HTML representation or trust the notebook. <br />On GitHub, the HTML representation is unable to render, please try loading this page with nbviewer.org.</b></div><div class=\"sk-container\" hidden><div class=\"sk-item\"><div class=\"sk-estimator sk-toggleable\"><input class=\"sk-toggleable__control sk-hidden--visually\" id=\"sk-estimator-id-1\" type=\"checkbox\" checked><label for=\"sk-estimator-id-1\" class=\"sk-toggleable__label sk-toggleable__label-arrow\">LinearRegression</label><div class=\"sk-toggleable__content\"><pre>LinearRegression()</pre></div></div></div></div></div>"
      ],
      "text/plain": [
       "LinearRegression()"
      ]
     },
     "execution_count": 12,
     "metadata": {},
     "output_type": "execute_result"
    }
   ],
   "source": [
    "# 아버지의 키를 입력하면 아들의 키를 예측(아들의 키는 무한대의 숫자중 1개)\n",
    "# 가장 단순한 선형회귀\n",
    "\n",
    "from sklearn.linear_model import LinearRegression   # wx+b 공식을 제공하는 에스티메이터\n",
    "\n",
    "model = LinearRegression()\n",
    "model.fit(x_train, y_train)"
   ]
  },
  {
   "cell_type": "code",
   "execution_count": null,
   "metadata": {},
   "outputs": [],
   "source": [
    "model.coef_, model.intercept_ # w. b\n"
   ]
  },
  {
   "cell_type": "code",
   "execution_count": null,
   "metadata": {},
   "outputs": [],
   "source": [
    "# 트레이닝(훈련) 자료값의 오차가 작아야, 이 w,b를 사용할수 있음\n",
    "# 훈련자료의 오차를 확인함.\n",
    "# y_train 값 - (x_train*model.coef_+model.intercept_)\n",
    "# 2번 : 각각항목을 "
   ]
  },
  {
   "cell_type": "code",
   "execution_count": 14,
   "metadata": {},
   "outputs": [
    {
     "name": "stdout",
     "output_type": "stream",
     "text": [
      "0.25199779058466176\n"
     ]
    }
   ],
   "source": [
    "# 회귀공식에서만 사용되는 R2제곱이라는 공식이 있음. 1에 가까울수록 좋음\n",
    "print(model.score(x_test, y_test))"
   ]
  },
  {
   "cell_type": "code",
   "execution_count": 15,
   "metadata": {},
   "outputs": [
    {
     "data": {
      "text/plain": [
       "array([168.62656977, 171.39068065, 171.12743199, 173.23342123,\n",
       "       176.78727806, 170.46931036, 171.6539293 , 174.68128883,\n",
       "       176.65565374, 167.44195083, 170.2060617 , 169.41631574,\n",
       "       171.39068065, 175.73428345, 171.91717796, 171.91717796,\n",
       "       172.97017257, 175.07616181, 174.5496645 , 173.36504556,\n",
       "       173.62829421, 174.41804017, 175.20778614, 175.73428345,\n",
       "       176.26078076, 176.91890239, 177.97189701, 179.02489163,\n",
       "       181.7890025 , 170.33768603, 172.70692392, 171.78555363,\n",
       "       172.31205094, 172.97017257, 175.47103479, 176.39240508,\n",
       "       175.60265912, 177.97189701, 184.02661606, 172.04880228,\n",
       "       174.94453748, 177.70864836, 177.31377537, 177.97189701,\n",
       "       180.20951057, 184.55311337, 171.6539293 , 176.12915643,\n",
       "       177.05052672, 179.02489163, 181.39412952, 174.02316719,\n",
       "       173.89154287, 175.73428345, 175.86590777, 177.31377537,\n",
       "       179.94626192, 174.68128883, 181.92062683, 177.31377537,\n",
       "       176.78727806, 174.81291316, 166.65220487, 170.73255901,\n",
       "       166.65220487, 169.94281305, 171.6539293 , 172.44367527,\n",
       "       174.68128883, 179.02489163, 167.44195083, 168.10007247,\n",
       "       171.39068065, 175.73428345, 169.94281305, 172.31205094,\n",
       "       172.70692392, 173.89154287, 173.89154287, 174.02316719,\n",
       "       176.65565374, 176.52402941, 178.23514566, 168.49494545,\n",
       "       170.33768603, 170.73255901, 174.28641585, 175.20778614,\n",
       "       176.12915643, 176.52402941, 175.9975321 , 180.60438356,\n",
       "       170.2060617 , 171.91717796, 173.23342123, 174.28641585,\n",
       "       177.4453997 , 177.84027268, 179.15651596, 172.57529959,\n",
       "       173.1017969 , 175.86590777, 178.10352134, 178.76164297,\n",
       "       179.41976461, 179.55138894, 169.41631574, 172.18042661,\n",
       "       174.15479152, 174.41804017, 175.33941047, 176.26078076,\n",
       "       176.91890239, 178.63001865, 174.5496645 , 176.91890239,\n",
       "       177.57702403, 179.15651596, 176.26078076, 177.05052672,\n",
       "       181.13088086, 174.94453748, 179.15651596, 179.02489163,\n",
       "       168.36332112, 165.59921025, 171.12743199, 174.28641585,\n",
       "       164.54621563, 171.12743199, 170.60093468, 172.44367527,\n",
       "       172.97017257, 167.04707785, 168.49494545, 169.28469141,\n",
       "       170.33768603, 171.78555363, 169.94281305, 169.15306708,\n",
       "       170.33768603, 172.31205094, 172.04880228, 173.49666988,\n",
       "       174.02316719, 174.02316719, 176.26078076, 166.25733188,\n",
       "       169.67956439, 172.57529959, 175.60265912, 177.70864836,\n",
       "       179.94626192, 172.97017257, 174.02316719, 173.75991854,\n",
       "       175.07616181, 176.91890239, 177.18215105, 177.70864836,\n",
       "       179.81463759, 171.12743199, 173.1017969 , 173.75991854,\n",
       "       174.68128883, 177.4453997 , 177.70864836, 180.47275923,\n",
       "       170.07443737, 170.73255901, 171.91717796, 174.02316719,\n",
       "       174.68128883, 175.47103479, 174.28641585, 176.65565374,\n",
       "       176.52402941, 176.78727806, 180.60438356, 175.07616181,\n",
       "       176.39240508, 177.57702403, 178.76164297, 180.07788625,\n",
       "       174.81291316, 176.12915643, 176.91890239, 179.02489163,\n",
       "       180.07788625, 182.05225116, 165.46758592, 170.73255901,\n",
       "       167.44195083, 169.02144276, 171.39068065, 169.67956439,\n",
       "       172.57529959, 165.99408323, 169.67956439, 170.33768603,\n",
       "       172.83854825, 173.89154287, 170.2060617 , 172.04880228,\n",
       "       172.04880228, 174.02316719, 174.81291316, 175.33941047,\n",
       "       176.78727806, 169.94281305, 172.44367527, 172.04880228,\n",
       "       173.49666988, 174.15479152, 174.41804017, 174.94453748,\n",
       "       176.12915643, 176.39240508, 176.52402941, 176.91890239,\n",
       "       177.31377537, 178.23514566, 168.62656977, 173.36504556,\n",
       "       174.5496645 , 175.33941047, 175.20778614, 176.52402941,\n",
       "       175.86590777, 177.84027268, 180.07788625, 170.73255901,\n",
       "       171.78555363, 172.31205094, 174.28641585, 175.07616181,\n",
       "       174.94453748, 176.39240508, 178.10352134, 179.02489163,\n",
       "       178.10352134, 180.60438356, 173.62829421, 175.20778614,\n",
       "       175.33941047, 176.12915643, 177.70864836, 178.36676999,\n",
       "       180.60438356, 176.39240508, 177.70864836, 178.76164297,\n",
       "       179.81463759, 178.10352134, 174.5496645 , 177.31377537,\n",
       "       180.99925654, 172.18042661, 179.41976461, 174.94453748,\n",
       "       171.25905632, 177.97189701, 166.78382919, 169.15306708,\n",
       "       169.67956439, 170.99580767, 172.18042661, 173.1017969 ,\n",
       "       178.49839432, 171.52230497, 170.46931036, 174.15479152,\n",
       "       176.65565374, 173.1017969 , 174.15479152, 175.60265912,\n",
       "       177.18215105, 178.10352134, 170.07443737, 170.46931036,\n",
       "       171.91717796, 173.23342123, 173.75991854, 175.20778614,\n",
       "       175.20778614, 175.47103479, 176.39240508, 176.65565374,\n",
       "       178.10352134, 179.15651596, 180.47275923, 168.10007247,\n",
       "       172.04880228, 174.28641585, 176.52402941, 176.12915643,\n",
       "       175.9975321 , 178.10352134, 180.99925654, 171.25905632,\n",
       "       172.04880228, 173.62829421, 173.36504556, 174.41804017,\n",
       "       175.60265912, 176.26078076, 178.10352134, 177.4453997 ,\n",
       "       170.86418334, 174.94453748, 177.4453997 , 177.84027268,\n",
       "       174.81291316, 177.70864836, 178.49839432, 173.75991854,\n",
       "       179.28814028, 171.52230497, 180.3411349 , 168.49494545,\n",
       "       174.41804017, 173.49666988, 179.81463759])"
      ]
     },
     "execution_count": 15,
     "metadata": {},
     "output_type": "execute_result"
    }
   ],
   "source": [
    "# 위의 자료가 잘 되었다면, w,b값이 잘 fit 되어서 스코어 값이 좋다면\n",
    "# 테스트자료에 사용\n",
    "# 위의 스코어값에서 확인하든 다른 방법으로 확인하든 결과값이 좋으면\n",
    "# 기존의 y값과 비교가 가능함으로\n",
    "# y값이 존재하지 않는 자료에 넣음\n",
    "model.predict(x_test)"
   ]
  },
  {
   "attachments": {},
   "cell_type": "markdown",
   "metadata": {},
   "source": [
    "## 로지스틱 회귀 모델"
   ]
  },
  {
   "cell_type": "code",
   "execution_count": 16,
   "metadata": {},
   "outputs": [],
   "source": [
    "import numpy as np\n",
    "from sklearn.model_selection import train_test_split\n",
    "from sklearn.linear_model import LogisticRegression\n",
    "\n",
    "##########데이터 로드\n",
    "\n",
    "x_data = np.array([\n",
    "    [2, 1], #  [x1, x2] \n",
    "    [3, 2],\n",
    "    [3, 4],\n",
    "    [5, 5],\n",
    "    [7, 5],\n",
    "    [2, 5],\n",
    "    [8, 9],\n",
    "    [9, 10],\n",
    "    [6, 12],\n",
    "    [9, 2],\n",
    "    [6, 10],\n",
    "    [2, 4]\n",
    "])\n",
    "y_data = np.array([0, 0, 0, 1, 1, 0, 1, 1, 1, 1, 1, 0])\n",
    "\n",
    "labels = ['fail', 'pass']"
   ]
  },
  {
   "cell_type": "code",
   "execution_count": 22,
   "metadata": {},
   "outputs": [
    {
     "name": "stdout",
     "output_type": "stream",
     "text": [
      "[0.14726495 0.03377002] -0.3717131697471452\n"
     ]
    },
    {
     "data": {
      "text/plain": [
       "array([2, 3, 3, 5, 7, 2, 8, 9, 6, 9, 6, 2])"
      ]
     },
     "execution_count": 22,
     "metadata": {},
     "output_type": "execute_result"
    }
   ],
   "source": [
    "model = LinearRegression()\n",
    "model.fit(x_data, y_data)\n",
    "print(model.coef_,model.intercept_) # x1과 x2중에 x1이 더 높기 때문에 영향력이 많다. (중요한 변수이다.)\n",
    "# [2,1] 이 값의 예측값은?\n",
    "# 2*model.coef_[0]+1*model.coef_[1]+model.intercept_, model.predict(x_data)[0]\n",
    "\n",
    "x_data[:,0]"
   ]
  },
  {
   "cell_type": "code",
   "execution_count": 27,
   "metadata": {},
   "outputs": [
    {
     "data": {
      "text/plain": [
       "array([-0.04341326,  0.13762171,  0.20516175,  0.53346166,  0.82799155,\n",
       "        0.09166682,  1.11033658,  1.29137154,  0.91711675,  1.02121139,\n",
       "        0.84957671,  0.0578968 ])"
      ]
     },
     "execution_count": 27,
     "metadata": {},
     "output_type": "execute_result"
    }
   ],
   "source": [
    "X0결과 = x_data[:,0]*model.coef_[0]\n",
    "X1결과 = x_data[:,1]*model.coef_[1]\n",
    "\n",
    "y예측값 = X0결과+X1결과+model.intercept_\n",
    "y예측값"
   ]
  },
  {
   "cell_type": "code",
   "execution_count": 23,
   "metadata": {},
   "outputs": [
    {
     "data": {
      "text/plain": [
       "array([-0.04341326,  0.13762171,  0.20516175,  0.53346166,  0.82799155,\n",
       "        0.09166682,  1.11033658,  1.29137154,  0.91711675,  1.02121139,\n",
       "        0.84957671,  0.0578968 ])"
      ]
     },
     "execution_count": 23,
     "metadata": {},
     "output_type": "execute_result"
    }
   ],
   "source": [
    "model.predict(x_data)"
   ]
  },
  {
   "cell_type": "code",
   "execution_count": 31,
   "metadata": {},
   "outputs": [
    {
     "name": "stdout",
     "output_type": "stream",
     "text": [
      "데이터 단일값: -> [0 1]\n",
      "데이터단일값 갯수: -> [5 7]\n"
     ]
    },
    {
     "data": {
      "text/plain": [
       "(array([0, 1]), array([5, 7], dtype=int64), 12)"
      ]
     },
     "execution_count": 31,
     "metadata": {},
     "output_type": "execute_result"
    }
   ],
   "source": [
    "uniqueData = np.unique(y_data, return_counts=True)\n",
    "print('데이터 단일값: ->', uniqueData[0])\n",
    "\n",
    "print('데이터단일값 갯수: ->', uniqueData[1])\n",
    "\n",
    "# for x in range(len(uniqueData[0])):\n",
    "#     uniqueData = np.uniq\n",
    "# print('uniqueData[0])\n",
    "\n",
    "uniqueData[0], uniqueData[1], np.sum(uniqueData[1])"
   ]
  },
  {
   "attachments": {},
   "cell_type": "markdown",
   "metadata": {},
   "source": [
    "## 훈련, 테스트 데이터 나누기 :\n",
    "- 중요 (데이터 편향없이 잘 나누어줌, 훈련자료에는 모든 클래스가 다 있어야함)\n",
    "###  train_test_split()"
   ]
  },
  {
   "cell_type": "code",
   "execution_count": 77,
   "metadata": {},
   "outputs": [
    {
     "data": {
      "text/plain": [
       "((array([0, 1]), array([3, 5], dtype=int64)),\n",
       " (array([0, 1]), array([2, 2], dtype=int64)))"
      ]
     },
     "execution_count": 77,
     "metadata": {},
     "output_type": "execute_result"
    }
   ],
   "source": [
    "x_train, x_test, y_train, y_test = train_test_split(x_data, y_data, test_size=0.3, random_state=777, stratify=y_data)\n",
    "\n",
    "np.unique(y_train, return_counts=True), np.unique(y_test, return_counts=True)"
   ]
  },
  {
   "cell_type": "code",
   "execution_count": 79,
   "metadata": {},
   "outputs": [
    {
     "name": "stderr",
     "output_type": "stream",
     "text": [
      "c:\\Users\\user\\miniconda3\\envs\\py\\Lib\\site-packages\\sklearn\\linear_model\\_logistic.py:1173: FutureWarning: `penalty='none'`has been deprecated in 1.2 and will be removed in 1.4. To keep the past behaviour, set `penalty=None`.\n",
      "  warnings.warn(\n"
     ]
    },
    {
     "data": {
      "text/html": [
       "<style>#sk-container-id-2 {color: black;background-color: white;}#sk-container-id-2 pre{padding: 0;}#sk-container-id-2 div.sk-toggleable {background-color: white;}#sk-container-id-2 label.sk-toggleable__label {cursor: pointer;display: block;width: 100%;margin-bottom: 0;padding: 0.3em;box-sizing: border-box;text-align: center;}#sk-container-id-2 label.sk-toggleable__label-arrow:before {content: \"▸\";float: left;margin-right: 0.25em;color: #696969;}#sk-container-id-2 label.sk-toggleable__label-arrow:hover:before {color: black;}#sk-container-id-2 div.sk-estimator:hover label.sk-toggleable__label-arrow:before {color: black;}#sk-container-id-2 div.sk-toggleable__content {max-height: 0;max-width: 0;overflow: hidden;text-align: left;background-color: #f0f8ff;}#sk-container-id-2 div.sk-toggleable__content pre {margin: 0.2em;color: black;border-radius: 0.25em;background-color: #f0f8ff;}#sk-container-id-2 input.sk-toggleable__control:checked~div.sk-toggleable__content {max-height: 200px;max-width: 100%;overflow: auto;}#sk-container-id-2 input.sk-toggleable__control:checked~label.sk-toggleable__label-arrow:before {content: \"▾\";}#sk-container-id-2 div.sk-estimator input.sk-toggleable__control:checked~label.sk-toggleable__label {background-color: #d4ebff;}#sk-container-id-2 div.sk-label input.sk-toggleable__control:checked~label.sk-toggleable__label {background-color: #d4ebff;}#sk-container-id-2 input.sk-hidden--visually {border: 0;clip: rect(1px 1px 1px 1px);clip: rect(1px, 1px, 1px, 1px);height: 1px;margin: -1px;overflow: hidden;padding: 0;position: absolute;width: 1px;}#sk-container-id-2 div.sk-estimator {font-family: monospace;background-color: #f0f8ff;border: 1px dotted black;border-radius: 0.25em;box-sizing: border-box;margin-bottom: 0.5em;}#sk-container-id-2 div.sk-estimator:hover {background-color: #d4ebff;}#sk-container-id-2 div.sk-parallel-item::after {content: \"\";width: 100%;border-bottom: 1px solid gray;flex-grow: 1;}#sk-container-id-2 div.sk-label:hover label.sk-toggleable__label {background-color: #d4ebff;}#sk-container-id-2 div.sk-serial::before {content: \"\";position: absolute;border-left: 1px solid gray;box-sizing: border-box;top: 0;bottom: 0;left: 50%;z-index: 0;}#sk-container-id-2 div.sk-serial {display: flex;flex-direction: column;align-items: center;background-color: white;padding-right: 0.2em;padding-left: 0.2em;position: relative;}#sk-container-id-2 div.sk-item {position: relative;z-index: 1;}#sk-container-id-2 div.sk-parallel {display: flex;align-items: stretch;justify-content: center;background-color: white;position: relative;}#sk-container-id-2 div.sk-item::before, #sk-container-id-2 div.sk-parallel-item::before {content: \"\";position: absolute;border-left: 1px solid gray;box-sizing: border-box;top: 0;bottom: 0;left: 50%;z-index: -1;}#sk-container-id-2 div.sk-parallel-item {display: flex;flex-direction: column;z-index: 1;position: relative;background-color: white;}#sk-container-id-2 div.sk-parallel-item:first-child::after {align-self: flex-end;width: 50%;}#sk-container-id-2 div.sk-parallel-item:last-child::after {align-self: flex-start;width: 50%;}#sk-container-id-2 div.sk-parallel-item:only-child::after {width: 0;}#sk-container-id-2 div.sk-dashed-wrapped {border: 1px dashed gray;margin: 0 0.4em 0.5em 0.4em;box-sizing: border-box;padding-bottom: 0.4em;background-color: white;}#sk-container-id-2 div.sk-label label {font-family: monospace;font-weight: bold;display: inline-block;line-height: 1.2em;}#sk-container-id-2 div.sk-label-container {text-align: center;}#sk-container-id-2 div.sk-container {/* jupyter's `normalize.less` sets `[hidden] { display: none; }` but bootstrap.min.css set `[hidden] { display: none !important; }` so we also need the `!important` here to be able to override the default hidden behavior on the sphinx rendered scikit-learn.org. See: https://github.com/scikit-learn/scikit-learn/issues/21755 */display: inline-block !important;position: relative;}#sk-container-id-2 div.sk-text-repr-fallback {display: none;}</style><div id=\"sk-container-id-2\" class=\"sk-top-container\"><div class=\"sk-text-repr-fallback\"><pre>LogisticRegression(penalty=&#x27;none&#x27;)</pre><b>In a Jupyter environment, please rerun this cell to show the HTML representation or trust the notebook. <br />On GitHub, the HTML representation is unable to render, please try loading this page with nbviewer.org.</b></div><div class=\"sk-container\" hidden><div class=\"sk-item\"><div class=\"sk-estimator sk-toggleable\"><input class=\"sk-toggleable__control sk-hidden--visually\" id=\"sk-estimator-id-2\" type=\"checkbox\" checked><label for=\"sk-estimator-id-2\" class=\"sk-toggleable__label sk-toggleable__label-arrow\">LogisticRegression</label><div class=\"sk-toggleable__content\"><pre>LogisticRegression(penalty=&#x27;none&#x27;)</pre></div></div></div></div></div>"
      ],
      "text/plain": [
       "LogisticRegression(penalty='none')"
      ]
     },
     "execution_count": 79,
     "metadata": {},
     "output_type": "execute_result"
    }
   ],
   "source": [
    "##########모델 생성\n",
    "\n",
    "model = LogisticRegression(penalty='none')\n",
    "\n",
    "##########모델 학습\n",
    "\n",
    "model.fit(x_train, y_train)"
   ]
  },
  {
   "attachments": {},
   "cell_type": "markdown",
   "metadata": {},
   "source": [
    "## 현대 자동차 가격 예측"
   ]
  },
  {
   "cell_type": "code",
   "execution_count": 86,
   "metadata": {},
   "outputs": [],
   "source": [
    "import pandas as pd\n",
    "from sklearn.preprocessing import OneHotEncoder\n",
    "from sklearn.compose import make_column_transformer\n",
    "from sklearn.linear_model import Lasso\n",
    "import numpy as np\n",
    "\n",
    "##########데이터 로드\n",
    "\n",
    "train_df = pd.read_excel('https://github.com/cranberryai/todak_todak_python/blob/master/machine_learning/regression/carprice_E1SUl6b.xlsx?raw=true', sheet_name='train')\n",
    "test_df = pd.read_excel('https://github.com/cranberryai/todak_todak_python/blob/master/machine_learning/regression/carprice_E1SUl6b.xlsx?raw=true', sheet_name='test')\n",
    "\n",
    "##########데이터 분석\n",
    "\n",
    "##########데이터 전처리\n",
    "\n",
    "x_train = train_df.drop(['가격'], axis=1)\n",
    "x_test = test_df.drop(['가격'], axis=1)\n",
    "y_train = train_df['가격']\n",
    "y_test = test_df['가격']\n"
   ]
  },
  {
   "cell_type": "code",
   "execution_count": 87,
   "metadata": {},
   "outputs": [
    {
     "data": {
      "text/plain": [
       "array(['대형', '소형', '준중형', '중형'], dtype=object)"
      ]
     },
     "execution_count": 87,
     "metadata": {},
     "output_type": "execute_result"
    }
   ],
   "source": [
    "np.unique(x_train['종류'])"
   ]
  },
  {
   "cell_type": "code",
   "execution_count": 89,
   "metadata": {},
   "outputs": [],
   "source": [
    "transformer = make_column_transformer(\n",
    "    (OneHotEncoder(), ['종류', '연료', '변속기']),\n",
    "    remainder='passthrough')\n",
    "transformer.fit(x_train)    # fit은 train 에만 한다. test에 하면 안된다!!\n",
    "x_train = transformer.transform(x_train)\n",
    "x_test = transformer.transform(x_test)"
   ]
  },
  {
   "attachments": {},
   "cell_type": "markdown",
   "metadata": {},
   "source": [
    "## 레벨 인코딩\n",
    "\n",
    "- 레벨인코딩 (교재 117)\n",
    "\n",
    "- 문자로된 y값을 숫자로 변형해야할 때 (필수!!)\n",
    "    - fit은 값을 유니크하게 바뀌면서, 0,1,2,3.. 값을 할당\n",
    "    - transform은 fit된 값을 y값에 적용\n",
    "\n",
    "- 트레이닝하고 테스트 나누기전에 처음부터 숫자로 변경한뒤, 트레인과 테스트 자료를 나누는걸 권장.\n",
    "\n",
    "- 만약 나뉘어져 있는 자료라면 트레이닝에만  fit, transform을 다하시고, \n",
    "    - 테스트는 transform 만 진행\n"
   ]
  },
  {
   "cell_type": "code",
   "execution_count": 99,
   "metadata": {},
   "outputs": [
    {
     "name": "stdout",
     "output_type": "stream",
     "text": [
      "[' 냉장고' ' 믹서' ' 선풍기' ' 전자레인지' ' 컴퓨터' 'tv']\n"
     ]
    },
    {
     "data": {
      "text/plain": [
       "array([5, 0, 3, 4, 2, 1, 1])"
      ]
     },
     "execution_count": 99,
     "metadata": {},
     "output_type": "execute_result"
    }
   ],
   "source": [
    "# Label encoding\n",
    "items = ('tv, 냉장고, 전자레인지, 컴퓨터, 선풍기, 믹서, 믹서').split(',')\n",
    "from sklearn.preprocessing import LabelEncoder\n",
    "\n",
    "encoder = LabelEncoder()\n",
    "### items를 중복제거하고 0,1,2,3,4,5의 순서번호를 갖게함.\n",
    "encoder.fit(items)  # -> fit을 하게 되면 중복제거 클래스가 생성이 되어 중복 제거가 된다.\n",
    "\n",
    "print(encoder.classes_) # encoding class 확인하기\n",
    "\n",
    "encoder.transform(items) ## fit해서 나온 결과물을items에 적용"
   ]
  },
  {
   "cell_type": "code",
   "execution_count": 101,
   "metadata": {},
   "outputs": [
    {
     "data": {
      "text/plain": [
       "array([5, 0, 3, 4, 2, 1, 1], dtype=int64)"
      ]
     },
     "execution_count": 101,
     "metadata": {},
     "output_type": "execute_result"
    }
   ],
   "source": [
    "from sklearn.preprocessing import LabelEncoder\n",
    "encoder = LabelEncoder()\n",
    "encoder.fit_transform(items)    # 이 작업은 fit + transform을 동시에 진행, 절대 테스트자료는 안됨\n"
   ]
  },
  {
   "attachments": {
    "image.png": {
     "image/png": "[encoded data removed]"
    }
   },
   "cell_type": "markdown",
   "metadata": {},
   "source": [
    "### 문자 -> 숫자로 변환  : 원 핫 인코딩 (교재 118p)\n",
    "- x 값은 0,1의 외에 3개 이상의 카테고리 변수는 원핫인코딩 ( 판다스의 더미변수 기능이랑 같다.)\n",
    "- ex> \n",
    "![image.png](attachment:image.png)\n",
    "\n",
    "- 인공지능에서는 y값도 이항또는 다항분륜를 소프트 맥스 함수 적용할때는 반드시 원핫인코딩을 해야함.\n"
   ]
  },
  {
   "attachments": {},
   "cell_type": "markdown",
   "metadata": {},
   "source": [
    "- 희소행렬(sparse matrix)은 행렬에서 0값의 갯수가 많은 행렬임.\n",
    "- 특히 텍스트분석할때는 이 희소행렬을 0값이 있는 자료를 제외하고 값이 있는 값만으로 다시 자료를 구성함."
   ]
  },
  {
   "cell_type": "code",
   "execution_count": 105,
   "metadata": {},
   "outputs": [
    {
     "data": {
      "text/plain": [
       "[array([' 냉장고', ' 믹서', ' 선풍기', ' 전자레인지', ' 컴퓨터', 'tv'], dtype='<U6')]"
      ]
     },
     "execution_count": 105,
     "metadata": {},
     "output_type": "execute_result"
    }
   ],
   "source": [
    "## OneHotEncoder  모듈은 결과값이 array로 되어있다.\n",
    "import numpy as np\n",
    "from sklearn.preprocessing import OneHotEncoder\n",
    "items = ('tv, 냉장고, 전자레인지, 컴퓨터, 선풍기, 믹서, 믹서').split(',')\n",
    "items = np.array(items).reshape(-1,1)\n",
    "oh_encoder = OneHotEncoder()\n",
    "oh_encoder.fit(items)\n",
    "oh_encoder.categories_"
   ]
  },
  {
   "cell_type": "code",
   "execution_count": 108,
   "metadata": {},
   "outputs": [],
   "source": [
    "oh_labels = oh_encoder.transform(items) # sparse matrix: 0값이 많은 행렬(희소행렬)"
   ]
  },
  {
   "attachments": {},
   "cell_type": "markdown",
   "metadata": {},
   "source": [
    "- 희소행렬(sparse matrix)은 행렬에서 0값의 갯수가 많은 행렬임.\n",
    "- 특히 텍스트분석할때는 이 희소행렬을 0값이 있는 자료를 제외하고 값이 있는 값만으로 다시 자료를 구성함.\n"
   ]
  },
  {
   "cell_type": "code",
   "execution_count": 110,
   "metadata": {},
   "outputs": [
    {
     "data": {
      "text/plain": [
       "array([[0., 0., 0., 0., 0., 1.],\n",
       "       [1., 0., 0., 0., 0., 0.],\n",
       "       [0., 0., 0., 1., 0., 0.],\n",
       "       [0., 0., 0., 0., 1., 0.],\n",
       "       [0., 0., 1., 0., 0., 0.],\n",
       "       [0., 1., 0., 0., 0., 0.],\n",
       "       [0., 1., 0., 0., 0., 0.]])"
      ]
     },
     "execution_count": 110,
     "metadata": {},
     "output_type": "execute_result"
    }
   ],
   "source": [
    "\n",
    "arrayData=oh_labels.toarray()\n",
    "arrayData"
   ]
  },
  {
   "cell_type": "code",
   "execution_count": 113,
   "metadata": {},
   "outputs": [
    {
     "name": "stdout",
     "output_type": "stream",
     "text": [
      "tv\n",
      "냉장고\n",
      "전자레인지\n",
      "컴퓨터\n",
      "선풍기\n",
      "믹서\n",
      "믹서\n"
     ]
    }
   ],
   "source": [
    "# 참고 arrayData를 다시 tv, 냉장고, 등의 글자로 바꾸고자함.\n",
    "classData = ['냉장고', '믹서', '선풍기', '전자레인지', '컴퓨터', 'tv']\n",
    "maxindex = np.argmax(arrayData, axis=1)    #  행단위로 가장 큰 값 찾기\n",
    "\n",
    "for x in maxindex:\n",
    "    print(classData[x])"
   ]
  },
  {
   "attachments": {},
   "cell_type": "markdown",
   "metadata": {},
   "source": [
    "## 더미 변수 [문자 -> 숫자 변환] (교재 119)\n",
    "- 카테고리에 해당하는 문자변수를 낱개의 필드(x값)로 쪼갬\n",
    "- 문제점 : 카테고리로 나눈 유니크한 갯수가 너무 많으면 x 변수로 다 처리가 안됨\n",
    "    - 해결방법 : 라쏘 모듈을 사용 (L1 정규화)\n",
    "    "
   ]
  },
  {
   "cell_type": "code",
   "execution_count": 114,
   "metadata": {},
   "outputs": [
    {
     "data": {
      "text/html": [
       "<div>\n",
       "<style scoped>\n",
       "    .dataframe tbody tr th:only-of-type {\n",
       "        vertical-align: middle;\n",
       "    }\n",
       "\n",
       "    .dataframe tbody tr th {\n",
       "        vertical-align: top;\n",
       "    }\n",
       "\n",
       "    .dataframe thead th {\n",
       "        text-align: right;\n",
       "    }\n",
       "</style>\n",
       "<table border=\"1\" class=\"dataframe\">\n",
       "  <thead>\n",
       "    <tr style=\"text-align: right;\">\n",
       "      <th></th>\n",
       "      <th>item_ 냉장고 믹서 선풍기 전자레인지 컴퓨터tv</th>\n",
       "    </tr>\n",
       "  </thead>\n",
       "  <tbody>\n",
       "    <tr>\n",
       "      <th>0</th>\n",
       "      <td>True</td>\n",
       "    </tr>\n",
       "  </tbody>\n",
       "</table>\n",
       "</div>"
      ],
      "text/plain": [
       "   item_ 냉장고 믹서 선풍기 전자레인지 컴퓨터tv\n",
       "0                          True"
      ]
     },
     "execution_count": 114,
     "metadata": {},
     "output_type": "execute_result"
    }
   ],
   "source": [
    "import pandas as pd\n",
    "df = pd.DataFrame({'item':[' 냉장고' ' 믹서' ' 선풍기' ' 전자레인지' ' 컴퓨터' 'tv']})\n",
    "pd.get_dummies(df)"
   ]
  },
  {
   "attachments": {},
   "cell_type": "markdown",
   "metadata": {},
   "source": [
    "### 스케일링\n",
    "- 표준화 : StandardScaler\n",
    "- 정규화 : 값의 범위를 0~1사이로 변경 (minmaxScaler)"
   ]
  },
  {
   "cell_type": "code",
   "execution_count": 115,
   "metadata": {},
   "outputs": [],
   "source": [
    "import pandas as pd\n",
    "from sklearn.preprocessing import OneHotEncoder\n",
    "from sklearn.compose import make_column_transformer\n",
    "from sklearn.linear_model import Lasso\n",
    "from sklearn.model_selection import cross_validate\n",
    "import numpy as np\n",
    "\n",
    "##########데이터 로드\n",
    "\n",
    "train_df = pd.read_excel('https://github.com/cranberryai/todak_todak_python/blob/master/machine_learning/regression/carprice_E1SUl6b.xlsx?raw=true', sheet_name='train')\n",
    "test_df = pd.read_excel('https://github.com/cranberryai/todak_todak_python/blob/master/machine_learning/regression/carprice_E1SUl6b.xlsx?raw=true', sheet_name='test')"
   ]
  },
  {
   "cell_type": "code",
   "execution_count": 120,
   "metadata": {},
   "outputs": [
    {
     "name": "stdout",
     "output_type": "stream",
     "text": [
      "<class 'pandas.core.frame.DataFrame'>\n",
      "Index: 102 entries, 0 to 30\n",
      "Data columns (total 11 columns):\n",
      " #   Column  Non-Null Count  Dtype  \n",
      "---  ------  --------------  -----  \n",
      " 0   가격      102 non-null    int64  \n",
      " 1   년식      102 non-null    int64  \n",
      " 2   종류      102 non-null    object \n",
      " 3   연비      102 non-null    float64\n",
      " 4   마력      102 non-null    int64  \n",
      " 5   토크      102 non-null    float64\n",
      " 6   연료      102 non-null    object \n",
      " 7   하이브리드   102 non-null    int64  \n",
      " 8   배기량     102 non-null    int64  \n",
      " 9   중량      102 non-null    int64  \n",
      " 10  변속기     102 non-null    object \n",
      "dtypes: float64(2), int64(6), object(3)\n",
      "memory usage: 9.6+ KB\n"
     ]
    }
   ],
   "source": [
    "df = pd.concat([train_df,test_df])\n",
    "df.info()"
   ]
  },
  {
   "attachments": {},
   "cell_type": "markdown",
   "metadata": {},
   "source": [
    "##  머신러닝에는 결측치가 있으면 안된다.\n"
   ]
  },
  {
   "cell_type": "code",
   "execution_count": 125,
   "metadata": {},
   "outputs": [
    {
     "name": "stderr",
     "output_type": "stream",
     "text": [
      "c:\\Users\\user\\miniconda3\\envs\\py\\Lib\\site-packages\\seaborn\\utils.py:80: UserWarning: Glyph 44032 (\\N{HANGUL SYLLABLE GA}) missing from current font.\n",
      "  fig.canvas.draw()\n",
      "c:\\Users\\user\\miniconda3\\envs\\py\\Lib\\site-packages\\seaborn\\utils.py:80: UserWarning: Glyph 44201 (\\N{HANGUL SYLLABLE GYEOG}) missing from current font.\n",
      "  fig.canvas.draw()\n",
      "c:\\Users\\user\\miniconda3\\envs\\py\\Lib\\site-packages\\seaborn\\utils.py:80: UserWarning: Glyph 45380 (\\N{HANGUL SYLLABLE NYEON}) missing from current font.\n",
      "  fig.canvas.draw()\n",
      "c:\\Users\\user\\miniconda3\\envs\\py\\Lib\\site-packages\\seaborn\\utils.py:80: UserWarning: Glyph 49885 (\\N{HANGUL SYLLABLE SIG}) missing from current font.\n",
      "  fig.canvas.draw()\n",
      "c:\\Users\\user\\miniconda3\\envs\\py\\Lib\\site-packages\\seaborn\\utils.py:80: UserWarning: Glyph 51333 (\\N{HANGUL SYLLABLE JONG}) missing from current font.\n",
      "  fig.canvas.draw()\n",
      "c:\\Users\\user\\miniconda3\\envs\\py\\Lib\\site-packages\\seaborn\\utils.py:80: UserWarning: Glyph 47448 (\\N{HANGUL SYLLABLE RYU}) missing from current font.\n",
      "  fig.canvas.draw()\n",
      "c:\\Users\\user\\miniconda3\\envs\\py\\Lib\\site-packages\\seaborn\\utils.py:80: UserWarning: Glyph 50672 (\\N{HANGUL SYLLABLE YEON}) missing from current font.\n",
      "  fig.canvas.draw()\n",
      "c:\\Users\\user\\miniconda3\\envs\\py\\Lib\\site-packages\\seaborn\\utils.py:80: UserWarning: Glyph 48708 (\\N{HANGUL SYLLABLE BI}) missing from current font.\n",
      "  fig.canvas.draw()\n",
      "c:\\Users\\user\\miniconda3\\envs\\py\\Lib\\site-packages\\seaborn\\utils.py:80: UserWarning: Glyph 47560 (\\N{HANGUL SYLLABLE MA}) missing from current font.\n",
      "  fig.canvas.draw()\n",
      "c:\\Users\\user\\miniconda3\\envs\\py\\Lib\\site-packages\\seaborn\\utils.py:80: UserWarning: Glyph 47141 (\\N{HANGUL SYLLABLE RYEOG}) missing from current font.\n",
      "  fig.canvas.draw()\n",
      "c:\\Users\\user\\miniconda3\\envs\\py\\Lib\\site-packages\\seaborn\\utils.py:80: UserWarning: Glyph 53664 (\\N{HANGUL SYLLABLE TO}) missing from current font.\n",
      "  fig.canvas.draw()\n",
      "c:\\Users\\user\\miniconda3\\envs\\py\\Lib\\site-packages\\seaborn\\utils.py:80: UserWarning: Glyph 53356 (\\N{HANGUL SYLLABLE KEU}) missing from current font.\n",
      "  fig.canvas.draw()\n",
      "c:\\Users\\user\\miniconda3\\envs\\py\\Lib\\site-packages\\seaborn\\utils.py:80: UserWarning: Glyph 47308 (\\N{HANGUL SYLLABLE RYO}) missing from current font.\n",
      "  fig.canvas.draw()\n",
      "c:\\Users\\user\\miniconda3\\envs\\py\\Lib\\site-packages\\seaborn\\utils.py:80: UserWarning: Glyph 54616 (\\N{HANGUL SYLLABLE HA}) missing from current font.\n",
      "  fig.canvas.draw()\n",
      "c:\\Users\\user\\miniconda3\\envs\\py\\Lib\\site-packages\\seaborn\\utils.py:80: UserWarning: Glyph 51060 (\\N{HANGUL SYLLABLE I}) missing from current font.\n",
      "  fig.canvas.draw()\n",
      "c:\\Users\\user\\miniconda3\\envs\\py\\Lib\\site-packages\\seaborn\\utils.py:80: UserWarning: Glyph 48652 (\\N{HANGUL SYLLABLE BEU}) missing from current font.\n",
      "  fig.canvas.draw()\n",
      "c:\\Users\\user\\miniconda3\\envs\\py\\Lib\\site-packages\\seaborn\\utils.py:80: UserWarning: Glyph 47532 (\\N{HANGUL SYLLABLE RI}) missing from current font.\n",
      "  fig.canvas.draw()\n",
      "c:\\Users\\user\\miniconda3\\envs\\py\\Lib\\site-packages\\seaborn\\utils.py:80: UserWarning: Glyph 46300 (\\N{HANGUL SYLLABLE DEU}) missing from current font.\n",
      "  fig.canvas.draw()\n",
      "c:\\Users\\user\\miniconda3\\envs\\py\\Lib\\site-packages\\seaborn\\utils.py:80: UserWarning: Glyph 48176 (\\N{HANGUL SYLLABLE BAE}) missing from current font.\n",
      "  fig.canvas.draw()\n",
      "c:\\Users\\user\\miniconda3\\envs\\py\\Lib\\site-packages\\seaborn\\utils.py:80: UserWarning: Glyph 44592 (\\N{HANGUL SYLLABLE GI}) missing from current font.\n",
      "  fig.canvas.draw()\n",
      "c:\\Users\\user\\miniconda3\\envs\\py\\Lib\\site-packages\\seaborn\\utils.py:80: UserWarning: Glyph 47049 (\\N{HANGUL SYLLABLE RYANG}) missing from current font.\n",
      "  fig.canvas.draw()\n",
      "c:\\Users\\user\\miniconda3\\envs\\py\\Lib\\site-packages\\seaborn\\utils.py:80: UserWarning: Glyph 51473 (\\N{HANGUL SYLLABLE JUNG}) missing from current font.\n",
      "  fig.canvas.draw()\n",
      "c:\\Users\\user\\miniconda3\\envs\\py\\Lib\\site-packages\\seaborn\\utils.py:80: UserWarning: Glyph 48320 (\\N{HANGUL SYLLABLE BYEON}) missing from current font.\n",
      "  fig.canvas.draw()\n",
      "c:\\Users\\user\\miniconda3\\envs\\py\\Lib\\site-packages\\seaborn\\utils.py:80: UserWarning: Glyph 49549 (\\N{HANGUL SYLLABLE SOG}) missing from current font.\n",
      "  fig.canvas.draw()\n"
     ]
    },
    {
     "data": {
      "text/plain": [
       "<Axes: >"
      ]
     },
     "execution_count": 125,
     "metadata": {},
     "output_type": "execute_result"
    },
    {
     "name": "stderr",
     "output_type": "stream",
     "text": [
      "c:\\Users\\user\\miniconda3\\envs\\py\\Lib\\site-packages\\IPython\\core\\events.py:89: UserWarning: Glyph 44032 (\\N{HANGUL SYLLABLE GA}) missing from current font.\n",
      "  func(*args, **kwargs)\n",
      "c:\\Users\\user\\miniconda3\\envs\\py\\Lib\\site-packages\\IPython\\core\\events.py:89: UserWarning: Glyph 44201 (\\N{HANGUL SYLLABLE GYEOG}) missing from current font.\n",
      "  func(*args, **kwargs)\n",
      "c:\\Users\\user\\miniconda3\\envs\\py\\Lib\\site-packages\\IPython\\core\\events.py:89: UserWarning: Glyph 45380 (\\N{HANGUL SYLLABLE NYEON}) missing from current font.\n",
      "  func(*args, **kwargs)\n",
      "c:\\Users\\user\\miniconda3\\envs\\py\\Lib\\site-packages\\IPython\\core\\events.py:89: UserWarning: Glyph 49885 (\\N{HANGUL SYLLABLE SIG}) missing from current font.\n",
      "  func(*args, **kwargs)\n",
      "c:\\Users\\user\\miniconda3\\envs\\py\\Lib\\site-packages\\IPython\\core\\events.py:89: UserWarning: Glyph 51333 (\\N{HANGUL SYLLABLE JONG}) missing from current font.\n",
      "  func(*args, **kwargs)\n",
      "c:\\Users\\user\\miniconda3\\envs\\py\\Lib\\site-packages\\IPython\\core\\events.py:89: UserWarning: Glyph 47448 (\\N{HANGUL SYLLABLE RYU}) missing from current font.\n",
      "  func(*args, **kwargs)\n",
      "c:\\Users\\user\\miniconda3\\envs\\py\\Lib\\site-packages\\IPython\\core\\events.py:89: UserWarning: Glyph 50672 (\\N{HANGUL SYLLABLE YEON}) missing from current font.\n",
      "  func(*args, **kwargs)\n",
      "c:\\Users\\user\\miniconda3\\envs\\py\\Lib\\site-packages\\IPython\\core\\events.py:89: UserWarning: Glyph 48708 (\\N{HANGUL SYLLABLE BI}) missing from current font.\n",
      "  func(*args, **kwargs)\n",
      "c:\\Users\\user\\miniconda3\\envs\\py\\Lib\\site-packages\\IPython\\core\\events.py:89: UserWarning: Glyph 47560 (\\N{HANGUL SYLLABLE MA}) missing from current font.\n",
      "  func(*args, **kwargs)\n",
      "c:\\Users\\user\\miniconda3\\envs\\py\\Lib\\site-packages\\IPython\\core\\events.py:89: UserWarning: Glyph 47141 (\\N{HANGUL SYLLABLE RYEOG}) missing from current font.\n",
      "  func(*args, **kwargs)\n",
      "c:\\Users\\user\\miniconda3\\envs\\py\\Lib\\site-packages\\IPython\\core\\events.py:89: UserWarning: Glyph 53664 (\\N{HANGUL SYLLABLE TO}) missing from current font.\n",
      "  func(*args, **kwargs)\n",
      "c:\\Users\\user\\miniconda3\\envs\\py\\Lib\\site-packages\\IPython\\core\\events.py:89: UserWarning: Glyph 53356 (\\N{HANGUL SYLLABLE KEU}) missing from current font.\n",
      "  func(*args, **kwargs)\n",
      "c:\\Users\\user\\miniconda3\\envs\\py\\Lib\\site-packages\\IPython\\core\\events.py:89: UserWarning: Glyph 47308 (\\N{HANGUL SYLLABLE RYO}) missing from current font.\n",
      "  func(*args, **kwargs)\n",
      "c:\\Users\\user\\miniconda3\\envs\\py\\Lib\\site-packages\\IPython\\core\\events.py:89: UserWarning: Glyph 54616 (\\N{HANGUL SYLLABLE HA}) missing from current font.\n",
      "  func(*args, **kwargs)\n",
      "c:\\Users\\user\\miniconda3\\envs\\py\\Lib\\site-packages\\IPython\\core\\events.py:89: UserWarning: Glyph 51060 (\\N{HANGUL SYLLABLE I}) missing from current font.\n",
      "  func(*args, **kwargs)\n",
      "c:\\Users\\user\\miniconda3\\envs\\py\\Lib\\site-packages\\IPython\\core\\events.py:89: UserWarning: Glyph 48652 (\\N{HANGUL SYLLABLE BEU}) missing from current font.\n",
      "  func(*args, **kwargs)\n",
      "c:\\Users\\user\\miniconda3\\envs\\py\\Lib\\site-packages\\IPython\\core\\events.py:89: UserWarning: Glyph 47532 (\\N{HANGUL SYLLABLE RI}) missing from current font.\n",
      "  func(*args, **kwargs)\n",
      "c:\\Users\\user\\miniconda3\\envs\\py\\Lib\\site-packages\\IPython\\core\\events.py:89: UserWarning: Glyph 46300 (\\N{HANGUL SYLLABLE DEU}) missing from current font.\n",
      "  func(*args, **kwargs)\n",
      "c:\\Users\\user\\miniconda3\\envs\\py\\Lib\\site-packages\\IPython\\core\\events.py:89: UserWarning: Glyph 48176 (\\N{HANGUL SYLLABLE BAE}) missing from current font.\n",
      "  func(*args, **kwargs)\n",
      "c:\\Users\\user\\miniconda3\\envs\\py\\Lib\\site-packages\\IPython\\core\\events.py:89: UserWarning: Glyph 44592 (\\N{HANGUL SYLLABLE GI}) missing from current font.\n",
      "  func(*args, **kwargs)\n",
      "c:\\Users\\user\\miniconda3\\envs\\py\\Lib\\site-packages\\IPython\\core\\events.py:89: UserWarning: Glyph 47049 (\\N{HANGUL SYLLABLE RYANG}) missing from current font.\n",
      "  func(*args, **kwargs)\n",
      "c:\\Users\\user\\miniconda3\\envs\\py\\Lib\\site-packages\\IPython\\core\\events.py:89: UserWarning: Glyph 51473 (\\N{HANGUL SYLLABLE JUNG}) missing from current font.\n",
      "  func(*args, **kwargs)\n",
      "c:\\Users\\user\\miniconda3\\envs\\py\\Lib\\site-packages\\IPython\\core\\events.py:89: UserWarning: Glyph 48320 (\\N{HANGUL SYLLABLE BYEON}) missing from current font.\n",
      "  func(*args, **kwargs)\n",
      "c:\\Users\\user\\miniconda3\\envs\\py\\Lib\\site-packages\\IPython\\core\\events.py:89: UserWarning: Glyph 49549 (\\N{HANGUL SYLLABLE SOG}) missing from current font.\n",
      "  func(*args, **kwargs)\n",
      "c:\\Users\\user\\miniconda3\\envs\\py\\Lib\\site-packages\\IPython\\core\\pylabtools.py:152: UserWarning: Glyph 44032 (\\N{HANGUL SYLLABLE GA}) missing from current font.\n",
      "  fig.canvas.print_figure(bytes_io, **kw)\n",
      "c:\\Users\\user\\miniconda3\\envs\\py\\Lib\\site-packages\\IPython\\core\\pylabtools.py:152: UserWarning: Glyph 44201 (\\N{HANGUL SYLLABLE GYEOG}) missing from current font.\n",
      "  fig.canvas.print_figure(bytes_io, **kw)\n",
      "c:\\Users\\user\\miniconda3\\envs\\py\\Lib\\site-packages\\IPython\\core\\pylabtools.py:152: UserWarning: Glyph 45380 (\\N{HANGUL SYLLABLE NYEON}) missing from current font.\n",
      "  fig.canvas.print_figure(bytes_io, **kw)\n",
      "c:\\Users\\user\\miniconda3\\envs\\py\\Lib\\site-packages\\IPython\\core\\pylabtools.py:152: UserWarning: Glyph 49885 (\\N{HANGUL SYLLABLE SIG}) missing from current font.\n",
      "  fig.canvas.print_figure(bytes_io, **kw)\n",
      "c:\\Users\\user\\miniconda3\\envs\\py\\Lib\\site-packages\\IPython\\core\\pylabtools.py:152: UserWarning: Glyph 51333 (\\N{HANGUL SYLLABLE JONG}) missing from current font.\n",
      "  fig.canvas.print_figure(bytes_io, **kw)\n",
      "c:\\Users\\user\\miniconda3\\envs\\py\\Lib\\site-packages\\IPython\\core\\pylabtools.py:152: UserWarning: Glyph 47448 (\\N{HANGUL SYLLABLE RYU}) missing from current font.\n",
      "  fig.canvas.print_figure(bytes_io, **kw)\n",
      "c:\\Users\\user\\miniconda3\\envs\\py\\Lib\\site-packages\\IPython\\core\\pylabtools.py:152: UserWarning: Glyph 50672 (\\N{HANGUL SYLLABLE YEON}) missing from current font.\n",
      "  fig.canvas.print_figure(bytes_io, **kw)\n",
      "c:\\Users\\user\\miniconda3\\envs\\py\\Lib\\site-packages\\IPython\\core\\pylabtools.py:152: UserWarning: Glyph 48708 (\\N{HANGUL SYLLABLE BI}) missing from current font.\n",
      "  fig.canvas.print_figure(bytes_io, **kw)\n",
      "c:\\Users\\user\\miniconda3\\envs\\py\\Lib\\site-packages\\IPython\\core\\pylabtools.py:152: UserWarning: Glyph 47560 (\\N{HANGUL SYLLABLE MA}) missing from current font.\n",
      "  fig.canvas.print_figure(bytes_io, **kw)\n",
      "c:\\Users\\user\\miniconda3\\envs\\py\\Lib\\site-packages\\IPython\\core\\pylabtools.py:152: UserWarning: Glyph 47141 (\\N{HANGUL SYLLABLE RYEOG}) missing from current font.\n",
      "  fig.canvas.print_figure(bytes_io, **kw)\n",
      "c:\\Users\\user\\miniconda3\\envs\\py\\Lib\\site-packages\\IPython\\core\\pylabtools.py:152: UserWarning: Glyph 53664 (\\N{HANGUL SYLLABLE TO}) missing from current font.\n",
      "  fig.canvas.print_figure(bytes_io, **kw)\n",
      "c:\\Users\\user\\miniconda3\\envs\\py\\Lib\\site-packages\\IPython\\core\\pylabtools.py:152: UserWarning: Glyph 53356 (\\N{HANGUL SYLLABLE KEU}) missing from current font.\n",
      "  fig.canvas.print_figure(bytes_io, **kw)\n",
      "c:\\Users\\user\\miniconda3\\envs\\py\\Lib\\site-packages\\IPython\\core\\pylabtools.py:152: UserWarning: Glyph 47308 (\\N{HANGUL SYLLABLE RYO}) missing from current font.\n",
      "  fig.canvas.print_figure(bytes_io, **kw)\n",
      "c:\\Users\\user\\miniconda3\\envs\\py\\Lib\\site-packages\\IPython\\core\\pylabtools.py:152: UserWarning: Glyph 54616 (\\N{HANGUL SYLLABLE HA}) missing from current font.\n",
      "  fig.canvas.print_figure(bytes_io, **kw)\n",
      "c:\\Users\\user\\miniconda3\\envs\\py\\Lib\\site-packages\\IPython\\core\\pylabtools.py:152: UserWarning: Glyph 51060 (\\N{HANGUL SYLLABLE I}) missing from current font.\n",
      "  fig.canvas.print_figure(bytes_io, **kw)\n",
      "c:\\Users\\user\\miniconda3\\envs\\py\\Lib\\site-packages\\IPython\\core\\pylabtools.py:152: UserWarning: Glyph 48652 (\\N{HANGUL SYLLABLE BEU}) missing from current font.\n",
      "  fig.canvas.print_figure(bytes_io, **kw)\n",
      "c:\\Users\\user\\miniconda3\\envs\\py\\Lib\\site-packages\\IPython\\core\\pylabtools.py:152: UserWarning: Glyph 47532 (\\N{HANGUL SYLLABLE RI}) missing from current font.\n",
      "  fig.canvas.print_figure(bytes_io, **kw)\n",
      "c:\\Users\\user\\miniconda3\\envs\\py\\Lib\\site-packages\\IPython\\core\\pylabtools.py:152: UserWarning: Glyph 46300 (\\N{HANGUL SYLLABLE DEU}) missing from current font.\n",
      "  fig.canvas.print_figure(bytes_io, **kw)\n",
      "c:\\Users\\user\\miniconda3\\envs\\py\\Lib\\site-packages\\IPython\\core\\pylabtools.py:152: UserWarning: Glyph 48176 (\\N{HANGUL SYLLABLE BAE}) missing from current font.\n",
      "  fig.canvas.print_figure(bytes_io, **kw)\n",
      "c:\\Users\\user\\miniconda3\\envs\\py\\Lib\\site-packages\\IPython\\core\\pylabtools.py:152: UserWarning: Glyph 44592 (\\N{HANGUL SYLLABLE GI}) missing from current font.\n",
      "  fig.canvas.print_figure(bytes_io, **kw)\n",
      "c:\\Users\\user\\miniconda3\\envs\\py\\Lib\\site-packages\\IPython\\core\\pylabtools.py:152: UserWarning: Glyph 47049 (\\N{HANGUL SYLLABLE RYANG}) missing from current font.\n",
      "  fig.canvas.print_figure(bytes_io, **kw)\n",
      "c:\\Users\\user\\miniconda3\\envs\\py\\Lib\\site-packages\\IPython\\core\\pylabtools.py:152: UserWarning: Glyph 51473 (\\N{HANGUL SYLLABLE JUNG}) missing from current font.\n",
      "  fig.canvas.print_figure(bytes_io, **kw)\n",
      "c:\\Users\\user\\miniconda3\\envs\\py\\Lib\\site-packages\\IPython\\core\\pylabtools.py:152: UserWarning: Glyph 48320 (\\N{HANGUL SYLLABLE BYEON}) missing from current font.\n",
      "  fig.canvas.print_figure(bytes_io, **kw)\n",
      "c:\\Users\\user\\miniconda3\\envs\\py\\Lib\\site-packages\\IPython\\core\\pylabtools.py:152: UserWarning: Glyph 49549 (\\N{HANGUL SYLLABLE SOG}) missing from current font.\n",
      "  fig.canvas.print_figure(bytes_io, **kw)\n"
     ]
    },
    {
     "data": {
      "image/png": "[encoded data removed]",
      "text/plain": [
       "<Figure size 640x480 with 1 Axes>"
      ]
     },
     "metadata": {},
     "output_type": "display_data"
    }
   ],
   "source": [
    "tmp = df.isna().sum()\n",
    "# plt.bar(tmp.index, tmp)\n",
    "\n",
    "## 결측치 시각화를 통해서 빠르게 확인가능\n",
    "## 파이썬 결측치 시각화\n",
    "import seaborn as sns\n",
    "sns.heatmap(df.isnull(), cbar = False)"
   ]
  },
  {
   "cell_type": "code",
   "execution_count": 128,
   "metadata": {},
   "outputs": [
    {
     "data": {
      "text/html": [
       "<div>\n",
       "<style scoped>\n",
       "    .dataframe tbody tr th:only-of-type {\n",
       "        vertical-align: middle;\n",
       "    }\n",
       "\n",
       "    .dataframe tbody tr th {\n",
       "        vertical-align: top;\n",
       "    }\n",
       "\n",
       "    .dataframe thead th {\n",
       "        text-align: right;\n",
       "    }\n",
       "</style>\n",
       "<table border=\"1\" class=\"dataframe\">\n",
       "  <thead>\n",
       "    <tr style=\"text-align: right;\">\n",
       "      <th></th>\n",
       "      <th>년식</th>\n",
       "      <th>종류</th>\n",
       "      <th>연비</th>\n",
       "      <th>마력</th>\n",
       "      <th>토크</th>\n",
       "      <th>연료</th>\n",
       "      <th>하이브리드</th>\n",
       "      <th>배기량</th>\n",
       "      <th>중량</th>\n",
       "      <th>변속기</th>\n",
       "    </tr>\n",
       "  </thead>\n",
       "  <tbody>\n",
       "    <tr>\n",
       "      <th>0</th>\n",
       "      <td>2015</td>\n",
       "      <td>준중형</td>\n",
       "      <td>11.8</td>\n",
       "      <td>172</td>\n",
       "      <td>21.0</td>\n",
       "      <td>가솔린</td>\n",
       "      <td>0</td>\n",
       "      <td>1999</td>\n",
       "      <td>1300</td>\n",
       "      <td>자동</td>\n",
       "    </tr>\n",
       "    <tr>\n",
       "      <th>1</th>\n",
       "      <td>2015</td>\n",
       "      <td>준중형</td>\n",
       "      <td>12.3</td>\n",
       "      <td>204</td>\n",
       "      <td>27.0</td>\n",
       "      <td>가솔린</td>\n",
       "      <td>0</td>\n",
       "      <td>1591</td>\n",
       "      <td>1300</td>\n",
       "      <td>자동</td>\n",
       "    </tr>\n",
       "    <tr>\n",
       "      <th>2</th>\n",
       "      <td>2015</td>\n",
       "      <td>소형</td>\n",
       "      <td>15.0</td>\n",
       "      <td>100</td>\n",
       "      <td>13.6</td>\n",
       "      <td>가솔린</td>\n",
       "      <td>0</td>\n",
       "      <td>1368</td>\n",
       "      <td>1035</td>\n",
       "      <td>수동</td>\n",
       "    </tr>\n",
       "    <tr>\n",
       "      <th>3</th>\n",
       "      <td>2014</td>\n",
       "      <td>소형</td>\n",
       "      <td>14.0</td>\n",
       "      <td>140</td>\n",
       "      <td>17.0</td>\n",
       "      <td>가솔린</td>\n",
       "      <td>0</td>\n",
       "      <td>1591</td>\n",
       "      <td>1090</td>\n",
       "      <td>자동</td>\n",
       "    </tr>\n",
       "    <tr>\n",
       "      <th>4</th>\n",
       "      <td>2015</td>\n",
       "      <td>대형</td>\n",
       "      <td>9.6</td>\n",
       "      <td>175</td>\n",
       "      <td>46.0</td>\n",
       "      <td>디젤</td>\n",
       "      <td>0</td>\n",
       "      <td>2497</td>\n",
       "      <td>1990</td>\n",
       "      <td>자동</td>\n",
       "    </tr>\n",
       "    <tr>\n",
       "      <th>...</th>\n",
       "      <td>...</td>\n",
       "      <td>...</td>\n",
       "      <td>...</td>\n",
       "      <td>...</td>\n",
       "      <td>...</td>\n",
       "      <td>...</td>\n",
       "      <td>...</td>\n",
       "      <td>...</td>\n",
       "      <td>...</td>\n",
       "      <td>...</td>\n",
       "    </tr>\n",
       "    <tr>\n",
       "      <th>26</th>\n",
       "      <td>2015</td>\n",
       "      <td>대형</td>\n",
       "      <td>8.9</td>\n",
       "      <td>334</td>\n",
       "      <td>40.3</td>\n",
       "      <td>가솔린</td>\n",
       "      <td>0</td>\n",
       "      <td>3778</td>\n",
       "      <td>1915</td>\n",
       "      <td>자동</td>\n",
       "    </tr>\n",
       "    <tr>\n",
       "      <th>27</th>\n",
       "      <td>2015</td>\n",
       "      <td>대형</td>\n",
       "      <td>8.7</td>\n",
       "      <td>175</td>\n",
       "      <td>46.0</td>\n",
       "      <td>디젤</td>\n",
       "      <td>0</td>\n",
       "      <td>2497</td>\n",
       "      <td>2383</td>\n",
       "      <td>수동</td>\n",
       "    </tr>\n",
       "    <tr>\n",
       "      <th>28</th>\n",
       "      <td>2015</td>\n",
       "      <td>대형</td>\n",
       "      <td>9.6</td>\n",
       "      <td>175</td>\n",
       "      <td>46.0</td>\n",
       "      <td>디젤</td>\n",
       "      <td>0</td>\n",
       "      <td>2497</td>\n",
       "      <td>1990</td>\n",
       "      <td>자동</td>\n",
       "    </tr>\n",
       "    <tr>\n",
       "      <th>29</th>\n",
       "      <td>2010</td>\n",
       "      <td>소형</td>\n",
       "      <td>13.0</td>\n",
       "      <td>95</td>\n",
       "      <td>12.7</td>\n",
       "      <td>가솔린</td>\n",
       "      <td>0</td>\n",
       "      <td>1399</td>\n",
       "      <td>1046</td>\n",
       "      <td>자동</td>\n",
       "    </tr>\n",
       "    <tr>\n",
       "      <th>30</th>\n",
       "      <td>2015</td>\n",
       "      <td>중형</td>\n",
       "      <td>14.8</td>\n",
       "      <td>200</td>\n",
       "      <td>43.0</td>\n",
       "      <td>디젤</td>\n",
       "      <td>0</td>\n",
       "      <td>2199</td>\n",
       "      <td>1760</td>\n",
       "      <td>수동</td>\n",
       "    </tr>\n",
       "  </tbody>\n",
       "</table>\n",
       "<p>102 rows × 10 columns</p>\n",
       "</div>"
      ],
      "text/plain": [
       "      년식   종류    연비   마력    토크   연료  하이브리드   배기량    중량 변속기\n",
       "0   2015  준중형  11.8  172  21.0  가솔린      0  1999  1300  자동\n",
       "1   2015  준중형  12.3  204  27.0  가솔린      0  1591  1300  자동\n",
       "2   2015   소형  15.0  100  13.6  가솔린      0  1368  1035  수동\n",
       "3   2014   소형  14.0  140  17.0  가솔린      0  1591  1090  자동\n",
       "4   2015   대형   9.6  175  46.0   디젤      0  2497  1990  자동\n",
       "..   ...  ...   ...  ...   ...  ...    ...   ...   ...  ..\n",
       "26  2015   대형   8.9  334  40.3  가솔린      0  3778  1915  자동\n",
       "27  2015   대형   8.7  175  46.0   디젤      0  2497  2383  수동\n",
       "28  2015   대형   9.6  175  46.0   디젤      0  2497  1990  자동\n",
       "29  2010   소형  13.0   95  12.7  가솔린      0  1399  1046  자동\n",
       "30  2015   중형  14.8  200  43.0   디젤      0  2199  1760  수동\n",
       "\n",
       "[102 rows x 10 columns]"
      ]
     },
     "execution_count": 128,
     "metadata": {},
     "output_type": "execute_result"
    }
   ],
   "source": [
    "## x, y 변수를 나누고 y값에 영향을 주는 x값을 알기위해서는 EDA를 실행해야함. (6월2일 금요일)\n",
    "## 현대 자동차 가격을 예측하는 회귀분석\n",
    "y_data = df['가격'] # 가격에 대한 데이터\n",
    "# x_data = df.drop(['가격'], axis=1) # 가격에 대한 데이터를 뺀 나머지 데이터\n",
    "# x_data"
   ]
  },
  {
   "cell_type": "code",
   "execution_count": 150,
   "metadata": {},
   "outputs": [],
   "source": [
    "### x데이터의 문자형식이 어떤 자료가 있는지 확인\n",
    "df.dtypes\n",
    "\n",
    "# object 타입의 데이터는 getdummies를 시켜줘야한다.\n",
    "# 문자자료의 원핫인코딩화\n",
    "xdummy = pd.get_dummies(df)\n",
    "xdummy = xdummy.drop(['가격'], axis=1) # 가격에 대한 데이터를 뺀 나머지 데이터"
   ]
  },
  {
   "cell_type": "code",
   "execution_count": 151,
   "metadata": {},
   "outputs": [],
   "source": [
    "# 훈련과 테스트데이터로 분리\n",
    "# 훈련자료를 70%로 지정하고, 항상 같은 자료로 나눌수 있도록 설정\n",
    "from sklearn.model_selection import train_test_split\n",
    "x_train, x_test, y_train, y_test = train_test_split(xdummy, \n",
    "                                                    y_data, \n",
    "                                                    test_size=0.3, \n",
    "                                                    random_state=777, \n",
    "                                                    # stratify = y_data\n",
    "                                                    )\n",
    "\n",
    "# 권장사항 (스케일링)\n",
    "from sklearn.preprocessing import MinMaxScaler\n",
    "scaler = MinMaxScaler()\n",
    "scaler.fit(x_train) # x_train의 min과 max값을 추출하는 과정\n",
    "scaler.data_min_, scaler.data_max_   # 확인용\n",
    "# [0] 가장 큰 값은  2010년 [0] 가장 작은 값은 2015년+1000...\n",
    "\n",
    "x_train = scaler.transform(x_train) # 스케일링을 진행, 두번 실행하면 안됨\n",
    "x_test = scaler.transform(x_test) # 스케일링을 진행"
   ]
  },
  {
   "cell_type": "code",
   "execution_count": null,
   "metadata": {},
   "outputs": [],
   "source": []
  },
  {
   "cell_type": "code",
   "execution_count": null,
   "metadata": {},
   "outputs": [],
   "source": []
  },
  {
   "cell_type": "code",
   "execution_count": null,
   "metadata": {},
   "outputs": [],
   "source": []
  },
  {
   "cell_type": "code",
   "execution_count": null,
   "metadata": {},
   "outputs": [],
   "source": []
  },
  {
   "cell_type": "code",
   "execution_count": null,
   "metadata": {},
   "outputs": [],
   "source": []
  },
  {
   "cell_type": "code",
   "execution_count": null,
   "metadata": {},
   "outputs": [],
   "source": []
  },
  {
   "cell_type": "code",
   "execution_count": null,
   "metadata": {},
   "outputs": [],
   "source": []
  },
  {
   "cell_type": "code",
   "execution_count": null,
   "metadata": {},
   "outputs": [],
   "source": []
  },
  {
   "cell_type": "code",
   "execution_count": null,
   "metadata": {},
   "outputs": [],
   "source": []
  },
  {
   "cell_type": "code",
   "execution_count": null,
   "metadata": {},
   "outputs": [],
   "source": []
  },
  {
   "cell_type": "code",
   "execution_count": null,
   "metadata": {},
   "outputs": [],
   "source": []
  },
  {
   "cell_type": "code",
   "execution_count": null,
   "metadata": {},
   "outputs": [],
   "source": []
  }
 ],
 "metadata": {
  "kernelspec": {
   "display_name": "py",
   "language": "python",
   "name": "python3"
  },
  "language_info": {
   "codemirror_mode": {
    "name": "ipython",
    "version": 3
   },
   "file_extension": ".py",
   "mimetype": "text/x-python",
   "name": "python",
   "nbconvert_exporter": "python",
   "pygments_lexer": "ipython3",
   "version": "3.11.3"
  },
  "orig_nbformat": 4
 },
 "nbformat": 4,
 "nbformat_minor": 2
}
